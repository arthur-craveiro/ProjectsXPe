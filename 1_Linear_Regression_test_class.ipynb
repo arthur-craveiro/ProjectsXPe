{
  "nbformat": 4,
  "nbformat_minor": 0,
  "metadata": {
    "colab": {
      "provenance": [],
      "authorship_tag": "ABX9TyPTHHRsnn5tV57B/e0bwF4e",
      "include_colab_link": true
    },
    "kernelspec": {
      "name": "python3",
      "display_name": "Python 3"
    },
    "language_info": {
      "name": "python"
    }
  },
  "cells": [
    {
      "cell_type": "markdown",
      "metadata": {
        "id": "view-in-github",
        "colab_type": "text"
      },
      "source": [
        "<a href=\"https://colab.research.google.com/github/arthur-craveiro/ProjectsXPe/blob/main/1_Linear_Regression_test_class.ipynb\" target=\"_parent\"><img src=\"https://colab.research.google.com/assets/colab-badge.svg\" alt=\"Open In Colab\"/></a>"
      ]
    },
    {
      "cell_type": "markdown",
      "source": [
        "## Importando as Biblitoecas\n",
        "\n"
      ],
      "metadata": {
        "id": "_lAvKNA2TJDb"
      }
    },
    {
      "cell_type": "code",
      "source": [
        "# Biblioteca para fazer manipulação de data-frames\n",
        "import pandas as pd\n",
        "\n",
        "# Biblioteca para visualização gráfica\n",
        "import plotly.express as px\n",
        "\n",
        "# Biblioteca para análises gráfica\n",
        "import seaborn as sns\n",
        "\n",
        "# Biblioteca para funções matemáticas de alto nível\n",
        "import numpy as np\n",
        "\n",
        "# Biblioteca para métricas de avaliação\n",
        "from sklearn.metrics import mean_absolute_error, mean_squared_error"
      ],
      "metadata": {
        "id": "35o6Qe84TN9u"
      },
      "execution_count": null,
      "outputs": []
    },
    {
      "cell_type": "markdown",
      "source": [
        "## Coletando Dados"
      ],
      "metadata": {
        "id": "Yk4iGiASUNKZ"
      }
    },
    {
      "cell_type": "code",
      "source": [
        "# Clicar no arquivo de custo_diaria.csv > ... > copiar caminho\n",
        "custo_diaria = pd.read_csv('/content/custo_diaria.csv', sep= ';')\n",
        "# sep é o separador"
      ],
      "metadata": {
        "id": "KPkqhaD_UPfh"
      },
      "execution_count": null,
      "outputs": []
    },
    {
      "cell_type": "markdown",
      "source": [
        "## Analisando os dados coletados"
      ],
      "metadata": {
        "id": "OdPF_7MIU2yw"
      }
    },
    {
      "cell_type": "code",
      "source": [
        "# Visualizando arquivos da base de dados\n",
        "custo_diaria.head()\n",
        "# head vê os 5 primeiros valores da base"
      ],
      "metadata": {
        "colab": {
          "base_uri": "https://localhost:8080/",
          "height": 206
        },
        "id": "oxFHv57sU5wC",
        "outputId": "db0cff39-bb88-4025-b769-7af54aba5c17"
      },
      "execution_count": null,
      "outputs": [
        {
          "output_type": "execute_result",
          "data": {
            "text/plain": [
              "   qtd_pessoas  valor_diaria\n",
              "0            1           150\n",
              "1            4           385\n",
              "2            6           499\n",
              "3           10           680\n",
              "4           13           735"
            ],
            "text/html": [
              "\n",
              "  <div id=\"df-102e213e-4320-4952-83d1-526b5671be6d\">\n",
              "    <div class=\"colab-df-container\">\n",
              "      <div>\n",
              "<style scoped>\n",
              "    .dataframe tbody tr th:only-of-type {\n",
              "        vertical-align: middle;\n",
              "    }\n",
              "\n",
              "    .dataframe tbody tr th {\n",
              "        vertical-align: top;\n",
              "    }\n",
              "\n",
              "    .dataframe thead th {\n",
              "        text-align: right;\n",
              "    }\n",
              "</style>\n",
              "<table border=\"1\" class=\"dataframe\">\n",
              "  <thead>\n",
              "    <tr style=\"text-align: right;\">\n",
              "      <th></th>\n",
              "      <th>qtd_pessoas</th>\n",
              "      <th>valor_diaria</th>\n",
              "    </tr>\n",
              "  </thead>\n",
              "  <tbody>\n",
              "    <tr>\n",
              "      <th>0</th>\n",
              "      <td>1</td>\n",
              "      <td>150</td>\n",
              "    </tr>\n",
              "    <tr>\n",
              "      <th>1</th>\n",
              "      <td>4</td>\n",
              "      <td>385</td>\n",
              "    </tr>\n",
              "    <tr>\n",
              "      <th>2</th>\n",
              "      <td>6</td>\n",
              "      <td>499</td>\n",
              "    </tr>\n",
              "    <tr>\n",
              "      <th>3</th>\n",
              "      <td>10</td>\n",
              "      <td>680</td>\n",
              "    </tr>\n",
              "    <tr>\n",
              "      <th>4</th>\n",
              "      <td>13</td>\n",
              "      <td>735</td>\n",
              "    </tr>\n",
              "  </tbody>\n",
              "</table>\n",
              "</div>\n",
              "      <button class=\"colab-df-convert\" onclick=\"convertToInteractive('df-102e213e-4320-4952-83d1-526b5671be6d')\"\n",
              "              title=\"Convert this dataframe to an interactive table.\"\n",
              "              style=\"display:none;\">\n",
              "        \n",
              "  <svg xmlns=\"http://www.w3.org/2000/svg\" height=\"24px\"viewBox=\"0 0 24 24\"\n",
              "       width=\"24px\">\n",
              "    <path d=\"M0 0h24v24H0V0z\" fill=\"none\"/>\n",
              "    <path d=\"M18.56 5.44l.94 2.06.94-2.06 2.06-.94-2.06-.94-.94-2.06-.94 2.06-2.06.94zm-11 1L8.5 8.5l.94-2.06 2.06-.94-2.06-.94L8.5 2.5l-.94 2.06-2.06.94zm10 10l.94 2.06.94-2.06 2.06-.94-2.06-.94-.94-2.06-.94 2.06-2.06.94z\"/><path d=\"M17.41 7.96l-1.37-1.37c-.4-.4-.92-.59-1.43-.59-.52 0-1.04.2-1.43.59L10.3 9.45l-7.72 7.72c-.78.78-.78 2.05 0 2.83L4 21.41c.39.39.9.59 1.41.59.51 0 1.02-.2 1.41-.59l7.78-7.78 2.81-2.81c.8-.78.8-2.07 0-2.86zM5.41 20L4 18.59l7.72-7.72 1.47 1.35L5.41 20z\"/>\n",
              "  </svg>\n",
              "      </button>\n",
              "      \n",
              "  <style>\n",
              "    .colab-df-container {\n",
              "      display:flex;\n",
              "      flex-wrap:wrap;\n",
              "      gap: 12px;\n",
              "    }\n",
              "\n",
              "    .colab-df-convert {\n",
              "      background-color: #E8F0FE;\n",
              "      border: none;\n",
              "      border-radius: 50%;\n",
              "      cursor: pointer;\n",
              "      display: none;\n",
              "      fill: #1967D2;\n",
              "      height: 32px;\n",
              "      padding: 0 0 0 0;\n",
              "      width: 32px;\n",
              "    }\n",
              "\n",
              "    .colab-df-convert:hover {\n",
              "      background-color: #E2EBFA;\n",
              "      box-shadow: 0px 1px 2px rgba(60, 64, 67, 0.3), 0px 1px 3px 1px rgba(60, 64, 67, 0.15);\n",
              "      fill: #174EA6;\n",
              "    }\n",
              "\n",
              "    [theme=dark] .colab-df-convert {\n",
              "      background-color: #3B4455;\n",
              "      fill: #D2E3FC;\n",
              "    }\n",
              "\n",
              "    [theme=dark] .colab-df-convert:hover {\n",
              "      background-color: #434B5C;\n",
              "      box-shadow: 0px 1px 3px 1px rgba(0, 0, 0, 0.15);\n",
              "      filter: drop-shadow(0px 1px 2px rgba(0, 0, 0, 0.3));\n",
              "      fill: #FFFFFF;\n",
              "    }\n",
              "  </style>\n",
              "\n",
              "      <script>\n",
              "        const buttonEl =\n",
              "          document.querySelector('#df-102e213e-4320-4952-83d1-526b5671be6d button.colab-df-convert');\n",
              "        buttonEl.style.display =\n",
              "          google.colab.kernel.accessAllowed ? 'block' : 'none';\n",
              "\n",
              "        async function convertToInteractive(key) {\n",
              "          const element = document.querySelector('#df-102e213e-4320-4952-83d1-526b5671be6d');\n",
              "          const dataTable =\n",
              "            await google.colab.kernel.invokeFunction('convertToInteractive',\n",
              "                                                     [key], {});\n",
              "          if (!dataTable) return;\n",
              "\n",
              "          const docLinkHtml = 'Like what you see? Visit the ' +\n",
              "            '<a target=\"_blank\" href=https://colab.research.google.com/notebooks/data_table.ipynb>data table notebook</a>'\n",
              "            + ' to learn more about interactive tables.';\n",
              "          element.innerHTML = '';\n",
              "          dataTable['output_type'] = 'display_data';\n",
              "          await google.colab.output.renderOutput(dataTable, element);\n",
              "          const docLink = document.createElement('div');\n",
              "          docLink.innerHTML = docLinkHtml;\n",
              "          element.appendChild(docLink);\n",
              "        }\n",
              "      </script>\n",
              "    </div>\n",
              "  </div>\n",
              "  "
            ]
          },
          "metadata": {},
          "execution_count": 3
        }
      ]
    },
    {
      "cell_type": "code",
      "source": [
        "# Gerando algumas estatísticas da base de dados\n",
        "custo_diaria.describe()\n",
        "\n",
        "# std é desvio padrão"
      ],
      "metadata": {
        "colab": {
          "base_uri": "https://localhost:8080/",
          "height": 300
        },
        "id": "BOEAj5OJVHFN",
        "outputId": "930d5b96-c4d7-43fe-e8e7-7d2ecac7ae71"
      },
      "execution_count": null,
      "outputs": [
        {
          "output_type": "execute_result",
          "data": {
            "text/plain": [
              "       qtd_pessoas  valor_diaria\n",
              "count    15.000000     15.000000\n",
              "mean     24.533333   1348.600000\n",
              "std      16.796542    823.087116\n",
              "min       1.000000    150.000000\n",
              "25%      11.500000    707.500000\n",
              "50%      22.000000   1075.000000\n",
              "75%      41.000000   2044.500000\n",
              "max      50.000000   2680.000000"
            ],
            "text/html": [
              "\n",
              "  <div id=\"df-e367d274-8994-4195-9488-40e05f9b386d\">\n",
              "    <div class=\"colab-df-container\">\n",
              "      <div>\n",
              "<style scoped>\n",
              "    .dataframe tbody tr th:only-of-type {\n",
              "        vertical-align: middle;\n",
              "    }\n",
              "\n",
              "    .dataframe tbody tr th {\n",
              "        vertical-align: top;\n",
              "    }\n",
              "\n",
              "    .dataframe thead th {\n",
              "        text-align: right;\n",
              "    }\n",
              "</style>\n",
              "<table border=\"1\" class=\"dataframe\">\n",
              "  <thead>\n",
              "    <tr style=\"text-align: right;\">\n",
              "      <th></th>\n",
              "      <th>qtd_pessoas</th>\n",
              "      <th>valor_diaria</th>\n",
              "    </tr>\n",
              "  </thead>\n",
              "  <tbody>\n",
              "    <tr>\n",
              "      <th>count</th>\n",
              "      <td>15.000000</td>\n",
              "      <td>15.000000</td>\n",
              "    </tr>\n",
              "    <tr>\n",
              "      <th>mean</th>\n",
              "      <td>24.533333</td>\n",
              "      <td>1348.600000</td>\n",
              "    </tr>\n",
              "    <tr>\n",
              "      <th>std</th>\n",
              "      <td>16.796542</td>\n",
              "      <td>823.087116</td>\n",
              "    </tr>\n",
              "    <tr>\n",
              "      <th>min</th>\n",
              "      <td>1.000000</td>\n",
              "      <td>150.000000</td>\n",
              "    </tr>\n",
              "    <tr>\n",
              "      <th>25%</th>\n",
              "      <td>11.500000</td>\n",
              "      <td>707.500000</td>\n",
              "    </tr>\n",
              "    <tr>\n",
              "      <th>50%</th>\n",
              "      <td>22.000000</td>\n",
              "      <td>1075.000000</td>\n",
              "    </tr>\n",
              "    <tr>\n",
              "      <th>75%</th>\n",
              "      <td>41.000000</td>\n",
              "      <td>2044.500000</td>\n",
              "    </tr>\n",
              "    <tr>\n",
              "      <th>max</th>\n",
              "      <td>50.000000</td>\n",
              "      <td>2680.000000</td>\n",
              "    </tr>\n",
              "  </tbody>\n",
              "</table>\n",
              "</div>\n",
              "      <button class=\"colab-df-convert\" onclick=\"convertToInteractive('df-e367d274-8994-4195-9488-40e05f9b386d')\"\n",
              "              title=\"Convert this dataframe to an interactive table.\"\n",
              "              style=\"display:none;\">\n",
              "        \n",
              "  <svg xmlns=\"http://www.w3.org/2000/svg\" height=\"24px\"viewBox=\"0 0 24 24\"\n",
              "       width=\"24px\">\n",
              "    <path d=\"M0 0h24v24H0V0z\" fill=\"none\"/>\n",
              "    <path d=\"M18.56 5.44l.94 2.06.94-2.06 2.06-.94-2.06-.94-.94-2.06-.94 2.06-2.06.94zm-11 1L8.5 8.5l.94-2.06 2.06-.94-2.06-.94L8.5 2.5l-.94 2.06-2.06.94zm10 10l.94 2.06.94-2.06 2.06-.94-2.06-.94-.94-2.06-.94 2.06-2.06.94z\"/><path d=\"M17.41 7.96l-1.37-1.37c-.4-.4-.92-.59-1.43-.59-.52 0-1.04.2-1.43.59L10.3 9.45l-7.72 7.72c-.78.78-.78 2.05 0 2.83L4 21.41c.39.39.9.59 1.41.59.51 0 1.02-.2 1.41-.59l7.78-7.78 2.81-2.81c.8-.78.8-2.07 0-2.86zM5.41 20L4 18.59l7.72-7.72 1.47 1.35L5.41 20z\"/>\n",
              "  </svg>\n",
              "      </button>\n",
              "      \n",
              "  <style>\n",
              "    .colab-df-container {\n",
              "      display:flex;\n",
              "      flex-wrap:wrap;\n",
              "      gap: 12px;\n",
              "    }\n",
              "\n",
              "    .colab-df-convert {\n",
              "      background-color: #E8F0FE;\n",
              "      border: none;\n",
              "      border-radius: 50%;\n",
              "      cursor: pointer;\n",
              "      display: none;\n",
              "      fill: #1967D2;\n",
              "      height: 32px;\n",
              "      padding: 0 0 0 0;\n",
              "      width: 32px;\n",
              "    }\n",
              "\n",
              "    .colab-df-convert:hover {\n",
              "      background-color: #E2EBFA;\n",
              "      box-shadow: 0px 1px 2px rgba(60, 64, 67, 0.3), 0px 1px 3px 1px rgba(60, 64, 67, 0.15);\n",
              "      fill: #174EA6;\n",
              "    }\n",
              "\n",
              "    [theme=dark] .colab-df-convert {\n",
              "      background-color: #3B4455;\n",
              "      fill: #D2E3FC;\n",
              "    }\n",
              "\n",
              "    [theme=dark] .colab-df-convert:hover {\n",
              "      background-color: #434B5C;\n",
              "      box-shadow: 0px 1px 3px 1px rgba(0, 0, 0, 0.15);\n",
              "      filter: drop-shadow(0px 1px 2px rgba(0, 0, 0, 0.3));\n",
              "      fill: #FFFFFF;\n",
              "    }\n",
              "  </style>\n",
              "\n",
              "      <script>\n",
              "        const buttonEl =\n",
              "          document.querySelector('#df-e367d274-8994-4195-9488-40e05f9b386d button.colab-df-convert');\n",
              "        buttonEl.style.display =\n",
              "          google.colab.kernel.accessAllowed ? 'block' : 'none';\n",
              "\n",
              "        async function convertToInteractive(key) {\n",
              "          const element = document.querySelector('#df-e367d274-8994-4195-9488-40e05f9b386d');\n",
              "          const dataTable =\n",
              "            await google.colab.kernel.invokeFunction('convertToInteractive',\n",
              "                                                     [key], {});\n",
              "          if (!dataTable) return;\n",
              "\n",
              "          const docLinkHtml = 'Like what you see? Visit the ' +\n",
              "            '<a target=\"_blank\" href=https://colab.research.google.com/notebooks/data_table.ipynb>data table notebook</a>'\n",
              "            + ' to learn more about interactive tables.';\n",
              "          element.innerHTML = '';\n",
              "          dataTable['output_type'] = 'display_data';\n",
              "          await google.colab.output.renderOutput(dataTable, element);\n",
              "          const docLink = document.createElement('div');\n",
              "          docLink.innerHTML = docLinkHtml;\n",
              "          element.appendChild(docLink);\n",
              "        }\n",
              "      </script>\n",
              "    </div>\n",
              "  </div>\n",
              "  "
            ]
          },
          "metadata": {},
          "execution_count": 4
        }
      ]
    },
    {
      "cell_type": "code",
      "source": [
        "# Verificando se existe algum valor nulo ou ausente -> função isna()\n",
        "custo_diaria.isna().sum()\n",
        "# sum() conta a quantidade"
      ],
      "metadata": {
        "colab": {
          "base_uri": "https://localhost:8080/"
        },
        "id": "RrgeMFvDVbd7",
        "outputId": "a37e930d-20d3-454a-f02d-72a095ca535d"
      },
      "execution_count": null,
      "outputs": [
        {
          "output_type": "execute_result",
          "data": {
            "text/plain": [
              "qtd_pessoas     0\n",
              "valor_diaria    0\n",
              "dtype: int64"
            ]
          },
          "metadata": {},
          "execution_count": 5
        }
      ]
    },
    {
      "cell_type": "code",
      "source": [
        "# Verificando informações da base de dados -> Se todas as informações estão adequadas ao seu formato\n",
        "custo_diaria.info()"
      ],
      "metadata": {
        "colab": {
          "base_uri": "https://localhost:8080/"
        },
        "id": "cpM46DzBV2sS",
        "outputId": "aa3f882b-9969-4f61-ba8e-58b10a011678"
      },
      "execution_count": null,
      "outputs": [
        {
          "output_type": "stream",
          "name": "stdout",
          "text": [
            "<class 'pandas.core.frame.DataFrame'>\n",
            "RangeIndex: 15 entries, 0 to 14\n",
            "Data columns (total 2 columns):\n",
            " #   Column        Non-Null Count  Dtype\n",
            "---  ------        --------------  -----\n",
            " 0   qtd_pessoas   15 non-null     int64\n",
            " 1   valor_diaria  15 non-null     int64\n",
            "dtypes: int64(2)\n",
            "memory usage: 368.0 bytes\n"
          ]
        }
      ]
    },
    {
      "cell_type": "markdown",
      "source": [
        "## Analise de correlação entre as variáveis\n",
        "\n",
        "*   Correlação positiva: quando 2 variáveis que possuem correlação crescrem ou decrescem juntas, ou seja, possuem uma relação direta.\n",
        "*   Correlação negativa: quando 2 variáveis que possuem correlação mas quando uma variável cresce a outra decresce, ou vice-versa.\n",
        "\n",
        "\n",
        "\n"
      ],
      "metadata": {
        "id": "Kn7AeWILWYyh"
      }
    },
    {
      "cell_type": "code",
      "source": [
        "custo_diaria.corr()"
      ],
      "metadata": {
        "colab": {
          "base_uri": "https://localhost:8080/",
          "height": 112
        },
        "id": "ZLv5J5JVWyLn",
        "outputId": "44ef4c43-3fed-4280-dadc-bebc87ae8e22"
      },
      "execution_count": null,
      "outputs": [
        {
          "output_type": "execute_result",
          "data": {
            "text/plain": [
              "              qtd_pessoas  valor_diaria\n",
              "qtd_pessoas      1.000000      0.992069\n",
              "valor_diaria     0.992069      1.000000"
            ],
            "text/html": [
              "\n",
              "  <div id=\"df-b20de7d9-a853-4044-9110-f2a9fc0eb6f0\">\n",
              "    <div class=\"colab-df-container\">\n",
              "      <div>\n",
              "<style scoped>\n",
              "    .dataframe tbody tr th:only-of-type {\n",
              "        vertical-align: middle;\n",
              "    }\n",
              "\n",
              "    .dataframe tbody tr th {\n",
              "        vertical-align: top;\n",
              "    }\n",
              "\n",
              "    .dataframe thead th {\n",
              "        text-align: right;\n",
              "    }\n",
              "</style>\n",
              "<table border=\"1\" class=\"dataframe\">\n",
              "  <thead>\n",
              "    <tr style=\"text-align: right;\">\n",
              "      <th></th>\n",
              "      <th>qtd_pessoas</th>\n",
              "      <th>valor_diaria</th>\n",
              "    </tr>\n",
              "  </thead>\n",
              "  <tbody>\n",
              "    <tr>\n",
              "      <th>qtd_pessoas</th>\n",
              "      <td>1.000000</td>\n",
              "      <td>0.992069</td>\n",
              "    </tr>\n",
              "    <tr>\n",
              "      <th>valor_diaria</th>\n",
              "      <td>0.992069</td>\n",
              "      <td>1.000000</td>\n",
              "    </tr>\n",
              "  </tbody>\n",
              "</table>\n",
              "</div>\n",
              "      <button class=\"colab-df-convert\" onclick=\"convertToInteractive('df-b20de7d9-a853-4044-9110-f2a9fc0eb6f0')\"\n",
              "              title=\"Convert this dataframe to an interactive table.\"\n",
              "              style=\"display:none;\">\n",
              "        \n",
              "  <svg xmlns=\"http://www.w3.org/2000/svg\" height=\"24px\"viewBox=\"0 0 24 24\"\n",
              "       width=\"24px\">\n",
              "    <path d=\"M0 0h24v24H0V0z\" fill=\"none\"/>\n",
              "    <path d=\"M18.56 5.44l.94 2.06.94-2.06 2.06-.94-2.06-.94-.94-2.06-.94 2.06-2.06.94zm-11 1L8.5 8.5l.94-2.06 2.06-.94-2.06-.94L8.5 2.5l-.94 2.06-2.06.94zm10 10l.94 2.06.94-2.06 2.06-.94-2.06-.94-.94-2.06-.94 2.06-2.06.94z\"/><path d=\"M17.41 7.96l-1.37-1.37c-.4-.4-.92-.59-1.43-.59-.52 0-1.04.2-1.43.59L10.3 9.45l-7.72 7.72c-.78.78-.78 2.05 0 2.83L4 21.41c.39.39.9.59 1.41.59.51 0 1.02-.2 1.41-.59l7.78-7.78 2.81-2.81c.8-.78.8-2.07 0-2.86zM5.41 20L4 18.59l7.72-7.72 1.47 1.35L5.41 20z\"/>\n",
              "  </svg>\n",
              "      </button>\n",
              "      \n",
              "  <style>\n",
              "    .colab-df-container {\n",
              "      display:flex;\n",
              "      flex-wrap:wrap;\n",
              "      gap: 12px;\n",
              "    }\n",
              "\n",
              "    .colab-df-convert {\n",
              "      background-color: #E8F0FE;\n",
              "      border: none;\n",
              "      border-radius: 50%;\n",
              "      cursor: pointer;\n",
              "      display: none;\n",
              "      fill: #1967D2;\n",
              "      height: 32px;\n",
              "      padding: 0 0 0 0;\n",
              "      width: 32px;\n",
              "    }\n",
              "\n",
              "    .colab-df-convert:hover {\n",
              "      background-color: #E2EBFA;\n",
              "      box-shadow: 0px 1px 2px rgba(60, 64, 67, 0.3), 0px 1px 3px 1px rgba(60, 64, 67, 0.15);\n",
              "      fill: #174EA6;\n",
              "    }\n",
              "\n",
              "    [theme=dark] .colab-df-convert {\n",
              "      background-color: #3B4455;\n",
              "      fill: #D2E3FC;\n",
              "    }\n",
              "\n",
              "    [theme=dark] .colab-df-convert:hover {\n",
              "      background-color: #434B5C;\n",
              "      box-shadow: 0px 1px 3px 1px rgba(0, 0, 0, 0.15);\n",
              "      filter: drop-shadow(0px 1px 2px rgba(0, 0, 0, 0.3));\n",
              "      fill: #FFFFFF;\n",
              "    }\n",
              "  </style>\n",
              "\n",
              "      <script>\n",
              "        const buttonEl =\n",
              "          document.querySelector('#df-b20de7d9-a853-4044-9110-f2a9fc0eb6f0 button.colab-df-convert');\n",
              "        buttonEl.style.display =\n",
              "          google.colab.kernel.accessAllowed ? 'block' : 'none';\n",
              "\n",
              "        async function convertToInteractive(key) {\n",
              "          const element = document.querySelector('#df-b20de7d9-a853-4044-9110-f2a9fc0eb6f0');\n",
              "          const dataTable =\n",
              "            await google.colab.kernel.invokeFunction('convertToInteractive',\n",
              "                                                     [key], {});\n",
              "          if (!dataTable) return;\n",
              "\n",
              "          const docLinkHtml = 'Like what you see? Visit the ' +\n",
              "            '<a target=\"_blank\" href=https://colab.research.google.com/notebooks/data_table.ipynb>data table notebook</a>'\n",
              "            + ' to learn more about interactive tables.';\n",
              "          element.innerHTML = '';\n",
              "          dataTable['output_type'] = 'display_data';\n",
              "          await google.colab.output.renderOutput(dataTable, element);\n",
              "          const docLink = document.createElement('div');\n",
              "          docLink.innerHTML = docLinkHtml;\n",
              "          element.appendChild(docLink);\n",
              "        }\n",
              "      </script>\n",
              "    </div>\n",
              "  </div>\n",
              "  "
            ]
          },
          "metadata": {},
          "execution_count": 7
        }
      ]
    },
    {
      "cell_type": "markdown",
      "source": [
        "### Analise gráfica da correlação entre as variáveis"
      ],
      "metadata": {
        "id": "xzEsMu3MX6Xc"
      }
    },
    {
      "cell_type": "code",
      "source": [
        "correlacao = custo_diaria.corr()\n",
        "sns.heatmap(correlacao, annot=True)\n",
        "\n",
        "# heatmap é um mapa de calor e annot é para mostrar os valores"
      ],
      "metadata": {
        "colab": {
          "base_uri": "https://localhost:8080/",
          "height": 452
        },
        "id": "gbzHuWsIX9FK",
        "outputId": "2b82187f-9a93-4e39-ac30-9dd36647d87a"
      },
      "execution_count": null,
      "outputs": [
        {
          "output_type": "execute_result",
          "data": {
            "text/plain": [
              "<Axes: >"
            ]
          },
          "metadata": {},
          "execution_count": 8
        },
        {
          "output_type": "display_data",
          "data": {
            "text/plain": [
              "<Figure size 640x480 with 2 Axes>"
            ],
            "image/png": "[encoded data removed]"
          },
          "metadata": {}
        }
      ]
    },
    {
      "cell_type": "markdown",
      "source": [
        "## Tratamento de dados\n",
        "\n",
        "Nesta etapa, vamos preparar os dados para serem utilizados no modelo de Regressão Linear. Esta transformação deve ser realizada para que os dados possam ter o formato que o algoritmo solicita como entrada."
      ],
      "metadata": {
        "id": "8E7MxlcKYeVs"
      }
    },
    {
      "cell_type": "markdown",
      "source": [
        "### Criando variável independente - X\n",
        "Coletamos todos os registros da primeira coluna e convertemos no formato de array"
      ],
      "metadata": {
        "id": "KTO0jtu-YxCP"
      }
    },
    {
      "cell_type": "code",
      "source": [
        "X = custo_diaria.iloc[:,0].values\n",
        "print(X)\n",
        "# Pega todas as linhas da coluna 0"
      ],
      "metadata": {
        "colab": {
          "base_uri": "https://localhost:8080/"
        },
        "id": "QeB6EMxDY8mE",
        "outputId": "b6367afd-e9b3-4481-ee1b-b8d6a4b2b325"
      },
      "execution_count": null,
      "outputs": [
        {
          "output_type": "stream",
          "name": "stdout",
          "text": [
            "[ 1  4  6 10 13 15 18 22 25 30 40 42 45 47 50]\n"
          ]
        }
      ]
    },
    {
      "cell_type": "markdown",
      "source": [
        "A função iloc permite seleionar um conjunto de registros. O dois pontos \":\" significa que estamos selecionando todos os registros de zero \"0\", primeira coluna."
      ],
      "metadata": {
        "id": "SPICVhh0Y9Vw"
      }
    },
    {
      "cell_type": "markdown",
      "source": [
        "### Criando a variável dependente -y (o que queremos predizer)"
      ],
      "metadata": {
        "id": "h2oQWEL1aGK1"
      }
    },
    {
      "cell_type": "code",
      "source": [
        "y = custo_diaria.iloc[:,1].values\n",
        "print(y)"
      ],
      "metadata": {
        "colab": {
          "base_uri": "https://localhost:8080/"
        },
        "id": "7P8ovq6vaNzS",
        "outputId": "72b30528-a5f2-4615-ade9-f9bf311e7ccb"
      },
      "execution_count": null,
      "outputs": [
        {
          "output_type": "stream",
          "name": "stdout",
          "text": [
            "[ 150  385  499  680  735  859  989 1075 1500 1850 2000 2089 2250 2488\n",
            " 2680]\n"
          ]
        }
      ]
    },
    {
      "cell_type": "markdown",
      "source": [
        "### Verificando tipo de variáveis"
      ],
      "metadata": {
        "id": "aDKtPBvhauy-"
      }
    },
    {
      "cell_type": "code",
      "source": [
        "type(X)"
      ],
      "metadata": {
        "colab": {
          "base_uri": "https://localhost:8080/"
        },
        "id": "g1rXqF7yax9b",
        "outputId": "50932b28-a485-425a-9375-1142d2e51de5"
      },
      "execution_count": null,
      "outputs": [
        {
          "output_type": "execute_result",
          "data": {
            "text/plain": [
              "numpy.ndarray"
            ]
          },
          "metadata": {},
          "execution_count": 11
        }
      ]
    },
    {
      "cell_type": "code",
      "source": [
        "type(y)"
      ],
      "metadata": {
        "colab": {
          "base_uri": "https://localhost:8080/"
        },
        "id": "uhWaxU74a0lK",
        "outputId": "e65465ea-86ae-4060-c227-bab1399da01e"
      },
      "execution_count": null,
      "outputs": [
        {
          "output_type": "execute_result",
          "data": {
            "text/plain": [
              "numpy.ndarray"
            ]
          },
          "metadata": {},
          "execution_count": 12
        }
      ]
    },
    {
      "cell_type": "code",
      "source": [
        "X.shape\n",
        "#shape, no caso, diz que temos 15 linhas e só"
      ],
      "metadata": {
        "colab": {
          "base_uri": "https://localhost:8080/"
        },
        "id": "c7H3fLxoa2-0",
        "outputId": "3edc62ab-9a6b-4593-cec1-2a0e6939cc7f"
      },
      "execution_count": null,
      "outputs": [
        {
          "output_type": "execute_result",
          "data": {
            "text/plain": [
              "(15,)"
            ]
          },
          "metadata": {},
          "execution_count": 13
        }
      ]
    },
    {
      "cell_type": "markdown",
      "source": [
        "### Transformando array em matriz"
      ],
      "metadata": {
        "id": "zSNMRokzbG4w"
      }
    },
    {
      "cell_type": "code",
      "source": [
        "X = X.reshape(-1,1)\n",
        "# Isso significa que não sabemos o número de linhas, mas que haverá somente 1 coluna"
      ],
      "metadata": {
        "id": "0WDUbUiObI_w"
      },
      "execution_count": null,
      "outputs": []
    },
    {
      "cell_type": "code",
      "source": [
        "X.shape"
      ],
      "metadata": {
        "colab": {
          "base_uri": "https://localhost:8080/"
        },
        "id": "JTKOAQE_badz",
        "outputId": "84df7267-38e1-4c2f-d88e-e4edb0828e86"
      },
      "execution_count": null,
      "outputs": [
        {
          "output_type": "execute_result",
          "data": {
            "text/plain": [
              "(15, 1)"
            ]
          },
          "metadata": {},
          "execution_count": 15
        }
      ]
    },
    {
      "cell_type": "markdown",
      "source": [
        "## Criando modelo de Machine Learning - Regressão Linear"
      ],
      "metadata": {
        "id": "opSymPiybqTw"
      }
    },
    {
      "cell_type": "code",
      "source": [
        "from sklearn.linear_model import LinearRegression\n",
        "predicao_custo_diaria = LinearRegression()"
      ],
      "metadata": {
        "id": "eAyllsarbtt9"
      },
      "execution_count": null,
      "outputs": []
    },
    {
      "cell_type": "code",
      "source": [
        "type(predicao_custo_diaria)"
      ],
      "metadata": {
        "colab": {
          "base_uri": "https://localhost:8080/"
        },
        "id": "aG7-KwDrb-Dg",
        "outputId": "9a35a820-a8e6-4ad1-c8d1-d6cac0f0139d"
      },
      "execution_count": null,
      "outputs": [
        {
          "output_type": "execute_result",
          "data": {
            "text/plain": [
              "sklearn.linear_model._base.LinearRegression"
            ]
          },
          "metadata": {},
          "execution_count": 20
        }
      ]
    },
    {
      "cell_type": "markdown",
      "source": [
        "## Realizando o Treinamento do modelo"
      ],
      "metadata": {
        "id": "c0xajoxkcJoJ"
      }
    },
    {
      "cell_type": "code",
      "source": [
        "predicao_custo_diaria.fit(X,y)"
      ],
      "metadata": {
        "colab": {
          "base_uri": "https://localhost:8080/",
          "height": 74
        },
        "id": "KJIV_0hrcAeX",
        "outputId": "97d41d63-8ea7-4423-e90b-11326e9ace90"
      },
      "execution_count": null,
      "outputs": [
        {
          "output_type": "execute_result",
          "data": {
            "text/plain": [
              "LinearRegression()"
            ],
            "text/html": [
              "<style>#sk-container-id-1 {color: black;background-color: white;}#sk-container-id-1 pre{padding: 0;}#sk-container-id-1 div.sk-toggleable {background-color: white;}#sk-container-id-1 label.sk-toggleable__label {cursor: pointer;display: block;width: 100%;margin-bottom: 0;padding: 0.3em;box-sizing: border-box;text-align: center;}#sk-container-id-1 label.sk-toggleable__label-arrow:before {content: \"▸\";float: left;margin-right: 0.25em;color: #696969;}#sk-container-id-1 label.sk-toggleable__label-arrow:hover:before {color: black;}#sk-container-id-1 div.sk-estimator:hover label.sk-toggleable__label-arrow:before {color: black;}#sk-container-id-1 div.sk-toggleable__content {max-height: 0;max-width: 0;overflow: hidden;text-align: left;background-color: #f0f8ff;}#sk-container-id-1 div.sk-toggleable__content pre {margin: 0.2em;color: black;border-radius: 0.25em;background-color: #f0f8ff;}#sk-container-id-1 input.sk-toggleable__control:checked~div.sk-toggleable__content {max-height: 200px;max-width: 100%;overflow: auto;}#sk-container-id-1 input.sk-toggleable__control:checked~label.sk-toggleable__label-arrow:before {content: \"▾\";}#sk-container-id-1 div.sk-estimator input.sk-toggleable__control:checked~label.sk-toggleable__label {background-color: #d4ebff;}#sk-container-id-1 div.sk-label input.sk-toggleable__control:checked~label.sk-toggleable__label {background-color: #d4ebff;}#sk-container-id-1 input.sk-hidden--visually {border: 0;clip: rect(1px 1px 1px 1px);clip: rect(1px, 1px, 1px, 1px);height: 1px;margin: -1px;overflow: hidden;padding: 0;position: absolute;width: 1px;}#sk-container-id-1 div.sk-estimator {font-family: monospace;background-color: #f0f8ff;border: 1px dotted black;border-radius: 0.25em;box-sizing: border-box;margin-bottom: 0.5em;}#sk-container-id-1 div.sk-estimator:hover {background-color: #d4ebff;}#sk-container-id-1 div.sk-parallel-item::after {content: \"\";width: 100%;border-bottom: 1px solid gray;flex-grow: 1;}#sk-container-id-1 div.sk-label:hover label.sk-toggleable__label {background-color: #d4ebff;}#sk-container-id-1 div.sk-serial::before {content: \"\";position: absolute;border-left: 1px solid gray;box-sizing: border-box;top: 0;bottom: 0;left: 50%;z-index: 0;}#sk-container-id-1 div.sk-serial {display: flex;flex-direction: column;align-items: center;background-color: white;padding-right: 0.2em;padding-left: 0.2em;position: relative;}#sk-container-id-1 div.sk-item {position: relative;z-index: 1;}#sk-container-id-1 div.sk-parallel {display: flex;align-items: stretch;justify-content: center;background-color: white;position: relative;}#sk-container-id-1 div.sk-item::before, #sk-container-id-1 div.sk-parallel-item::before {content: \"\";position: absolute;border-left: 1px solid gray;box-sizing: border-box;top: 0;bottom: 0;left: 50%;z-index: -1;}#sk-container-id-1 div.sk-parallel-item {display: flex;flex-direction: column;z-index: 1;position: relative;background-color: white;}#sk-container-id-1 div.sk-parallel-item:first-child::after {align-self: flex-end;width: 50%;}#sk-container-id-1 div.sk-parallel-item:last-child::after {align-self: flex-start;width: 50%;}#sk-container-id-1 div.sk-parallel-item:only-child::after {width: 0;}#sk-container-id-1 div.sk-dashed-wrapped {border: 1px dashed gray;margin: 0 0.4em 0.5em 0.4em;box-sizing: border-box;padding-bottom: 0.4em;background-color: white;}#sk-container-id-1 div.sk-label label {font-family: monospace;font-weight: bold;display: inline-block;line-height: 1.2em;}#sk-container-id-1 div.sk-label-container {text-align: center;}#sk-container-id-1 div.sk-container {/* jupyter's `normalize.less` sets `[hidden] { display: none; }` but bootstrap.min.css set `[hidden] { display: none !important; }` so we also need the `!important` here to be able to override the default hidden behavior on the sphinx rendered scikit-learn.org. See: https://github.com/scikit-learn/scikit-learn/issues/21755 */display: inline-block !important;position: relative;}#sk-container-id-1 div.sk-text-repr-fallback {display: none;}</style><div id=\"sk-container-id-1\" class=\"sk-top-container\"><div class=\"sk-text-repr-fallback\"><pre>LinearRegression()</pre><b>In a Jupyter environment, please rerun this cell to show the HTML representation or trust the notebook. <br />On GitHub, the HTML representation is unable to render, please try loading this page with nbviewer.org.</b></div><div class=\"sk-container\" hidden><div class=\"sk-item\"><div class=\"sk-estimator sk-toggleable\"><input class=\"sk-toggleable__control sk-hidden--visually\" id=\"sk-estimator-id-1\" type=\"checkbox\" checked><label for=\"sk-estimator-id-1\" class=\"sk-toggleable__label sk-toggleable__label-arrow\">LinearRegression</label><div class=\"sk-toggleable__content\"><pre>LinearRegression()</pre></div></div></div></div></div>"
            ]
          },
          "metadata": {},
          "execution_count": 18
        }
      ]
    },
    {
      "cell_type": "markdown",
      "source": [
        "### Calculando a constante alfa - intercept"
      ],
      "metadata": {
        "id": "AE8Vf0uRdTD0"
      }
    },
    {
      "cell_type": "code",
      "source": [
        "predicao_custo_diaria.intercept_"
      ],
      "metadata": {
        "colab": {
          "base_uri": "https://localhost:8080/"
        },
        "id": "PPirm58DdXTa",
        "outputId": "275bfc1e-590e-43a8-c695-0032ec604255"
      },
      "execution_count": null,
      "outputs": [
        {
          "output_type": "execute_result",
          "data": {
            "text/plain": [
              "155.91874556932066"
            ]
          },
          "metadata": {},
          "execution_count": 21
        }
      ]
    },
    {
      "cell_type": "markdown",
      "source": [
        "### Calculando o coeficiente angular da reta - coef\n"
      ],
      "metadata": {
        "id": "girXCDfUeIOn"
      }
    },
    {
      "cell_type": "code",
      "source": [
        "predicao_custo_diaria.coef_"
      ],
      "metadata": {
        "colab": {
          "base_uri": "https://localhost:8080/"
        },
        "id": "hNwDR9BueOEH",
        "outputId": "449d704a-92e5-4d69-a3d1-00cf0f65a19a"
      },
      "execution_count": null,
      "outputs": [
        {
          "output_type": "execute_result",
          "data": {
            "text/plain": [
              "array([48.61472504])"
            ]
          },
          "metadata": {},
          "execution_count": 23
        }
      ]
    },
    {
      "cell_type": "markdown",
      "source": [
        "### Realizando a predição dos valores das diárias\n",
        "\n",
        "Baseado no número de pessoas, vamos estimar/prever o custo do imóvel alugado."
      ],
      "metadata": {
        "id": "Kx1Ug9MleZ7s"
      }
    },
    {
      "cell_type": "code",
      "source": [
        "previsao_valores = predicao_custo_diaria.predict(X)"
      ],
      "metadata": {
        "id": "nvtNsKlmet6K"
      },
      "execution_count": null,
      "outputs": []
    },
    {
      "cell_type": "code",
      "source": [
        "#visualização das previsões para cada número de pessoas\n",
        "previsao_valores"
      ],
      "metadata": {
        "colab": {
          "base_uri": "https://localhost:8080/"
        },
        "id": "cj9_JZwne6mC",
        "outputId": "6517964c-234b-4d88-dbf5-47965da992c5"
      },
      "execution_count": null,
      "outputs": [
        {
          "output_type": "execute_result",
          "data": {
            "text/plain": [
              "array([ 204.53347061,  350.37764575,  447.60709584,  642.06599602,\n",
              "        787.91017115,  885.13962124, 1030.98379637, 1225.44269655,\n",
              "       1371.28687169, 1614.36049691, 2100.50774736, 2197.73719745,\n",
              "       2343.58137258, 2440.81082267, 2586.65499781])"
            ]
          },
          "metadata": {},
          "execution_count": 25
        }
      ]
    },
    {
      "cell_type": "markdown",
      "source": [
        "## Visualizando no gráfico as disposições dos dados\n",
        "\n",
        "Para visualizar os dados no gráfico, temos que transformar os valores das variáveis para o formato de vetor. Para isso, utilizamos o comando ravel()\n",
        "\n"
      ],
      "metadata": {
        "id": "2b8Ko64eejfu"
      }
    },
    {
      "cell_type": "markdown",
      "source": [
        "### Gerando visualização gráfica dos dados"
      ],
      "metadata": {
        "id": "8MsyjwZnfWV_"
      }
    },
    {
      "cell_type": "code",
      "source": [
        "# Gráfico 1\n",
        "grafico = px.scatter (x = X.ravel(), y=y)\n",
        "grafico.show()\n",
        "#ravel transforma de volta de matrix para vetor\n",
        "#scatter é um gráfico de dispersão"
      ],
      "metadata": {
        "colab": {
          "base_uri": "https://localhost:8080/"
        },
        "id": "UKseqhx8faQl",
        "outputId": "f18a7697-525a-4a39-cd93-81075569b56c"
      },
      "execution_count": null,
      "outputs": [
        {
          "output_type": "display_data",
          "data": {
            "text/html": [
              "<html>\n",
              "<head><meta charset=\"utf-8\" /></head>\n",
              "<body>\n",
              "    <div>            <script src=\"https://cdnjs.cloudflare.com/ajax/libs/mathjax/2.7.5/MathJax.js?config=TeX-AMS-MML_SVG\"></script><script type=\"text/javascript\">if (window.MathJax && window.MathJax.Hub && window.MathJax.Hub.Config) {window.MathJax.Hub.Config({SVG: {font: \"STIX-Web\"}});}</script>                <script type=\"text/javascript\">window.PlotlyConfig = {MathJaxConfig: 'local'};</script>\n",
              "        <script src=\"https://cdn.plot.ly/plotly-2.18.2.min.js\"></script>                <div id=\"4ce213ed-677f-4b80-bcaf-18e716979f1d\" class=\"plotly-graph-div\" style=\"height:525px; width:100%;\"></div>            <script type=\"text/javascript\">                                    window.PLOTLYENV=window.PLOTLYENV || {};                                    if (document.getElementById(\"4ce213ed-677f-4b80-bcaf-18e716979f1d\")) {                    Plotly.newPlot(                        \"4ce213ed-677f-4b80-bcaf-18e716979f1d\",                        [{\"hovertemplate\":\"x=%{x}<br>y=%{y}<extra></extra>\",\"legendgroup\":\"\",\"marker\":{\"color\":\"#636efa\",\"symbol\":\"circle\"},\"mode\":\"markers\",\"name\":\"\",\"orientation\":\"v\",\"showlegend\":false,\"x\":[1,4,6,10,13,15,18,22,25,30,40,42,45,47,50],\"xaxis\":\"x\",\"y\":[150,385,499,680,735,859,989,1075,1500,1850,2000,2089,2250,2488,2680],\"yaxis\":\"y\",\"type\":\"scatter\"}],                        {\"template\":{\"data\":{\"histogram2dcontour\":[{\"type\":\"histogram2dcontour\",\"colorbar\":{\"outlinewidth\":0,\"ticks\":\"\"},\"colorscale\":[[0.0,\"#0d0887\"],[0.1111111111111111,\"#46039f\"],[0.2222222222222222,\"#7201a8\"],[0.3333333333333333,\"#9c179e\"],[0.4444444444444444,\"#bd3786\"],[0.5555555555555556,\"#d8576b\"],[0.6666666666666666,\"#ed7953\"],[0.7777777777777778,\"#fb9f3a\"],[0.8888888888888888,\"#fdca26\"],[1.0,\"#f0f921\"]]}],\"choropleth\":[{\"type\":\"choropleth\",\"colorbar\":{\"outlinewidth\":0,\"ticks\":\"\"}}],\"histogram2d\":[{\"type\":\"histogram2d\",\"colorbar\":{\"outlinewidth\":0,\"ticks\":\"\"},\"colorscale\":[[0.0,\"#0d0887\"],[0.1111111111111111,\"#46039f\"],[0.2222222222222222,\"#7201a8\"],[0.3333333333333333,\"#9c179e\"],[0.4444444444444444,\"#bd3786\"],[0.5555555555555556,\"#d8576b\"],[0.6666666666666666,\"#ed7953\"],[0.7777777777777778,\"#fb9f3a\"],[0.8888888888888888,\"#fdca26\"],[1.0,\"#f0f921\"]]}],\"heatmap\":[{\"type\":\"heatmap\",\"colorbar\":{\"outlinewidth\":0,\"ticks\":\"\"},\"colorscale\":[[0.0,\"#0d0887\"],[0.1111111111111111,\"#46039f\"],[0.2222222222222222,\"#7201a8\"],[0.3333333333333333,\"#9c179e\"],[0.4444444444444444,\"#bd3786\"],[0.5555555555555556,\"#d8576b\"],[0.6666666666666666,\"#ed7953\"],[0.7777777777777778,\"#fb9f3a\"],[0.8888888888888888,\"#fdca26\"],[1.0,\"#f0f921\"]]}],\"heatmapgl\":[{\"type\":\"heatmapgl\",\"colorbar\":{\"outlinewidth\":0,\"ticks\":\"\"},\"colorscale\":[[0.0,\"#0d0887\"],[0.1111111111111111,\"#46039f\"],[0.2222222222222222,\"#7201a8\"],[0.3333333333333333,\"#9c179e\"],[0.4444444444444444,\"#bd3786\"],[0.5555555555555556,\"#d8576b\"],[0.6666666666666666,\"#ed7953\"],[0.7777777777777778,\"#fb9f3a\"],[0.8888888888888888,\"#fdca26\"],[1.0,\"#f0f921\"]]}],\"contourcarpet\":[{\"type\":\"contourcarpet\",\"colorbar\":{\"outlinewidth\":0,\"ticks\":\"\"}}],\"contour\":[{\"type\":\"contour\",\"colorbar\":{\"outlinewidth\":0,\"ticks\":\"\"},\"colorscale\":[[0.0,\"#0d0887\"],[0.1111111111111111,\"#46039f\"],[0.2222222222222222,\"#7201a8\"],[0.3333333333333333,\"#9c179e\"],[0.4444444444444444,\"#bd3786\"],[0.5555555555555556,\"#d8576b\"],[0.6666666666666666,\"#ed7953\"],[0.7777777777777778,\"#fb9f3a\"],[0.8888888888888888,\"#fdca26\"],[1.0,\"#f0f921\"]]}],\"surface\":[{\"type\":\"surface\",\"colorbar\":{\"outlinewidth\":0,\"ticks\":\"\"},\"colorscale\":[[0.0,\"#0d0887\"],[0.1111111111111111,\"#46039f\"],[0.2222222222222222,\"#7201a8\"],[0.3333333333333333,\"#9c179e\"],[0.4444444444444444,\"#bd3786\"],[0.5555555555555556,\"#d8576b\"],[0.6666666666666666,\"#ed7953\"],[0.7777777777777778,\"#fb9f3a\"],[0.8888888888888888,\"#fdca26\"],[1.0,\"#f0f921\"]]}],\"mesh3d\":[{\"type\":\"mesh3d\",\"colorbar\":{\"outlinewidth\":0,\"ticks\":\"\"}}],\"scatter\":[{\"fillpattern\":{\"fillmode\":\"overlay\",\"size\":10,\"solidity\":0.2},\"type\":\"scatter\"}],\"parcoords\":[{\"type\":\"parcoords\",\"line\":{\"colorbar\":{\"outlinewidth\":0,\"ticks\":\"\"}}}],\"scatterpolargl\":[{\"type\":\"scatterpolargl\",\"marker\":{\"colorbar\":{\"outlinewidth\":0,\"ticks\":\"\"}}}],\"bar\":[{\"error_x\":{\"color\":\"#2a3f5f\"},\"error_y\":{\"color\":\"#2a3f5f\"},\"marker\":{\"line\":{\"color\":\"#E5ECF6\",\"width\":0.5},\"pattern\":{\"fillmode\":\"overlay\",\"size\":10,\"solidity\":0.2}},\"type\":\"bar\"}],\"scattergeo\":[{\"type\":\"scattergeo\",\"marker\":{\"colorbar\":{\"outlinewidth\":0,\"ticks\":\"\"}}}],\"scatterpolar\":[{\"type\":\"scatterpolar\",\"marker\":{\"colorbar\":{\"outlinewidth\":0,\"ticks\":\"\"}}}],\"histogram\":[{\"marker\":{\"pattern\":{\"fillmode\":\"overlay\",\"size\":10,\"solidity\":0.2}},\"type\":\"histogram\"}],\"scattergl\":[{\"type\":\"scattergl\",\"marker\":{\"colorbar\":{\"outlinewidth\":0,\"ticks\":\"\"}}}],\"scatter3d\":[{\"type\":\"scatter3d\",\"line\":{\"colorbar\":{\"outlinewidth\":0,\"ticks\":\"\"}},\"marker\":{\"colorbar\":{\"outlinewidth\":0,\"ticks\":\"\"}}}],\"scattermapbox\":[{\"type\":\"scattermapbox\",\"marker\":{\"colorbar\":{\"outlinewidth\":0,\"ticks\":\"\"}}}],\"scatterternary\":[{\"type\":\"scatterternary\",\"marker\":{\"colorbar\":{\"outlinewidth\":0,\"ticks\":\"\"}}}],\"scattercarpet\":[{\"type\":\"scattercarpet\",\"marker\":{\"colorbar\":{\"outlinewidth\":0,\"ticks\":\"\"}}}],\"carpet\":[{\"aaxis\":{\"endlinecolor\":\"#2a3f5f\",\"gridcolor\":\"white\",\"linecolor\":\"white\",\"minorgridcolor\":\"white\",\"startlinecolor\":\"#2a3f5f\"},\"baxis\":{\"endlinecolor\":\"#2a3f5f\",\"gridcolor\":\"white\",\"linecolor\":\"white\",\"minorgridcolor\":\"white\",\"startlinecolor\":\"#2a3f5f\"},\"type\":\"carpet\"}],\"table\":[{\"cells\":{\"fill\":{\"color\":\"#EBF0F8\"},\"line\":{\"color\":\"white\"}},\"header\":{\"fill\":{\"color\":\"#C8D4E3\"},\"line\":{\"color\":\"white\"}},\"type\":\"table\"}],\"barpolar\":[{\"marker\":{\"line\":{\"color\":\"#E5ECF6\",\"width\":0.5},\"pattern\":{\"fillmode\":\"overlay\",\"size\":10,\"solidity\":0.2}},\"type\":\"barpolar\"}],\"pie\":[{\"automargin\":true,\"type\":\"pie\"}]},\"layout\":{\"autotypenumbers\":\"strict\",\"colorway\":[\"#636efa\",\"#EF553B\",\"#00cc96\",\"#ab63fa\",\"#FFA15A\",\"#19d3f3\",\"#FF6692\",\"#B6E880\",\"#FF97FF\",\"#FECB52\"],\"font\":{\"color\":\"#2a3f5f\"},\"hovermode\":\"closest\",\"hoverlabel\":{\"align\":\"left\"},\"paper_bgcolor\":\"white\",\"plot_bgcolor\":\"#E5ECF6\",\"polar\":{\"bgcolor\":\"#E5ECF6\",\"angularaxis\":{\"gridcolor\":\"white\",\"linecolor\":\"white\",\"ticks\":\"\"},\"radialaxis\":{\"gridcolor\":\"white\",\"linecolor\":\"white\",\"ticks\":\"\"}},\"ternary\":{\"bgcolor\":\"#E5ECF6\",\"aaxis\":{\"gridcolor\":\"white\",\"linecolor\":\"white\",\"ticks\":\"\"},\"baxis\":{\"gridcolor\":\"white\",\"linecolor\":\"white\",\"ticks\":\"\"},\"caxis\":{\"gridcolor\":\"white\",\"linecolor\":\"white\",\"ticks\":\"\"}},\"coloraxis\":{\"colorbar\":{\"outlinewidth\":0,\"ticks\":\"\"}},\"colorscale\":{\"sequential\":[[0.0,\"#0d0887\"],[0.1111111111111111,\"#46039f\"],[0.2222222222222222,\"#7201a8\"],[0.3333333333333333,\"#9c179e\"],[0.4444444444444444,\"#bd3786\"],[0.5555555555555556,\"#d8576b\"],[0.6666666666666666,\"#ed7953\"],[0.7777777777777778,\"#fb9f3a\"],[0.8888888888888888,\"#fdca26\"],[1.0,\"#f0f921\"]],\"sequentialminus\":[[0.0,\"#0d0887\"],[0.1111111111111111,\"#46039f\"],[0.2222222222222222,\"#7201a8\"],[0.3333333333333333,\"#9c179e\"],[0.4444444444444444,\"#bd3786\"],[0.5555555555555556,\"#d8576b\"],[0.6666666666666666,\"#ed7953\"],[0.7777777777777778,\"#fb9f3a\"],[0.8888888888888888,\"#fdca26\"],[1.0,\"#f0f921\"]],\"diverging\":[[0,\"#8e0152\"],[0.1,\"#c51b7d\"],[0.2,\"#de77ae\"],[0.3,\"#f1b6da\"],[0.4,\"#fde0ef\"],[0.5,\"#f7f7f7\"],[0.6,\"#e6f5d0\"],[0.7,\"#b8e186\"],[0.8,\"#7fbc41\"],[0.9,\"#4d9221\"],[1,\"#276419\"]]},\"xaxis\":{\"gridcolor\":\"white\",\"linecolor\":\"white\",\"ticks\":\"\",\"title\":{\"standoff\":15},\"zerolinecolor\":\"white\",\"automargin\":true,\"zerolinewidth\":2},\"yaxis\":{\"gridcolor\":\"white\",\"linecolor\":\"white\",\"ticks\":\"\",\"title\":{\"standoff\":15},\"zerolinecolor\":\"white\",\"automargin\":true,\"zerolinewidth\":2},\"scene\":{\"xaxis\":{\"backgroundcolor\":\"#E5ECF6\",\"gridcolor\":\"white\",\"linecolor\":\"white\",\"showbackground\":true,\"ticks\":\"\",\"zerolinecolor\":\"white\",\"gridwidth\":2},\"yaxis\":{\"backgroundcolor\":\"#E5ECF6\",\"gridcolor\":\"white\",\"linecolor\":\"white\",\"showbackground\":true,\"ticks\":\"\",\"zerolinecolor\":\"white\",\"gridwidth\":2},\"zaxis\":{\"backgroundcolor\":\"#E5ECF6\",\"gridcolor\":\"white\",\"linecolor\":\"white\",\"showbackground\":true,\"ticks\":\"\",\"zerolinecolor\":\"white\",\"gridwidth\":2}},\"shapedefaults\":{\"line\":{\"color\":\"#2a3f5f\"}},\"annotationdefaults\":{\"arrowcolor\":\"#2a3f5f\",\"arrowhead\":0,\"arrowwidth\":1},\"geo\":{\"bgcolor\":\"white\",\"landcolor\":\"#E5ECF6\",\"subunitcolor\":\"white\",\"showland\":true,\"showlakes\":true,\"lakecolor\":\"white\"},\"title\":{\"x\":0.05},\"mapbox\":{\"style\":\"light\"}}},\"xaxis\":{\"anchor\":\"y\",\"domain\":[0.0,1.0],\"title\":{\"text\":\"x\"}},\"yaxis\":{\"anchor\":\"x\",\"domain\":[0.0,1.0],\"title\":{\"text\":\"y\"}},\"legend\":{\"tracegroupgap\":0},\"margin\":{\"t\":60}},                        {\"responsive\": true}                    ).then(function(){\n",
              "                            \n",
              "var gd = document.getElementById('4ce213ed-677f-4b80-bcaf-18e716979f1d');\n",
              "var x = new MutationObserver(function (mutations, observer) {{\n",
              "        var display = window.getComputedStyle(gd).display;\n",
              "        if (!display || display === 'none') {{\n",
              "            console.log([gd, 'removed!']);\n",
              "            Plotly.purge(gd);\n",
              "            observer.disconnect();\n",
              "        }}\n",
              "}});\n",
              "\n",
              "// Listen for the removal of the full notebook cells\n",
              "var notebookContainer = gd.closest('#notebook-container');\n",
              "if (notebookContainer) {{\n",
              "    x.observe(notebookContainer, {childList: true});\n",
              "}}\n",
              "\n",
              "// Listen for the clearing of the current output cell\n",
              "var outputEl = gd.closest('.output');\n",
              "if (outputEl) {{\n",
              "    x.observe(outputEl, {childList: true});\n",
              "}}\n",
              "\n",
              "                        })                };                            </script>        </div>\n",
              "</body>\n",
              "</html>"
            ]
          },
          "metadata": {}
        }
      ]
    },
    {
      "cell_type": "code",
      "source": [
        "# Gráfico 2\n",
        "grafico = px.scatter (x = X.ravel(), y=y)\n",
        "grafico.add_scatter (x = X.ravel(), y = previsao_valores, name ='Previsões')\n",
        "grafico.show()"
      ],
      "metadata": {
        "colab": {
          "base_uri": "https://localhost:8080/"
        },
        "id": "VkyoesmPiane",
        "outputId": "8423a240-d4cd-425c-e541-2001633bfee8"
      },
      "execution_count": null,
      "outputs": [
        {
          "output_type": "display_data",
          "data": {
            "text/html": [
              "<html>\n",
              "<head><meta charset=\"utf-8\" /></head>\n",
              "<body>\n",
              "    <div>            <script src=\"https://cdnjs.cloudflare.com/ajax/libs/mathjax/2.7.5/MathJax.js?config=TeX-AMS-MML_SVG\"></script><script type=\"text/javascript\">if (window.MathJax && window.MathJax.Hub && window.MathJax.Hub.Config) {window.MathJax.Hub.Config({SVG: {font: \"STIX-Web\"}});}</script>                <script type=\"text/javascript\">window.PlotlyConfig = {MathJaxConfig: 'local'};</script>\n",
              "        <script src=\"https://cdn.plot.ly/plotly-2.18.2.min.js\"></script>                <div id=\"f9cbd304-fc0a-4a8a-af83-f0a7cbad2845\" class=\"plotly-graph-div\" style=\"height:525px; width:100%;\"></div>            <script type=\"text/javascript\">                                    window.PLOTLYENV=window.PLOTLYENV || {};                                    if (document.getElementById(\"f9cbd304-fc0a-4a8a-af83-f0a7cbad2845\")) {                    Plotly.newPlot(                        \"f9cbd304-fc0a-4a8a-af83-f0a7cbad2845\",                        [{\"hovertemplate\":\"x=%{x}<br>y=%{y}<extra></extra>\",\"legendgroup\":\"\",\"marker\":{\"color\":\"#636efa\",\"symbol\":\"circle\"},\"mode\":\"markers\",\"name\":\"\",\"orientation\":\"v\",\"showlegend\":false,\"x\":[1,4,6,10,13,15,18,22,25,30,40,42,45,47,50],\"xaxis\":\"x\",\"y\":[150,385,499,680,735,859,989,1075,1500,1850,2000,2089,2250,2488,2680],\"yaxis\":\"y\",\"type\":\"scatter\"},{\"name\":\"Previs\\u00f5es\",\"x\":[1,4,6,10,13,15,18,22,25,30,40,42,45,47,50],\"y\":[204.53347061404943,350.37764574823575,447.6070958376933,642.0659960166083,787.9101711507947,885.1396212402523,1030.9837963744385,1225.4426965533537,1371.28687168754,1614.3604969111839,2100.5077473584715,2197.7371974479292,2343.5813725821154,2440.810822671573,2586.654997805759],\"type\":\"scatter\"}],                        {\"template\":{\"data\":{\"histogram2dcontour\":[{\"type\":\"histogram2dcontour\",\"colorbar\":{\"outlinewidth\":0,\"ticks\":\"\"},\"colorscale\":[[0.0,\"#0d0887\"],[0.1111111111111111,\"#46039f\"],[0.2222222222222222,\"#7201a8\"],[0.3333333333333333,\"#9c179e\"],[0.4444444444444444,\"#bd3786\"],[0.5555555555555556,\"#d8576b\"],[0.6666666666666666,\"#ed7953\"],[0.7777777777777778,\"#fb9f3a\"],[0.8888888888888888,\"#fdca26\"],[1.0,\"#f0f921\"]]}],\"choropleth\":[{\"type\":\"choropleth\",\"colorbar\":{\"outlinewidth\":0,\"ticks\":\"\"}}],\"histogram2d\":[{\"type\":\"histogram2d\",\"colorbar\":{\"outlinewidth\":0,\"ticks\":\"\"},\"colorscale\":[[0.0,\"#0d0887\"],[0.1111111111111111,\"#46039f\"],[0.2222222222222222,\"#7201a8\"],[0.3333333333333333,\"#9c179e\"],[0.4444444444444444,\"#bd3786\"],[0.5555555555555556,\"#d8576b\"],[0.6666666666666666,\"#ed7953\"],[0.7777777777777778,\"#fb9f3a\"],[0.8888888888888888,\"#fdca26\"],[1.0,\"#f0f921\"]]}],\"heatmap\":[{\"type\":\"heatmap\",\"colorbar\":{\"outlinewidth\":0,\"ticks\":\"\"},\"colorscale\":[[0.0,\"#0d0887\"],[0.1111111111111111,\"#46039f\"],[0.2222222222222222,\"#7201a8\"],[0.3333333333333333,\"#9c179e\"],[0.4444444444444444,\"#bd3786\"],[0.5555555555555556,\"#d8576b\"],[0.6666666666666666,\"#ed7953\"],[0.7777777777777778,\"#fb9f3a\"],[0.8888888888888888,\"#fdca26\"],[1.0,\"#f0f921\"]]}],\"heatmapgl\":[{\"type\":\"heatmapgl\",\"colorbar\":{\"outlinewidth\":0,\"ticks\":\"\"},\"colorscale\":[[0.0,\"#0d0887\"],[0.1111111111111111,\"#46039f\"],[0.2222222222222222,\"#7201a8\"],[0.3333333333333333,\"#9c179e\"],[0.4444444444444444,\"#bd3786\"],[0.5555555555555556,\"#d8576b\"],[0.6666666666666666,\"#ed7953\"],[0.7777777777777778,\"#fb9f3a\"],[0.8888888888888888,\"#fdca26\"],[1.0,\"#f0f921\"]]}],\"contourcarpet\":[{\"type\":\"contourcarpet\",\"colorbar\":{\"outlinewidth\":0,\"ticks\":\"\"}}],\"contour\":[{\"type\":\"contour\",\"colorbar\":{\"outlinewidth\":0,\"ticks\":\"\"},\"colorscale\":[[0.0,\"#0d0887\"],[0.1111111111111111,\"#46039f\"],[0.2222222222222222,\"#7201a8\"],[0.3333333333333333,\"#9c179e\"],[0.4444444444444444,\"#bd3786\"],[0.5555555555555556,\"#d8576b\"],[0.6666666666666666,\"#ed7953\"],[0.7777777777777778,\"#fb9f3a\"],[0.8888888888888888,\"#fdca26\"],[1.0,\"#f0f921\"]]}],\"surface\":[{\"type\":\"surface\",\"colorbar\":{\"outlinewidth\":0,\"ticks\":\"\"},\"colorscale\":[[0.0,\"#0d0887\"],[0.1111111111111111,\"#46039f\"],[0.2222222222222222,\"#7201a8\"],[0.3333333333333333,\"#9c179e\"],[0.4444444444444444,\"#bd3786\"],[0.5555555555555556,\"#d8576b\"],[0.6666666666666666,\"#ed7953\"],[0.7777777777777778,\"#fb9f3a\"],[0.8888888888888888,\"#fdca26\"],[1.0,\"#f0f921\"]]}],\"mesh3d\":[{\"type\":\"mesh3d\",\"colorbar\":{\"outlinewidth\":0,\"ticks\":\"\"}}],\"scatter\":[{\"fillpattern\":{\"fillmode\":\"overlay\",\"size\":10,\"solidity\":0.2},\"type\":\"scatter\"}],\"parcoords\":[{\"type\":\"parcoords\",\"line\":{\"colorbar\":{\"outlinewidth\":0,\"ticks\":\"\"}}}],\"scatterpolargl\":[{\"type\":\"scatterpolargl\",\"marker\":{\"colorbar\":{\"outlinewidth\":0,\"ticks\":\"\"}}}],\"bar\":[{\"error_x\":{\"color\":\"#2a3f5f\"},\"error_y\":{\"color\":\"#2a3f5f\"},\"marker\":{\"line\":{\"color\":\"#E5ECF6\",\"width\":0.5},\"pattern\":{\"fillmode\":\"overlay\",\"size\":10,\"solidity\":0.2}},\"type\":\"bar\"}],\"scattergeo\":[{\"type\":\"scattergeo\",\"marker\":{\"colorbar\":{\"outlinewidth\":0,\"ticks\":\"\"}}}],\"scatterpolar\":[{\"type\":\"scatterpolar\",\"marker\":{\"colorbar\":{\"outlinewidth\":0,\"ticks\":\"\"}}}],\"histogram\":[{\"marker\":{\"pattern\":{\"fillmode\":\"overlay\",\"size\":10,\"solidity\":0.2}},\"type\":\"histogram\"}],\"scattergl\":[{\"type\":\"scattergl\",\"marker\":{\"colorbar\":{\"outlinewidth\":0,\"ticks\":\"\"}}}],\"scatter3d\":[{\"type\":\"scatter3d\",\"line\":{\"colorbar\":{\"outlinewidth\":0,\"ticks\":\"\"}},\"marker\":{\"colorbar\":{\"outlinewidth\":0,\"ticks\":\"\"}}}],\"scattermapbox\":[{\"type\":\"scattermapbox\",\"marker\":{\"colorbar\":{\"outlinewidth\":0,\"ticks\":\"\"}}}],\"scatterternary\":[{\"type\":\"scatterternary\",\"marker\":{\"colorbar\":{\"outlinewidth\":0,\"ticks\":\"\"}}}],\"scattercarpet\":[{\"type\":\"scattercarpet\",\"marker\":{\"colorbar\":{\"outlinewidth\":0,\"ticks\":\"\"}}}],\"carpet\":[{\"aaxis\":{\"endlinecolor\":\"#2a3f5f\",\"gridcolor\":\"white\",\"linecolor\":\"white\",\"minorgridcolor\":\"white\",\"startlinecolor\":\"#2a3f5f\"},\"baxis\":{\"endlinecolor\":\"#2a3f5f\",\"gridcolor\":\"white\",\"linecolor\":\"white\",\"minorgridcolor\":\"white\",\"startlinecolor\":\"#2a3f5f\"},\"type\":\"carpet\"}],\"table\":[{\"cells\":{\"fill\":{\"color\":\"#EBF0F8\"},\"line\":{\"color\":\"white\"}},\"header\":{\"fill\":{\"color\":\"#C8D4E3\"},\"line\":{\"color\":\"white\"}},\"type\":\"table\"}],\"barpolar\":[{\"marker\":{\"line\":{\"color\":\"#E5ECF6\",\"width\":0.5},\"pattern\":{\"fillmode\":\"overlay\",\"size\":10,\"solidity\":0.2}},\"type\":\"barpolar\"}],\"pie\":[{\"automargin\":true,\"type\":\"pie\"}]},\"layout\":{\"autotypenumbers\":\"strict\",\"colorway\":[\"#636efa\",\"#EF553B\",\"#00cc96\",\"#ab63fa\",\"#FFA15A\",\"#19d3f3\",\"#FF6692\",\"#B6E880\",\"#FF97FF\",\"#FECB52\"],\"font\":{\"color\":\"#2a3f5f\"},\"hovermode\":\"closest\",\"hoverlabel\":{\"align\":\"left\"},\"paper_bgcolor\":\"white\",\"plot_bgcolor\":\"#E5ECF6\",\"polar\":{\"bgcolor\":\"#E5ECF6\",\"angularaxis\":{\"gridcolor\":\"white\",\"linecolor\":\"white\",\"ticks\":\"\"},\"radialaxis\":{\"gridcolor\":\"white\",\"linecolor\":\"white\",\"ticks\":\"\"}},\"ternary\":{\"bgcolor\":\"#E5ECF6\",\"aaxis\":{\"gridcolor\":\"white\",\"linecolor\":\"white\",\"ticks\":\"\"},\"baxis\":{\"gridcolor\":\"white\",\"linecolor\":\"white\",\"ticks\":\"\"},\"caxis\":{\"gridcolor\":\"white\",\"linecolor\":\"white\",\"ticks\":\"\"}},\"coloraxis\":{\"colorbar\":{\"outlinewidth\":0,\"ticks\":\"\"}},\"colorscale\":{\"sequential\":[[0.0,\"#0d0887\"],[0.1111111111111111,\"#46039f\"],[0.2222222222222222,\"#7201a8\"],[0.3333333333333333,\"#9c179e\"],[0.4444444444444444,\"#bd3786\"],[0.5555555555555556,\"#d8576b\"],[0.6666666666666666,\"#ed7953\"],[0.7777777777777778,\"#fb9f3a\"],[0.8888888888888888,\"#fdca26\"],[1.0,\"#f0f921\"]],\"sequentialminus\":[[0.0,\"#0d0887\"],[0.1111111111111111,\"#46039f\"],[0.2222222222222222,\"#7201a8\"],[0.3333333333333333,\"#9c179e\"],[0.4444444444444444,\"#bd3786\"],[0.5555555555555556,\"#d8576b\"],[0.6666666666666666,\"#ed7953\"],[0.7777777777777778,\"#fb9f3a\"],[0.8888888888888888,\"#fdca26\"],[1.0,\"#f0f921\"]],\"diverging\":[[0,\"#8e0152\"],[0.1,\"#c51b7d\"],[0.2,\"#de77ae\"],[0.3,\"#f1b6da\"],[0.4,\"#fde0ef\"],[0.5,\"#f7f7f7\"],[0.6,\"#e6f5d0\"],[0.7,\"#b8e186\"],[0.8,\"#7fbc41\"],[0.9,\"#4d9221\"],[1,\"#276419\"]]},\"xaxis\":{\"gridcolor\":\"white\",\"linecolor\":\"white\",\"ticks\":\"\",\"title\":{\"standoff\":15},\"zerolinecolor\":\"white\",\"automargin\":true,\"zerolinewidth\":2},\"yaxis\":{\"gridcolor\":\"white\",\"linecolor\":\"white\",\"ticks\":\"\",\"title\":{\"standoff\":15},\"zerolinecolor\":\"white\",\"automargin\":true,\"zerolinewidth\":2},\"scene\":{\"xaxis\":{\"backgroundcolor\":\"#E5ECF6\",\"gridcolor\":\"white\",\"linecolor\":\"white\",\"showbackground\":true,\"ticks\":\"\",\"zerolinecolor\":\"white\",\"gridwidth\":2},\"yaxis\":{\"backgroundcolor\":\"#E5ECF6\",\"gridcolor\":\"white\",\"linecolor\":\"white\",\"showbackground\":true,\"ticks\":\"\",\"zerolinecolor\":\"white\",\"gridwidth\":2},\"zaxis\":{\"backgroundcolor\":\"#E5ECF6\",\"gridcolor\":\"white\",\"linecolor\":\"white\",\"showbackground\":true,\"ticks\":\"\",\"zerolinecolor\":\"white\",\"gridwidth\":2}},\"shapedefaults\":{\"line\":{\"color\":\"#2a3f5f\"}},\"annotationdefaults\":{\"arrowcolor\":\"#2a3f5f\",\"arrowhead\":0,\"arrowwidth\":1},\"geo\":{\"bgcolor\":\"white\",\"landcolor\":\"#E5ECF6\",\"subunitcolor\":\"white\",\"showland\":true,\"showlakes\":true,\"lakecolor\":\"white\"},\"title\":{\"x\":0.05},\"mapbox\":{\"style\":\"light\"}}},\"xaxis\":{\"anchor\":\"y\",\"domain\":[0.0,1.0],\"title\":{\"text\":\"x\"}},\"yaxis\":{\"anchor\":\"x\",\"domain\":[0.0,1.0],\"title\":{\"text\":\"y\"}},\"legend\":{\"tracegroupgap\":0},\"margin\":{\"t\":60}},                        {\"responsive\": true}                    ).then(function(){\n",
              "                            \n",
              "var gd = document.getElementById('f9cbd304-fc0a-4a8a-af83-f0a7cbad2845');\n",
              "var x = new MutationObserver(function (mutations, observer) {{\n",
              "        var display = window.getComputedStyle(gd).display;\n",
              "        if (!display || display === 'none') {{\n",
              "            console.log([gd, 'removed!']);\n",
              "            Plotly.purge(gd);\n",
              "            observer.disconnect();\n",
              "        }}\n",
              "}});\n",
              "\n",
              "// Listen for the removal of the full notebook cells\n",
              "var notebookContainer = gd.closest('#notebook-container');\n",
              "if (notebookContainer) {{\n",
              "    x.observe(notebookContainer, {childList: true});\n",
              "}}\n",
              "\n",
              "// Listen for the clearing of the current output cell\n",
              "var outputEl = gd.closest('.output');\n",
              "if (outputEl) {{\n",
              "    x.observe(outputEl, {childList: true});\n",
              "}}\n",
              "\n",
              "                        })                };                            </script>        </div>\n",
              "</body>\n",
              "</html>"
            ]
          },
          "metadata": {}
        }
      ]
    },
    {
      "cell_type": "markdown",
      "source": [
        "## Calculando o valro da diária de acordo com a Equação Linear\n",
        "![image.png](data:image/png;base64,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)"
      ],
      "metadata": {
        "id": "4RR5AjfnjGv1"
      }
    },
    {
      "cell_type": "code",
      "source": [
        "# Verificando os valores de uma determinada previsão baseada na quantidade de pessoas\n",
        "\n",
        "alfa = predicao_custo_diaria.intercept_\n",
        "beta = predicao_custo_diaria.coef_\n",
        "Xi = 8\n",
        "\n",
        "alfa + beta * Xi "
      ],
      "metadata": {
        "colab": {
          "base_uri": "https://localhost:8080/"
        },
        "id": "1Zm7WJkKjUAa",
        "outputId": "789f8640-8df1-4fe8-e864-43d7afb3340e"
      },
      "execution_count": null,
      "outputs": [
        {
          "output_type": "execute_result",
          "data": {
            "text/plain": [
              "array([544.83654593])"
            ]
          },
          "metadata": {},
          "execution_count": 33
        }
      ]
    },
    {
      "cell_type": "markdown",
      "source": [
        "## Calculando o valor da diária através da função predict do modelo"
      ],
      "metadata": {
        "id": "S9y0MMp9j4Ep"
      }
    },
    {
      "cell_type": "code",
      "source": [
        "# Verificando de modo direto\n",
        "predicao_custo_diaria.predict([[8]])"
      ],
      "metadata": {
        "colab": {
          "base_uri": "https://localhost:8080/"
        },
        "id": "kSLX9hz5j9-I",
        "outputId": "11747e88-49fc-4dc1-cda4-70e19ffcadda"
      },
      "execution_count": null,
      "outputs": [
        {
          "output_type": "execute_result",
          "data": {
            "text/plain": [
              "array([544.83654593])"
            ]
          },
          "metadata": {},
          "execution_count": 35
        }
      ]
    },
    {
      "cell_type": "markdown",
      "source": [
        "##Avaliação do Modelo"
      ],
      "metadata": {
        "id": "03HMR2YIkkIt"
      }
    },
    {
      "cell_type": "code",
      "source": [
        "# Calculando a acurácia do modelo\n",
        "predicao_custo_diaria.score(X,y)"
      ],
      "metadata": {
        "colab": {
          "base_uri": "https://localhost:8080/"
        },
        "id": "_brFg-h0kIk0",
        "outputId": "3fdf405f-ada2-4676-eac0-5b316c3222c9"
      },
      "execution_count": null,
      "outputs": [
        {
          "output_type": "execute_result",
          "data": {
            "text/plain": [
              "0.984200996064679"
            ]
          },
          "metadata": {},
          "execution_count": 37
        }
      ]
    },
    {
      "cell_type": "markdown",
      "source": [
        "### Calculando o Mean Absolut Error\n",
        "![image.png](data:image/png;base64,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)"
      ],
      "metadata": {
        "id": "bdadVq7lk8tX"
      }
    },
    {
      "cell_type": "code",
      "source": [
        "mean_absolute_error(y, previsao_valores)"
      ],
      "metadata": {
        "colab": {
          "base_uri": "https://localhost:8080/"
        },
        "id": "-wYUNUiFlADa",
        "outputId": "4e47a148-e589-4b3e-ea01-71af11308620"
      },
      "execution_count": null,
      "outputs": [
        {
          "output_type": "execute_result",
          "data": {
            "text/plain": [
              "83.84480977618742"
            ]
          },
          "metadata": {},
          "execution_count": 39
        }
      ]
    },
    {
      "cell_type": "markdown",
      "source": [
        "### Calculando o Mean Squared Error\n",
        "![image.png](data:image/png;base64,iVBORw0KGgoAAAANSUhEUgAAAP4AAABnCAYAAAAg///aAAAgAElEQVR4nO29d3QVZ56g/VTduvle5YCyUEAZRBAYTA422MbYgNtEu+1pu7fn9Mz2d+b09/W3039sT+/0TO/sztnxzPY6txtsgxMY22RjGzAYsAUmSUJCKIByQOnq6qaq/aOuriSQQAJhC6jnHCFxb9Vbb1W9vzf80itMzp+s/Ou//ivzF8xHQ0Pj3mf5Y8sRZZ+MIAjqJ/KPWyENDY07jAwCAqKC0veh8OPVR0ND484jKwoIIP7YFdHQ0Pjh0QRfQ+M+RBN8DY37EE3wNTTuQzTBvxdQbvJ3/880NNAE/96gn2Aryk2kXOsENADpx66Axu0he2Xq6uuoq6vDYrEQHx+P2WymubmFurpaRFEkJiaWqKhIBFFAUZQ+vw2N+xZN8O9G/KO2z+ujtKyUbdu2sWfPHvSSnl/+zS9JT0vnwBcHOHDgAK0trTzx5BM899xzRERGIIia0GtoU/27Go/XQ3FxCWFhYTz80MPU19ezbds2vvzqKyLCI1i+/HG8Pi+f7PiE1pbWH7u6GmMITfDvRgT1x2QyMWvmTJ577jlmPTgLt9vNhZILxMbGsGr1KhYvWkRUVDQtrS24XC5tfa8RQBP8uxkBoqKj8Pl8FBcXowCzZs1izpw5GAwGamtr6elxkpmZidVmRVEUFFnROgANTfDvdkSdiMPh4Ny5c4SHh7Fw0ULCwyMAgdKyUrq6upg160FCQ0MRREFd42vL/PseTfDvATo6OqmsqCQiIpK8vDwknQ6Px82FCxfo7u7mgQdmEGQPUg/WRnsNNMG/61F8Ck1NTTQ1NREdHUVYaBiI0NHeQXVVNTabjfi4eDo7O2lva7+5nV/jvkAz593l9LhclJdfxCfLJCclY7FYUGTocjjodjpRFIWSCyVUVlSSmZXFzJkzMZoMP3a1NX5ktBH/LkeRZVwuF1OnTGFaQQE6SYcgQEREODNmzMBgMPLWW28h6kSys7PQS1pfr6GN+HeOfjNqt9uN7JMxmU19H46Sgs1kMrF48WLmzZtHdPQ4dDodCBAUHMQzzzzDAw/MwGg0kpOTQ3BQMIJO0+zdt/jbpKIomuCPOgoggM/no8fZQ1FxMefOnSUnJ4dJk/IxGgyjqlUXJZHExERkn4xOrxvwXVxsLDExMYiCoHnsaQQQBEET/FFHAK/Hx5Url9mzew87d+3kcvVl/vY//2cmTZp0hy4poJN012nsBVFAp/nlawyCJvijhQKyLNPZ2cmJEyf46KOPOHjwIBcvXiQyMhKfz3vngmN6i71WYd//cgqa/V4jgKbcG0WamprYtGkTmzdvJjQklKVLlxIbG4ugSZzGGEMb8UcLQY2WCw8LZ+3ateTl5lFaVsqXX35JY2OjJvwaYwpN8EeRqOgolj++HKPBiMFooKa2Br2kB0AZrsucAj3OHuob6unq6gr41+t0OhQUBAR8su/WPfAEBiw5BEEARa2fJOmJjooiLCxMmwve42iCP1ooIEkSdrsdRQE1ffmtjfKXr1zmlVde5czp03i8HgB0ol9jL/T+urWylX7/9nYAPq8PgPCIcNavX89jjy1HEnWDF6BxT6AJ/mhxnYJt5JluFJ+CoBPQ6/U0Nzdx5OgRPG5PIAQ3Y0IGUdFRiKLuNhSFSsBtt729g+LiItrb25FlmcjISBYuXIiiyIAm+PcymuCPNgK3PA0XRHXaHRsTy7Jly/j2xLeUXChBVmQMsoH8yfn87K9+RlBwEKIocitqekHAPyORqamp4cCBA2zbto2LFy8Cw8jZp3FPoAn+WMIvxwajgYULFlJVWcW///u/c6X2Ct3d3Rw5coQ5c+bw1OqnBnoB3qxYIbA+8JsdFQQB0tPSmTRpEkajkZdeemn070djzKKpcMYiAkRERrB23VqWP/44IcEhAJSXX+LPb/6Z7woL8bg9any90O9HHPgzVNmiTj1ep9cRHh7OsqXLiI2NQxS05nC/oL3pMYogCsTHx/Pss88wa9YsRFGHz+ej8GQh77zzNpVVleqByjU/15QRSLxxbT/gH/0FUSA2NpZJkyZiNBnv9G1pjBE0wR+rKOoUfXL+ZJ577jlSxo9HFAU6uzrZvn07n3zyiRpfj3J7HnkK2Ow2MjIysVgsWurt+wRN8EcbRVWgCag57BV6c9z1W2f7jxtslB6AAHqDgblz5/LLX/6SxMREREFHS0srmzZtZv/+/TidThBG4CdwTfkAFrOF+fPn8fRPniYzMwtRM+XdHfTfKena9nSTtqUp9+4Eguq3HxB6Qe0MfD4fXq8XSZJurv0PTMVVx6DVq1dTXFLMW2+9RY+rhwsXSnjrrbdISkpi8uQpgXDcW6mrwWjggQceYMqUKeglPTqdNh6MdRRZGai0HfAlN21fmuCPMoqiIHtlelwuKisqae/owOvxUltbS1dXFyEhIciyrCrSbiZf/V5o9Lho1q1bT2VlJYcPH8bZ7eTgVwd5O+VtwsMjSE5OvnW3YAH0Bj16g/7Wztf44egn1LV1tVyuvszVtjaczm6MRiOxsXGkp6VhtVv7hH+QZqGLjo7+r8uWLSM5OVn95E4s8e6HyDAFfD6ZkpIL7Nq5k7379rJ9+3ZKLlzA4XDQ3NRMbW0dZWVldHV1ER4RgWkEyjRRFIkIDyciIoLi4hLq6mrxeDxcqblCUJCd7OwszBbzbd8DMLJ31X9Uudff8Z2g/zMf5vOXZZlj3xzj1dde5ejRo3R2dtLc1MzRo0fZu3cvRqORlJQU9Hr9dcKvKLB169aBI74sy6pjyJ0SfrinG4cggNPZTXNLMw6Hg8zMTLKzs5EVGZ/PhyLLtLa20tXVhSz7Rla4AlablcWLF1NSUkJtTQ0NjQ3U1tbyzjvvkJOTw5IlS25v1L7VdzNUWPBg3yv9nIT6xw3cw+3ihgjX/C1z02fh9Xg5eeoUX3zxBatXr2bt2rWEBIfw+eef84c//IH33nuPnJwcsjKzEKXB5XmA4It3Ym3n7228Hh+iIKgVuUcRBJGc7BwSEhKQZQVFkdUNLACdToesqB2rwWAgKChoZDMh/3Fmi5knnniCy5cvs+kvm3A4HFwoucAbb7zBuHHjmDJlyg8mRLJPprvbidfrISgo6Obtx29W1CIVr8fr8dLR0YHBYMBqtTGkS4Vf4fvwQw+RkTGBzMxM4uJUH4xJ+ZOIi4+no6ODtrb2G3bIkiCItLW10dnRic/rU1+gJA46QstemW5nNw6HA1EUEQQBk8mE1WoNuJsGphQ+BZfLhaO7m26Hg4rKCuz2IGJjYtBJOiwWCxarpa9jcHvp7OrE5/MhywqiKCDLct/FA0oytfXYbTbVe22stCG/As9kMQ3fq+4W656UlMzGDRupqKjg888/p8fVwxcHviApMYnEhEQiIiPu7HORwdnjpKamlq+++pK2q2381c/+CrvdTltbmz+CUEYU/e3Doq43BVHA5/XR1eXA43EHRn6zyRzY6eeODD6jhX+2oigKPT0unN3dGE1GLBYLok7E5/HhdDqxWC3Dvw9/u25sbOStt/5CVFQUCxbMJy4ubvB25Ff4pmekk56RPkCL73K5cblcREdFEREePvC8a5R9ksFg4I9//CN//OMfycvL47e//S3x8fF9U7B+HUB9Qz0vv/wyBz4/gKjTkZ2dxYYNGymYNg2jyRjwFvN5fFRUVrBr1y5OnjylKrxkH44uBx2dHYSEhPDEE0+w4vEV2IPtoMDlK1d48803OHToEG6Xm8ioSML7VV5RFLo6u2hsbMRgNPLiCy+wavUqNeXUWOMOd0Z6vURWVhbPP/88dXV1fP/993R1dfHpZ5+RPmEC69atJTgkePQvrKijfEtrCzt2fMLBg19ht9tZuHAhRqORi2UXefnllzl95jQul4tx42J4+umf8Mgjj2IPsgHQ2KgmK9m/fx+OLgdJyUk89thyHn30EULDQke/zqOJoGrTi84XsWXLFs6eO8v45PE8vHQpGRkTKC0tpbKiktWrVxMZFTmidmC1WElOTuLQwUMc+fprpk+fzooVK4iNj72uDgEU1VKkk3RcvnyFHR9/jOzzsXTpUhKTEtVl+xCzSkmSJC5eLKOpuQmPx0NNTQ0xMTFIeilQOIDb5eabo9+wdet7VFRcIjQklFWrVjJl8mQMRsMAoS8vL+fVV1/l0OFDzJo5iyVLlhCfkMCZM6fZvHkzBw4cIC0tjccffzywpomPj2N6wXQ2b9pMU3MTG9ZvYNXqVQNu8ty5c7z++uv3feJIQRSw2mwsWriIS5cuUVdXR11dHZWVlWz6y18Yn5zM/PnzMVmG788/HBRFob2jnQ8++JBt2z5i9uzZrF2zlsSkJMxmE6mpqSxctJBDhw5xvug8P/nJT8jLy8NisagFyBAdHUVERDgXLlwABZYuW8rixYvUpc9Yxi9ADQ2NvLvlXQ4cOEBoaCiHDh/i8NeHyc7O5urVq8yaOWtkSlZ/Uw4KDuLJJ59k6tRp/PnNN9n89tt4fV7Wr99AWFjokJ2ITqejs72Tz/fvZ9v2baxcuZJljyzDbDbf0KQnKYpMWFgYigIul4vGxkZ1fSorAXdPn1empKSEre9txeFwAJCdk83UqdOw2q19GzEqUFdfx1t/eYtt27ezYf16XnjxRaIiIxF1OiZMSMfn81FRUUlcbNyAl6036LEH2TEYDYSGhjJ9xgzmz5+PLMsIgoAsKyQkJHD23FlaWlpITU0d/sO9BxFEsAfZWbVqFdXV1WzatImOjg5Onz7NW3/5C3FxceTk5tz+1Nnf4BVZobOzkw8++IDXX3+NOXPmsG7tOtLS0wJrdr1RT0FBAQXTCyi5UILRaMJisSL2dtQCdDu6aWpqxqA3sHLVSjZs2MC4ceNur453mn7C097Wht1u5ze/+Q0FBQWcOHGCTz/5lObmZjIyMnhs+WPYbLYRz/oEUcBsMZOWmsqzzz6Lo9vB22+/jclkYs2aNdiD7IGw7f71amtvY9euXXz62WesWLGCZzY+M2CmPPAifX9KsqyQlZVFbW0tHR2dtLS0IMs+BFEfuOG2tqvs2rWLsrIykpOTaG1VBS8xMbGvRL/iprKikgMHvkAQYFpBAQmJ8cg+1W6t10vk5eaxbt1a8ifnD6iMx+2lvb2dq1evkpyUTFJSIgajYYAHUkxsDAvmL6DL0UVSclJfcor7FAGBhIQE1q9f37fe7+nhiy8OkJqawt9E/S3R0VGjMkMSRIHi4mLeffddgoODWbVyFWnpaf7wYALvMToqmtzcXIKCgmior6ezsyOwbPR4PBQWFnLkyNfMnTePZ599luSk5LGjpxmK3pFTgYTEBJ776XPY7DZsNhvh4RFMnz6djo5OQkNDiIyMUs+5RSuWTtIxYcIE1q5dS3l5OZv+sonsrGwenP2gKvT9pu4Oh4ODBw+yZcsWpk2bxs9//nMiIiIQRdGfCGZoJFn2kTI+BaPRyHfffkdjYyM+X5+pye12c+bMGQ4ePEhOdg4trS1IOomkpGSio9Sb7FUHyD6F5uZmamtrsVosag55/OYbf/vIzMokNi6WkJCQQGZaUSficbupqanB6XQyLmYcMTExAx68z+vDbg/isccew+P1EBERMbInei8iqFO9iRMnDljvt7W18eEHH5KcnMyqVasICw+79Wv4G1pXZxfHjh2jpqaG9es3kDdxoirQ17QuURJJTU0jLi6O8kvlNNQ3kJ2djSAIVFyqYNOmzeh0Op5//nn/52NYmdeLAt3dThobGwLZirocXdjtdkJDQomNjSMszEltbS3d3VX0JmEJCQklLHzkegudXsekSZN48MEH2bRpE0eOHCE3L5fg4OABHcp3hd/x/vvvk5Odw9q1a4mMjKKnp4e6ulpsNhvRUdFDdvqS1+tVp80CHDx4iIaGhoDgy7KMo8vBp59+htls5uGlD/PSSy8REhpCbGwMRqMxUAlQOwCz2YzZbOJq21UqKipw97hVBZz/GKvNitVqDeR56x0xOjo7AskgYmPjiIuLQ5HB5/MG1rCZmZmERQyzEQfMiF6/pUC+6Sl9CAgCiIKITqe7bqOKMYP/mZrMJubOmUv5mnJqampobGzk4sWLbN60mZTxKSxavKjPRtzvvGGNRv5jLl++zM7PdhIeHk5BQQF2u23wgB4FUlJSSE9PZ++evVwsv8isB2fhcHTz0baPKL94kRd//iIF06bdNWHAiqxw4UIJmze/TXV1FT6vj5CQEB555BEWL1lMSEgINTU1vPnGm5RdLEORFWLjYlnz9Bpmzpqp3qd/Rjy8C6pyNG3qNHZ8vIN9+/fx5MqVBNmDEHSqZaSyspL3tr5He3s7Tz7xJF1dXZw/f44LFy5w/PhxHnroIRYtWoROGLztSgBxcXG43C48Hjetra14/b1ad3c3O3fu5Pz5c6xatYrg4GAaGxqJGRejTtGuQRAEEpMSmTJlCp9++ikffPgB4RERzJ8/n8hrTUz97bkKtLW1UVxUjMVsITY2BlHU4XL1UFNTwxtvvIGrx8Wv/99fExQ8TCWQf5ZQeqGUvfv20tTUPMyn3nsvYDQaWb36KbKzs8b8dDQsIoxVq1ZRWVnF5s3qer/wZCFvv/02EzIyiIuNDcTvj/Reuh3dnDp1iuKSYh588EEmT57cF28wCDExMUyYMIH9+/dz5vQZaq7UcPLUSY4dO8byx5ezePHiPq+yuwBBFBg3bhzpaWns3q0ueZcvX05iYiJmsxkBgciISManpPDBhx/g9fqYOGmSmlp9pELvRxRFsrOzSUxM5NSpUxQWfkdCQgImsxG3282hg4c4fvw4oiiyZesWdKIOQRRobW1FEAQWLFiALMvohkihJimKgtVmZdy4cXi9XtquttHT0wMyVFZW8s677zBu3DgeeOABDh06jMPhIC4+joSEhL45fuAJQXJSMmueXkN1dTXffVfIP/7jP1JfV8dTP3mKqMioIT2JWltbqaisRNLr6XZ0c+Trr+no7ODwocNs/3g7S5cuUxvLcAhsYyVT31DPvn37qKysGnE7MxqNzJ49WxX8m11vJPR3rBjFxp+YkMjGjRu5fPky+/fto6enh33795GamsqLP/85UZEjMzGBai5ydjspKyvD1eMiNjb2+k68PwKYzSYmpE8gNDSUk6dOcujwIXbv3kNKSgpr1qxR16HCQN3AbT+L/uffSvawm1w7ZlwMTzz5BN9+9y1VVVUkJCQyPmV8wNYeEhbC5Mn5hIeHM358CuvWrWN8yvhhlX1dPfz6hPDwcOIT4jlx4gRFRUUsWbIEk9mIpJPIzMzkF3/9CxRZQVZk1QdCFBEFkbCwMLKzs5F0Q4fiSKCuE6OiojDoDXR2ddLR3k5ISDC7du2io72DF194EYvFQnFxET7ZR1xcPPEJ8dd7FylgMpuZN28eHo+HV159hePHj/Mf//Ef1NbWsm79evJycwf2gAq4elxcvnyZtrY2QOHcuXPUN9Tjdns4f/4c3d1OsrOzMBpH5hijlySmTp3Kv/z3f8Hlco3s4aPqJtLS0m/44twuNyUlF3A6u1WFyk3i2ftuW0GSJNLT0gkKGR1TliiJTJyYx7PPPkNdXS2FhYU0NDTwxptv8Njyx4iKjhyxgOkkHS6XiytXrqA36AkLC1NH+6FQ1PaUmaV6lJ06dYrXX3udlNQU1jy9xj8KCgFLgdfjxeVyIekk1fx4Kx2AAl6vl4aGBurq6gboqIaLzWojLS1NXb5e0z57f0VHRzNj+gw+++wzSktLqa6+TFR0FMjQ4+qhrKwMRYHZsx8kNjYWRVGuX2PL4PX5cLvdgVnlUJYXWZEJDVVNeY0NjQH9gk5SdQB5E/MGPU8QBIxG0w2VuhKo04rgoGCCgoLo7nbS0tJCfUM9R48eZemyZcx6cBbNzc2cOX2G4KBgEhMTMRoGCTDxe6+FhoWydNlSwiMiePONN9i3fx+vv/46Cgp/93d/R0R4RJ8XntD30Hp6nMyePYd/+IffERkZicfjYfOmzbzx5hukp0/o0ykME0EUCA4OJjjvFpxZ/F5aN9SIK1Bf38Df/s3fUFxSogrEMJJV9np/hYWH8af//SfmLZg3aqO/yWRi3rx5FBcXU1lZxdXWVrXnv8UcmrJPxu1209jYiCiK/vThyg3dbkVRJCUlhaSkJI4eOYrX6+Wp1U+Rm5fX9zwVdSl2/vx5CgtPMnFiHtOmTrs1C4QCTqeTLVu28Pprr+NwOIav0/G3w9zcXF577TUS4hOu+74314mgE8nLyyMtLZ3ioiIulZczZcpkREGkqamJQ4cOkZiQwLx58zCbhhA8ERrrGjh27DhGo5FZM2cSOoQCUBRFgoODEQSBxqZGvF5v4HOLzdKnsxn05BvftgTqjVttNsIjInA6u7lQWsqpkyeRJIknn3yCsNAwtSFVVRIeHk5GxoTrb6q/+UIAu93OnDmziYqMRG/Qs3nTZj7//ADz5s7joYceGqAwc3Q5KC4qRpIkMjImkJubq5ryZFi4aCFdXV1kZmYi9W4MOZy20T8mWVF7z5HQm8MuYBYZ7JoCmExGsrKzsFqt6CSJkUhYkD1I1dQOVf4tYjKZSExMJDgoCKPBwM9e+BnxCfG3JPyCIOD1eWlra0Mn6gL7BtzsHEFQ04SbzCZmzpzJjAdmYLVZBhzn9rjZtWsXr732Gr/5/36j6g5uMD0dEhEEQSQ+Pp5J+ZNwu9wjVOZCau9oP5jA9Hs3yeOTmTJlMufPn+P7098zf8F8wsNVh6Qzp8+wbNky0tLS1FH8WpOev02WFJfw0kv/xsSJE5mYl9cn+P1d3lHvyWRSZ7nNTc14fargK/5kL7eTRifwlE0mE1GRkZw9e5aPPvqQjo4O1q/fQEpKCm6Pm4qKChwOB1lZ2YwfP37Qwq6N7tMb9GRkZrB27VoOH/6alpZmLpReYOGihQNcbR3dDiqrKrFZbWRmZqovzf/Qpk0rIC8vD5vVhiwr6Eawv7viU7h06RJHjhyhpbVlOINxAAFVW75k8RLS0tOGPC4yMpJ/+sM/3dL0ElCncqNMWVkZO3bsoPVqK0+tfop169apu+PcxqwioJkGbtaDKLJCQ30Dzc0t6PV6MrMy1Q7O76XZ23B1Oh05OTmsX7+egunT0d2K0PuxWi2seHwFixcvvqauN0dRQJbV7c9uRlhYGNOmTWPPnj0cPXqUVStXIYoihw4dxmqzsmDBAnU23G/QAfr+L0BkVBSPPPIIubm5qql1kMcp+GfPvUFevbPE3u9ul8CTNptMREVH03roIMeOHWPpw0tZsngxFquF5qYWLl68iNfrJSZG1egP5iM/WC+n1+uZMGECWVmZnD9/3h+S2nenHreHqqoqWluvEhYexoQJEwass8wmE5JOR01tDR0dHer3w4ljF9QR5dz5c/z+v/2ei+UXR/xwjAYT77777g0FXxAFQsJCRlz2HUFR14Lvv/c+hw8dZsrkKaxbv46ExIQbTwtvgICAQW8gLCyMsotlgSCcG+GTfdTU1lBfX4/NaiMjI0MNyAqUqf5jNBlZ8cQKVjyxQq2+fOs9kyAKmK1mzFa/u+xIZjcjMGsaDEamTp1KXl4eR48epai4CFmRKSz8jqzMLLKys4eOQPV/nDcxl7yJuX2f93YQ16oDZJn29nYURSEiMgLJvx3baMwOA4JvMBqIjlYdctLT0lm7di3x8fGq4qLHSVFREXpJT3Jy8nVr7Y72Dvbt3UdbWxurVq8mNCykr3eXFTweD7KsYLPZ1TiAfmmielw9/g6hk/i4OH9Iqzxgy6iuri7e3vw2sqLw//zqV30dw1D4H6Kkk5g0aRK/+6+/o/Vq6wgfjYAk6Zicn3/j6/jr+KPibzjtHe3s2LGD7R9vJyo6mo3PbCQvb+KwYryHQg0CkQgPD1etPm1tNwz+AFUvcOnSJerr64iMigx4s/W6gft8Pr799lv27d1Hj6uHqVOmsmjRIkJCQ/pcxW+XW1AQDuc8URRITU1l2tRpfHviWw4ePEhpaSmKovDoo48ScoPgqNqaWrZv287F8otkTMhgxYoVxMTFDP4s/c5t7R3tKApERUWh199mwqz+0XnqLwG7zU58XDwhISE8vPRhFi9ZrI6sArS0tHKp/BIWq4XExAS/Equvsh0dHXz40UfU19UxrWAaISGT+oJ2ZB/V1dUUFZ0nLTWNgmkFfQFAqEqZwu8KcTqdJCQmEBkROWA20d3t5PDXh9m/fz8Pzn5wgDPQkPi/10k6kpOTSR6ffMvKrRte68cW+H54fV5OHD/By6+8TENDA7/61a94YsUT2Oy2vrXgLQyoOkmHwaAPmHu7urro3bzzOvzluz1uLl68SFNTEwUFBVj8QSu9bUIURBISEmlsamTvnr1YLFbmzZunKtqUH+mhDveyAlisFiZPmUL0uHHs3r2biIgIZj4wk0n5kwbOhK9Z29vtdhBg27ZtzJ49myVLlgxdB//fra2tKLKsDpjS6KVGC0igTq/jseWPkZWdRXpaumqflNULHzz4FY1NqlbX4XDg6HaojjT+Xsnh6Ka6qorKqkq2bn0PURQJCQ7B7fFw6dIltm7dQnx8PM88+wypaWmBHVqd3U5KiksoKi5GUVTTRllZGWaLGdknIysK339/ildffZXOzk4KphWoSSWHy7XrrMGEfyjniv7njCEB748iq+s9j8dDUVERb/75TSorK3n0kUdZtXKVGvLcn1u5DwEsFgs5ubmYTWaqqqqorKgkKTnp+mxNgmrePHP6DEVFxYE1aVdX14CRXBAFoqOiCAoKwmAwMG3aVGx2+23NTH4w/O0hNzeH9LQ0zp09S0hIaMCD7zr6Cb/ZZCY0NAyvx0tiYiKRkdeYV/v9LftkGhsauVx9GYPR4I9yvM3Uav0YMHeIj4/vF3gDLreLUydPcfz4cSIjI5EkiUuXLlFVVUVubi6CqEbN+bxeYuPi6Ojs4PPP91NeXk5ERAQ6nUhrSysGo5Hf/v1vKZju7/0FVfFWW1fLF19+gSgKxAj09+AAABDuSURBVMbEUFRUxO/+4Xf+IAM14q/L0UV7eztZWVnk5uXemgKon2JlROeMZRTUDD8KNDU18/5773Po0CHyJ+Xz/F89T2raKEUv+t1Hc3NzyczMpKqqijNnz5CQmIg4yFK2ob6Bffv30eqPoOzs7KLwu0LGjx8fyBGgKApt7e1cuXwFs8VMcnIyJrNR7RwUYWw/e3/dwsLCmDJ1CkePHiU3N4dJkyZhMBgHXzL425+zx8mVK5fp6ekhLq5fdGqvJl/uU+h5vGpAU119Henp6eRPyg9o+EeDgam3erWh/srrdDri4uN44YUX8HnVgH+TyUxYWBiCIKDICpJeR/qECfzb//pflF8qp6KiEofDgclkJCJCzf4aHR1NSEjIQKWcIGC323n44YeZM2dOwPFFkQcZlgW/F1N8/MhTPwvX/L5X8GvHe3p62LdvH9s/3k5QUDAbn9nIjBkzRm9XHEG1G8fFxvLw0of505/+D8ePn2DxosVINut1h9uD7CxbtowFCxbg8/oQdSI2qw2T0RTwjVAUheqqKhobG0lOHh8YKe+KPAv+5qnX6wkNDSU2LpbFixar6a9uZHESoLOzi+rqy4SEhqr6M5G+UFvZ30Rl9Tm4XW5OnjpJ29U21q5dN+LEHjfjhsOnpJdIS0snNTWtn/FQCeRwD8Rh6yVi42KJjo5m6tRp+CNwAqm5RJ14nUALAoSHhRMWGjbghobarVUn6lSrwV3QNm7IKC4dfD4fx48d48033qC9vZ3nnnuOJUseuv1su9ciQHBIMHPmzGHHxzs4evQIJ0+dZObMmQP0NcgQEhzC1KlTA++x97fBYAg4y/jcPqqqqmhubiY3L1f1yOy1OtwNcTsCtLe1c/78eVJTU5n14CzMZsvgx/bXhbW3c+nSJWJjY4iJifWP8EKgTEVRo/p8Xh+FhYV88803JCUlMXfuXDXGfxTbzk0fs6TXoTdI6I169bdB3+di2G8KLYgCkkHCarOoEXh2KxabJeCbLwzSG+okHZJeGvDTm9/92p+hfPzHDDdSHl6rY7hVRWPv6bKCz+ujuqqKP//5z5SWlTFv7jzWrllLTG9Si9u8xrUIokBGRibPPPMMji4HW7e+R21N7cBriepP//doMBpUZ6x+787r81JaVkp9QwNpqWlqow7c3OjWe1RQoKmxmbNnztHV1YXX7eXw14cpLi5h4cKFJCUlDWlb7z+QtbW3UXHpEjExMWrQVK8Tjv+Q3oG0tKyULVu20NnZyU+f+yk5OdmjHsl4+xtq3I4wjmVBvhX8L7A3a9CAqausNnidTuqdOKmM5Bn0drKCQGNDI5s2b+LgwYOMH5/Mxmc2kpqWekezGNvtdp5c+SRen5dPPvmEV155hVWrV5Geno7dZh/2aN3d3U1FRSWSpCM2NrbPTDVG24MiK5w/f45XX32VOXPmYNAb2Lt3LwkJ8cyZPUe1nAzZYQkBJXhtbS3dzm7Gjx+vKsf7DZyyT8bhcHDx4kW2bt3KpUuXeO6551m2bFlfRp8faqqvMXzUzKs91NXVcbX1KtHjoomOjkaSJLod3VypuUJzUzPR46KJi+3LoDriTSoVVUu+Z+8e3n//A/QGA89sfIZZM2f1+VfcoVFTp1Mjv1auXInNZuPAgQP827+9pO679/TTA5x0hqo7QE1NDbW1tcTGxhEZFTVmBb4XBYWrV6/y1Vdfcf78eQRBJCMjgzVr1qjOUTDkPQj+Ed3pdFJScoHQkFBSUlLVpU+/8zo6Ovj44x189dWXmEwmNm7cyOIli4mOjr5h+bfK4IL/Q7yIMf6yR4QCV67UsGfPbvbs2UNzczMTJ07kr//6r4mJiWHXrl3s2LGDuro6bDYbTz7xJGvXrcVmtQXOB4b1TBRZ4fix47z99jvU1dXy4gsv8viKx1WX2FuxXowEv6IvOiqalStXMnnyZAoLT+LzefF4PMMupjexyqRJk/oa9hhGEASSkpJYsWIFJpOJtNQ0Zj04i5ycHHUZc9MCoLm5hbKyUmJiYsjNzekLMe/1fXC7kX0+5s+fz/SC6SSPT1aTlN6hd6mN+KOA2+1h3769nD59mpSUFC5dusTOnTvJn5SPz+ejpKSE3Nw8dDqJ3bt3oZf0zJw1k9y83JsX3g9FUaisquT999/n3LmzPPzww6zfsEEVnh/KeuGfclosFnJycklNScXpdBJkH0ZosaBmYS4uLqG1tZXJk/PVHAFjHEEQyMzM4u///rcY9HqsNuuIthSXfTK1NTUUFxUzdepUcnNy+/xR/J11aGgoT658ErPJjNFkIhASeIfQBP928acHi46O5oUXXsDj8VJeXs53337H10e+JiYmhlWrV5Obm8OxY8coLPyO2tpaamtryc31C/5wXrAMLS0tfPjBh+zcuZOEhAQ2bNhAbk7ODbPh3Cl69RcD/OOHwu+sVVdfR1lpGd98c5Tp06czc+asmy8PxgICWKxmLNa4gEmy9/ObUV1VzZUrV9i+fTsWq4WHHnpItd9f47SjN+j79hVQQLnDHoya4N8uIpiMJhYsWIDZbObsmbM4nU7a29tVrexPf8q0adMwmgyEhIRgMBjVTCkj3KPQ2dPDrl27efmVl7FYLWzYsIE5c+YgGUbnFTq7nVRWVqEoMnFxcX1Lh1FAkRWu1Fzh3Xe3UFNTQ2RkJKtXr2ZiXt7Y3jlnMITh62XaWtt4//0PKC+/iMPhYOPGjcyZO3eghWuwogRGJQLvRmiCPwoIOgGr35ml9WordXV1SHopkJ/OaDKgyAqtrVdpa2sjLi6WqKio4a3tFdUl9/Tp73n33XdoaWnhpz/9KStWrFBHjl4319tsKLU1tfzxj/+M1WrlF7/4BXabfVT9JoKCgpgzezZBQUF9ik+DdGd1Ej8msmrWnDZtKgUF04iOjiY+Lr7PAvAj37Mm+KOFrCb7aGpsorGxkdycXAoKpmO3B+HzyjgcXZSUFNPT4yQpKUn13BpGA1AUqK6u5tVXX6Ww8CRTpkxl3bp1JCUmjZ5gKur2aIcPHSY1LQ2324MymmtMAaIio4haEOVPbtIvyOdeFHoFEMFmtzF3ztzAPQrXeMb+mGiCP0ooqHv7lZaV0tnRSWZWJikp41E9HUXa29sp/K4Qs9lMelq6Gql14wJRIyOb2bZtGzt37iIpMZFf/OI/kZc3cXSmyP5rOJ1OKisqaW9vx2g0YDGb+xxGRmF0Cmyo2v//9zL9bm9Qv4oxcPt32QJr7CKIAlevXqW0tBS73U5mZiYRERGB7b+ampo4d+4c4eHhZGVnDWud6PP4OHz4MFu2bMHn8/L0mqd55JFHMV2zn8HtcvXqVY6fOI6zpweDwYjFalVH/FG8RmA5MgYavYY24o8eCjQ1NVFWVkZkVCTJyeMD2nbZ56O5uZm6ujqmTp1KTEyMusmHT0bSS9eP3oq6j+H333/PW2+9RXV1NQvmL2Du3Hl4PG46/UkXrxWioeIcboTP5+PEiRMcPHgQt8uF2WzGZrP2bY01BtajGqOPJvijhMftoba2lurqy0zOzyctLTWQ46/H5aK2tg6vz4s9yE5YWDgnT57C5eohPz+/L467n4BduXKF1157na+++gpRFDEYDOzcuZP9+/eNWp0VRaG7u5uvv/6asrIyZEXGaDSo4Z+asN/TSKDGdWvcBoq6gWF5eTk9PU4SEhJITExEJ6kpqkShb0uuq61X2b17N6dOnSQlJYWJEycGygjEbXc7+fTTz/js00/p7OxEFHV8vGMHKErfFHyUkGUFj8eNoqh5/m02e99oD1oHcI+ijfijhNfnRSdJzJ49mxkPzAgknVCdPyzk5+ezaPFi6upqOX78GLNmzmJR/33hBQJ7BR49epQPPnif1qvqdkiKIuN0OhktdXD/zqN/Ci29Xo/VaqE3sKS3Xhr3Hv4RfwzYF+5y7HY7K1c+yeJFi9TdVWCA8GRn5/D73/+eK5cvk5CYQGxsLAaDoS+e3Z/uwOPxcv78eaqrq+9I6m01VcLgOciCg4OIjopGN0LnIo27D23EHw0ENV9gfHw8SpzSl+ev12YrgyTpSE1JITk5CUknXZ+fwH+spNPxwMwH+C///3/BJ/tu2ikLgqCO2r2JUW4msDcQfINeT/7k/JHlNdS4K9EEf7QIOGkMItCoQilIAuKNLKh+n+0pU6YwMW9iP7/N/r1IPxRuy57ft0FDX511Ot0djenXGBtogv9DMJJps0AgGxEQkHWP20NNbQ1dXV1qGvTQkAHn3BKBJBAK4r3uVKMxAK1rvxsQoLOri9dff51//qd/prSsTN1m7HZl1b8M6XY4qKurQ/bJfZ9r3NNogn+X4Ha5KC8vx+VyYbNaByRpvCUU8HhV34MPP/qQ//E//icdHR23V6bGXYM21b9LCI8I5w9/+CdQFGLjYgObkoxYSBU120tdbR0nvj3BoUOH2Ld3H9HR0bg97sAxmvDf22iCP8Zxu92cO3eOhvoGzGYz41PGo9cbbjnKS1EUmpqa2blzJ+eLijCZjLhcLtx+Jx6N+wNN8Mc4brebb45+w5/+z58ICgri17/+NTExMRhEA7IsU1ZWxpUrV/C4Pf5+YHDhDQsLY8qUqUg6HRaLmfz8fJYsWYLJbOLEiRO43W7oNQdq8n/Pown+GMdmtbFw0ULeffddrFarP4e7Og/3+XwcPXqU3bt30+PsGVpoBcjOziYvLw+9ZCE0LJTpM2YgSTqampqQJAmvx/uD3pfGj4sm+GMcBTVevr6hnoKCAjIzMgMONoIgUFBQQFRUVCDL7VDT9d69D3sLlfS6wPGKoiBr8Rr3FZrgj3E8HjdVVVV43B6SEpMw9UuSIeklcnJyyMnOUbeuvkGMv6IwqK1eEAT/eZo2735CE/wxjtvtpqysDEEUSExKHJCEUfbJFBeXUFNzRY3vl4cetcPCwpkxY3o/Qde4n9EEf6ziN6m5XC4uXChFEESSk5IH2O99PplDBw/y8Y6PcblceL0+hlrkT56cT15urprs8YYX1bgf0AR/rCKoaakdDgcVFZew2azEJ8QPGK0FQWDO3DkkJCbg8Xivm8r3X+9HRERgNpsDZasHqJ0HqHu7eT1ef073O5/eWePHRRP8sYqiTuWrqqpwdDlITUklPDx8gOZe0unIysoiMzOzL3NtP4HtL/iiKKITdYEOpb6+gcqKCoqLi6mtqaXH1cOu3buYOHEiycnJREVF3ftJMe9jNMEfS1yT/EJRFEovlOLz+cifnK+mxOp/rIgqzDcrr1+ZvXn6Kysr+PKrL6moqCQzKwsUhZOFJ2lvb0dRFCIjIxGUYYT5atyVaII/RpFlGbfHQ1FxETpJx5w5cwbuIz8chhBanU5iQvoEIsIjkBXZrxQU1FmBTkdwUNCId/rRuLvQBH8s4Z/G+zw+PF4vZ06f5uzZs2RkZDAxbyImo+mmRQwHnU4kPDKc8IjwwYVb89W/59EEfyzhX9efPHWSw4cPU1RUxLjocWxYv4Gw8LA7et2AsGsm/fsCTfDHGD7Zh8PhwGAwsHz542RkTCAlJQVJJ/UFUd+OYAqD/K0J+32HJvhjCQEkSWLqlKnk5uZitVgxW8zXbamsoXG7aII/xhBEAXuwHbtyzd56mm+NxiiiCf5Y5dqRXRvpNUYRLfWWhsZ9RO/4ISmycv2no4E2NR0e2kiu8QMiy7Ialj3AxVNWNDfNe4WRKAJHqjS8k2WPhLFS9lh6fspgORnUvRv7W28kALPZon597e4uGncvI8zlP2bKHgljpeyx9PyEQTZ16YdO0oEgIOklPV9++QVNjY1awkUNjfuA7m4H/xcrFoFEu4CjMQAAAABJRU5ErkJggg==)\n",
        "\n"
      ],
      "metadata": {
        "id": "meneM7tUlBNZ"
      }
    },
    {
      "cell_type": "code",
      "source": [
        "MSE = mean_squared_error(y, previsao_valores)\n",
        "print(MSE)"
      ],
      "metadata": {
        "colab": {
          "base_uri": "https://localhost:8080/"
        },
        "id": "hnhGvFLwlEml",
        "outputId": "a8918ecd-ef77-4812-9a57-540c7e50644c"
      },
      "execution_count": null,
      "outputs": [
        {
          "output_type": "stream",
          "name": "stdout",
          "text": [
            "9989.829839426571\n"
          ]
        }
      ]
    },
    {
      "cell_type": "markdown",
      "source": [
        "### Calculando o Root Mean Squared Error\n",
        "![image.png](data:image/png;base64,iVBORw0KGgoAAAANSUhEUgAAATwAAACLCAYAAAD8vSV/AAAgAElEQVR4nO29d3RcdZrn/bmhoqRSKOVoRUdJtnFOOGCwwUCTwaRuoIGenu453b179j0z8+7MnOnZs72z+87ZPpPoQBMb6KYbY5INxiY5gHOWLVs5Z6kkVbz3vn/cUkmyJVuSI9bvc46Nkapuqlvf+/yeKBmGYeghHVmV0UI6F0KSJKQRfq4bxgXfJxAIBFcbWZLQDR1FVXjrzbf4xS9+gQogyzIYoKjyhbcwiq4p0kgyKBAIBNcQAxRJAUDTdBRZQTZ/PgYL7UIvMS7ye4FAILjKGLoR0SVJMv9Sx/xuYcQJBIJvNQYXWcMKBALBjYMMZjBCWHACgeBGR1h4AoFg0iAETyAQTBqE4AkEgkmDEDyBQDBpEIInEAgmDWPPwxNMLgzMyL0x+G9RQSi43pAG/hpjlokQPMEF6erqoqGhAU3TrvWhCATnIcsyUc4oMrMyUS0XlzMheIJRMXSD3bt382//9m8YhlmmoxsXbjAhEFwtJElClhWmT5vGX//1XxPvjh9cmYyCEDzBqPj9fk6fPs3p0+XMLi0FoLe39xoflUCAWRxrGBiGjiRJY+sHgBA8wWhIEAyG8Hq9FBUV8vwPnqewoBBNFxae4PrA1DwDu91BXGzcRa07EIInGAnDvJE0LUQwGMJms5GUmERWTta1PjKB4JIQaSmCEZGQCIVC+LxeHA4HdocDXRPWneDbjbDwBOcTXhYEg0H6+vqQZRlVVZCV8PNR9D8UXK9cJEVFCJ5gVHRdJxAIYLPasNvtw0VOdNcRXI8IH55gQkigaRqBYABVVVEUJfJzgeDbivDhCUYlGAzS29uL0+EkyhkllrGCbz1C8ASjomkaoVAIi9WCrCjibhF86xG3sGBEDN208AKBABaLBTGYTnAjIARPMCqhkIahG9hsdnMMgEDwLUcInmBUAgE//oAfh92OYYTH3gkE32KE4AlGxTAMVFXFZrchy5Kw8gTfeoTgCUZEkiAUChEMBLFarWKyneCGQAieYEQMw4zSGobpwzN/eG2PCbhglUdk0vz1cJyC6xKReCwYFS2koWkaqqKY/fCuAwKBAKGgmSpjsVpAD1uioSCKrGCxWpAQ1qhgZITgCUbBIBQKoekaMTExqKp6bUXEgPb2dr766itOnTrNgvnzuWneTfh8Po4cOcKZM2dISkxi9Zo1xMbGCr0TjIgQPMGI6JqOz+dDVVQsVgu6rg82D7iahFtVNTY28uabb3L0yFGOHD3Cvn17ee7Z5zh16hRnK85y8MBBunu6cUZFsWrVSmx229U/VsF1j/DhCUZE0zR6+3pRVBWHw2EuE6/RqtYwDPr6+khPT+fhhx9m1qxijh8/zocffkhSchI/+MEPWLJ0CW1t7Zw+fZqAP3BtDlRw3SMsPMHISBAIBLHZrNc28VgyB7VMmTKFrMwsGhsbCQaD+Hw+UtNSWbNmDVHOKGxWG2DgiomJ+PbE41xwLkLwBCNi9sLrRVVV7Nd6eSgRCVL09/dTV1tLQUEBt9xyC9HR0Xi9XpqamgDIzMw0W1kJBCMgnoGCEdE0Ha/Xi8VixW63I8nXPvKph3Tq6uro7OykuLiYvLw8VFWloaGBxqZGcrJzcCcmmi8WUQvBCAjBE4yIrmv4/X6z0sJqM31415hAMMCJEyeQJImC/AJsNhuSJFFZWUlrayszZ83E7U4gGAxiaNdHGo3g+mDABy0ETzAimqbh8/mwWi3YHdfHEjEUDHG24ix2h51p06ZhtZqC19raSm9vLzk5OXR1dbFv334CARG4EAxBAgND+PAEI6NrOv19/VgsFmw2GwbGNbfy/H4/DQ0NOJ1OcqbkIIeX2YqioGs6Bw4cpK2tjYL8AkpKirEhUlMEwxGCJxgRXdfx+ryoimpGac8Vu3PnWxhD/n2F8Pl8LFywEIvVgjvBHTmOuXPnsm79Oupq68jOymb1mjUicCEYjmEua4XgCUYkFArh9fpwOBxYLCNUWQz9//AA5N6eXlrbWklOTsHpcCApl1f9UlJT+PGPfwyYUduBY5g2bTp/99//Dn/Aj91ux253IAlnjWAIhql4QvAEIxMMBTF0nSin84KvCwU1vP39nDlzhu07tlNXV8ePf/xjcnNzxzQJfjyoFhXVEr5lh1iYsiLhjHbixHne7wSCoQjBE4yIrun4/L7zS7TCYmIYBrpu0Nbaytt/ept3N73LiZMnmD59OsFgcPgy93IwlhGRxjn/vvaBZcF1hhA8wYiENLMXnqqec4uERaS3p5evv/maTz75hIMHD3Li5Am6urq4Yk1VLrSkvtDPBIIhCE+HYER0XUfTNex2x7CfG7pBwB/g0OFDfPDBB0RFRfP8889zxx134HQ6w8N+hPIIrk+EhScYkYERjXabzRzCPaBhBsiyQm5uLg899BDTpk3H6XRQVVWF0xkFMLYJZ+EZGQbGeUtfA+OKWIqyJKHpGhbVgm4YyJIkHvmTDCF4ghExDLMf3rk+PEmRUJBJTU0lLTUNRVHw+X2Dvx9q3V1E+HRD58yZsxw/fuxyHvp5GIaZQ2gAhqEjyzIpKSnMmT0HZ/SFgzKCGwsheIIRCQQCeL1e07o7B0mRUCQVSTatNFkeYiZJjDlBWdd1vvziC/7nL/4nfr8/YtUpiowsn7/fiWIYBsFgAMMwkCUZ3dBZvXo1//uf/zdOp1NYeZMIIXiCEQkGgxgGREVFm0J0TtRzIM9NkiX0iYxvDFdIZOdkExsbx+HDh9B1HQODjPQMli5ZSnx8PJIsRVq2D21RNZaW8wOv8Xl91NXXc+jQQZpazK4qnR2d6IZ+XVSQCK4eQvAEg4RFTQvpYetOxulwXPRtE0WWZebNm8fTTz3F//n//g9VlVUAWK1W5s2fx4MPPIjT6TT9fAyxHCPidyGhMiKCp4U0PL0eXn31Vf7jP/6D1pbWsOUqhG6yIQRPMBwD9HDjAEVWsNvtpnP/SiBBXGwc9953L5VVVfzmN7+mq7uLmpoa3nrrLW66aR4LFy4IN/c8560XOSYDGFgjS7JEYlIiDz74IF/v+Zrt27ej6RoiQ3nyIbwXgmEYhoFuGPT39SPJMja7zeyFd4WQFRl3gpuHH36INWvWYLVYwYDjx47z0u9+x9mzZ5EU6bw/yFzwjyQz+FrJFL3k5BRuWXsL0TExYetPWHiTBUmSTB/utT4QwfWF6ZPT6e3rRZYk7DY7iqxcOW0IdzOeMWMGTz75XaZPn46iKPj9frZu3cq7m96lu6v7shhjLlcMN910E7GxLiRJRlh4kw8heIJBwqKm6zp+vx9JkrBarRcu5TLXjhiG+RSVpCGdkceqJxLY7XaWLFnM9773FDk5OUiyRHNLM2++9Sbvv/8+/X39l3JmAKiqSnp6Ovn5+STEx6PIighYTDKE4AnOw9B1+vu9KKpCVHTU6C8cphUGGAaapqHr+rj3KckS7kQ39913L3fdfRdOhxMMKCs7xUu/e4kDBw9g6OcnKY9rH5JEamoqP/nJT3jqqaeIccWIVe0kwTAMJEkSgic4n2AohM/rRVVV06d2AXTdTFD2eDz0e/vp6OjE5/VNqHjf0A3S09N56KGHWHHzCqxWK5oWYvee3fz+97+nsrLSFNOJip4EMa4YVq9ezdJlS01RFYI3qRCCJxiOYc6z8Hg8gITVNrLg6ZqOp9tDU1MTR44c4fjx43R3d9Pe3sbRY0epqKigva0dX79vbAJlGojIkszMmTN59tnnKCktQZZl+vr7eO+999i8eTNdXV2XLFI2u808r7Hc/cLNd2UYz3U1wNCJuFAi/57AtkRaiuA8DMPA7/ejKDKOUfLwej29bN+xnRMnTnD82HFOnjiJ2212IX71lVc5cOAgBQX5zJ+/gJtumnvxubaS2dcOHZxOJ6tWrqS2tpa21jYqqipoamzihRdeIDMzkzvvvBObzTbsvVeMkbYtAryXxgiJ7Bd6rWGAz+ulvaODzs4O7DY7KakpxETHjHua3uURvHMVdqAX2hhPKPKe65GRzu1GRjJHNPr9fmwDEdqRXibL2Gw2EhISWLxkMYuXLDZ/PhD+l2WcDqc5b0LXR93OeYStrqjoKNavW0fZyZO8+Lvf0dfXS/npcn7/+u/Jy8ujtKQURb185WejEr6PDT1ckSEP//mYtzHAjX7/jIEBf1rkGo52LQ1oaWnl8OFDHD16FI/HQyAQpLfXQ3JyMitvXsn8BfNHXYWMxIQFz9BB00JommYuRcLpDGaRtoGimBEw1TrCLsI3gKZpaCHNvKEMs5vF0Nbd56GDPxBAlsx9SJKEIivIijzyhTPMSVehUCi8S7OWUlFVZFkya0AHIpOabrZE0rThIjxwwxtDu4BIKIpsRvluwI4bhmFeB6fTMWoOXnR0NLfccstwn9oIbd8tFov5+UyAtPQ0Hn3sMeob6tmyZQt+v5+vdu7k5Zde5ic//Qk52TmXvY38MAyz1X0wEKSispLYWBcZGRnomh5ugGoGZ+SBe0GRItaLrusEQ0FzloJsPgQURUVVr2CKzxVA13RCoRCSJGOxDnabHviuj9fC8vX7qKmtQZZlMjOzsFotw2uxBwhfxzNnyvnNb35DX18/37n7btIz0jl08BCb39vMiRMn+e9JiUydNnXM+5+w4Om6xtmzZzlx4qSZwoDZFtxhd6BpGrIsk56RzozpM4iOiR5szQ0ggd/rp7y8nPLycoKhIMFgkOTkZObOmYs7yT3iBdB0jarKSsrKyuj39qOqKrm5uZSUlETSJwxtsOVQd3c3p06f5sSJ47Q0t2C1WklwJ5CTk0NRURHJycmmwALt7e0cP36clpYWdF1HVdRwm6Jwtn7YctE0s73QtOnTmDVz1g0ndmAGInx+n3lNR7mbJZnItbvshAXUolooKSnmmWeeoaamhv37D9De1sbbf3qbvPx8nnnmmQuK8kT3bRhmmo2ua5w+dZp3Nr1DxdkKHnzwQRIS3JSXl3OmvJyQFkLCfEjPmzePrOys8CYMKqsqOXz4MMFAEEmWcTjslJaWkpWZdWVF+jKih3Sampo4cfIkqqpQUlJCfHw8/f39NDc343K5SExMNK3fMX4GPr+fHdt38MUXX7Bs+TJuu+02puRMQVZH+CJJ4HA4mDFjBrNnz2b9+vVYbVZmzZpF2akydu/aTUND49URPAkJr9fLtk8+4cuvvsRqtVFUWEhiUiKhYIjWtlZ6Pb1kZGbw0IMPcfPKlVhtg18QRVXo9/az7dNtfPXVV/j9fooKi/jxX/0Vt6xdc/4ODaiuruY/X3iBbds+IRQMsXTZUp566qlhuV8G5nSr48eP84c//IGamhpiXbE4o5x4PB7Onq0g4PezctVKnnvuOXJyciIdP8rKynjzzTdpaWllypQcpkzJRR3oFiJBU2MTFZUV6LrOz372M2bMmIF8oyle2Krp6+0jJi2Ga+a1l0BWZaySlSVLlrDxkY20tbZRW1dLS0sLb775BoWFBaxZvcZsYTUeN8pF9osBvb0etmzZygcffIDVYmH5iuVMmzYNgPa2Nt7Z9A4HDx7EYrFw9913M2/evMj7JSQ6OzvZvHkzBw4cIC4ujg0bNjB37lxzZaJf/6sCPaRz7PgxXn75FY4ePUIwEGTx4sWsW7+O1tZWyk6WcceGDbgT3ON64ERFOVm8ZDG9fX3s3LmTvXv38vDDD7Ns6TKcUedHzQvyC3jm6WeIj49HVS3omo6iKNisNixWy7jLHicseLIik5GRQUZmBnV19eTkZHPHhg3MnTsHTdPp6urkj398m1dffYXWllYS3AncNPemyAetWlRyc/NIS0unqbEJr8+Hz+ejpaVlxP319fWxdetW3ntvM/V19djsNubMnsOMGTOwWAaFVNc19uzZwy//7y9pbWvjqe99j0WLFxETHUMgGOC3v/0tL774O4qmFqFreqTsKNYVS25uHn6fn8rKCtatu42NGx/F5YoBzOV3RUUF//zP/8yxY8eJckYhS/KN58AOWzb+QABVtVw82HAlGLJLWZZxuVzcdfddVFZV8vrrr9PZ2cnhw0d46aWXSE9Pp6S4ZGQLYQIYuoHP5+OLL77g17/+NVOm5PCDH/wFU6cWYbc7UBSZktJSZs+ezdatW3E6nOTn5ZOcnDzs+F0uF6FQiMbGRlatWsW6detJTkoeefl2HeL3+9m5cyd1dXWsXLmSs2fPsn37dj799FNsdhtrb1lLRkbGuB80FquF4uJipkyZwp49e/j3f/93fvnLX+J0OFm6bNngZsLbjY6JJjomOmLUhIIaZWVlVFZVMu+meeTk5IzrvCYetJBAVS2AhCxLpKWlsXTpUqZMMQ8gFApht9v59NNtHDp8mK+++orp02fgjBqM+lmtViwWlZSUFBxOBzU1NfR0d4+4u/Iz5Wzfvh2/P0CMK4bU1FTmzZ9HXFzcsMz+7u5u3n//fXbt3sUzzzzDnXfdad6M4Qu4atUqDh08xOzS2cTFx0U+LNWqYrVaMDBbIs2ZPYeSkmLTIRp+TU52Djt27CAYCJKekWGK90CO7Y0ietKA3yZIVJRzxH54V/t4AKZMmcL3v/99ampq2LJlC8FggB3bdzBlyhTSfppGckpy+OXj8ymdi6bp7N+/nxde+BWKorBx40aKi2cNW74nJrlZuHARU6ZMob6+3pxor6qR+0TXDCorq6irq2PNmjU8/fQzzJo1c8K+zGuBpuskJyfz/e8/w/z58/F6vWzfvp0dO3aQmZnJ/Q/cj9udMKEHoiRLuGJdLFu2jLa2Nn75f3/Jq6+9SmZWJpmZmcPmqAxYj4YOoWCQqqoqNm/ejGEY3P/A/WRkZoxLcC8pSuv3+2hsaEDXdTIyMgefcpJZxhMXF0dCQgJNTc3U19efl4Hv9/uoq6sjNTWVgsJCyk+X093TM+w1hm7Q1dnFxx9/TF9fH3PmzGbv3n0UFRURGxt33jHV1tRy8qTpV5wxYwYulyu8ITPwUFJSyg9/+EPyC/KJiY4ZsiNoa2ujq6uT+Pj4wQs/xAlttVq57bbbKC0tHXyyXKxL0bcNyfSV+n1+bDabacVeB8iKTGFhIY899hg11TUcOXqEjs4ONm3aRH5+Po888sjgZz0Rwl+a9vZ2Nr2zicbGBp552vyyD11BDJCbm0tpaSknjp+grraOvr4+XLEuDM2gqrKS997bTGxsLM9+/1mmT5/2rbHsBoiKcrL2lrVYbTbsdhuxsbHcddfdrFq1CovFQnx8wrCg37gIX2unw8maNbdw6tQptn2yjU2bNvH0008TExNz3lt0XaOuro5XX32VqqoqnvreUyxbtnzEz+ZCXJLgeb0+Tp0+hc1qY8qUHGR5MNQcDATp9fTS3NyMFLEGhxMIBKiuriY9I53MzEx0Q6etrRVPj8c8acm0FPfv388H73/AnLlz6OvtIxgMMHv2bNzuhOEblKCrqwuPx4OqqOFWR4NRRAlITU1hw50bRqz3bG5uprWllXnz55OYlGRGnMMOWVmWkRWZtbeuPW+fF0Xn0n02V3HpbBgGgWAAi8UyoTKxK4XNbmPNmltoaGjkf/3iFzQ2NVFRUcFrr71GQUEBq1atirgZDMMYd3DA0A3q6mrZ8dkO3O5EVq1eRXR09IjXPTUlhdKSUv70pz9zuvw0ra1tuGJdtLW38ed33mHfvn0899zzLF261PxSfkseij3dPZSXn6Gvrw8wI9E2m43ZpbOJjolC13VOnz7FyZNlhEJBFEUlKSmRvNw8MzdyLAbAwO9lSHS7uf322/nwww957733WL9+PVOnTh1cOYXv++amZt58802++uorvv/9Z7n7rrvM9vzjdDFPPEqrGbQ0N9PQ0IDNZqOgoCBywrqmE9JCHDt+jJ6eHjIyMli4cAEOh31wAwZUV9fQ29vHwgULSXS70TSNjo5OPB5PROWrq6t56623cMW6KCws5J133sFqtZKfn09sbGz4YIhc6OSUZNxut2mC79jOgoULyM3NxaJaLvhheDweampq8AcCFBUVRrrtBoNBjh0+RlVVFYsWLSYtLXXcfovW1lbKTpURCoXG/qbwRbLZ7OTn55GSmnJ1RM8wOwSD6XK4Jj68CxATE83dd99FZWUFr7z8Cp1dnRw6dIhXXnmF9LR0iqZORZHlwRSRcRy+x+Ph022f0tPdw/Lly0lJSR01P0y1qkzJnUJqagqHDx+mqbGRrKxMPt76MR9v3cq9997Lbbfdis1hG1+i7bXEMH13X+/Zw6Z3N9He3oHL5eKO229n+vTpOKIc+H0+9u/fz+bN79FQX09BYQEbN24kJztn2HbGeq6KRSE7O5v8/AL27NnNgQMHyMvLG2a5NTc388e3/8j+fft5/PEnuP12M1rb2dGJLMtER8egDLgLLrLfCQuepoWoqq4yTXmXiylTpkR2KEkSZWVl/PnPf8bT4+G+++5nwYIFZvKpbi6ZQqEQ5eWn0UIh8wStFmJiYujp6aanp4e0tDT8Pj9ffPEFh48c5sknnyQqKpq6ujri4+PJyckZTDiMdO2A7KxsFi1cxJ49e9iyZQvx8fE899xz5OXmDU+NGSB8gVqaW6itrQXDoKioiIT4eHRd58SJE/zrv/4rvb29TJs2jdSUFNOvMI6E6SNHj/Lzn/8jHo9nXAKiazopqSn87Kc/Izk5+aqIj6bpeH1eJEkiJibm2vvwzkFRzbbwjz76GDU1Nbz/3vv09fXx4Ycfkp2dzQ//4oekpqeaLx7H5TIMU/C2fboNSZaYPXu2ad2NRMSvmEt+Xj6ff/45lVWVqBYLm97dRG5eLg888IApmAOv/5aUqMXHx7Pi5hXs3LWTXbt2UVpSypy5c3DFuECHpKQkVixfwfbt2zlz9gwb7tzAksVLzAjrBEU91hVLaUkJW7Z8xNdff80999yLxQwPoGs627ZtY8eOHdx993e47757cblc9PR4eO+99yIJyIrdPqZ9T3xJa8CZM2fo7e0lKzMLWZY5c+YMXV1dVFfX8Mknn1BdXc3jjz/Ok088QUJCQmRZp6Dg8fZSVnaKkKaRMyWH7u4eEuIT6Onx0NvbSygYoqG+gc8/+5y5c+ayetVqtmzdQkNDA8uXLx/mmwMiJxsVHcU9995DfX09mzZt4rXXXqOlpYWNGzeybNmyQf/AOUmyjU1NVFdXgwSfbvuUuro6tJBGZVUlu3fv4Z57vkNaWtrwm3eMH25MdDT5+fn09faN+T0DU7bc7gScUc6rZmnpuoY3bOE57A6Mc7+pF1ueD3n4nMdAC7rLcCozpk/n8ccfp7KikqPHjtLV2cUf//hH5syew7r168zhPOMRPF2nvb2DpqYmHA4HmZmZFx43aUBGejq5ebl89NFHbN1qprBYLBYef/xxMjIyBq0OGO5CuZSgSkjD5/NjGON3NaiKimpRTd/0SMcgmdkTU6dOZfXq1ezcuRNPb69ZOaMOZiTY7OboztLSUtavX09ScvLgjBGdQYNgrPe6LJGalkowEKS5uRlvfz92h1k6WF5ezubNmzl+7DjR0THs37cPgH5vP2Vlp3j++efOv0cvdA3G/MqhGBAIBigvL6evt4/aulp+/vOfAxId7e309fUxddpUfvrTn7JkyRIyMzKHRbkMzIBFeflpYmNjSU1JRZLMNtxdnZ309PTQ1t7Gy6+8TFdXF4899hjxCQnU19fT29tLbm4u8fHxgxuDyMWVJIn8/AJ+9OMf4Yp18cbv32Dz5s3U1dbh9Xq59dZbcTqdwx2uEjQ2NlBfV09mZiYzZ80iIyOdtra2cOcPg5ycnEjLovHesDNnzeJv//b/Rde0cXw4ZnmH1WY1z/Vq+e90A29/P5Ik4XA4hgctDOjo7KC/v3/8FosE7gS3WZt7Gc7F4XSwfPlyvvvd7/Iv//Iv1NTWUl9fT3VNdSTdaDyENI329jZ8Ph9xcXHEx8dfONAgQVRUFFOnTiU5JYUtW7aQkZ7Bf/t//huzZ88e1kfQ0E3rUQuFiHHFjLzSGCOtra189NEWPJ6ei7/4HGw2G4sWLaKkuOSC/k2LxUJpaSlFhUV8/fXXVFZUEvQHsYTzaGtra2lubmb9+tuZOXOmWQM9wDlVSh6Ph2AwSGxs7KilgKqqEhMdg67reDwePL0eYmNj0Q0z8dnpdJKXn09bWxttba3mbgxITk4mPT19XKuQ8V/5sEO4sbGRpsYmoqKjuO2225g3bx6apvHOO+9w4uQJ7tiwgdWrV5OWnhbxsRm6ESnfam5upqWlhcKCQpxOJ/HxCSQkJHCs/hidHZ0cPHCQTZs2cdddd7Fg4QIa6huorq7GolrIzs42vzgjpYQYYLGo5Ofn85d/+ZekJKfw4u9e5JtvvuGFF35FRkYGCxYsGPbB9Pf1U1NTg6fXw8JFi3jkkYfJzc0lFNLYNuMTXvzdi0ybOg1FVcf99MIwI15R0ePLFzp3G1cL3TCXtAA2u32YZRkIBPgf//Q/2L5j+6hiYFYpnH/ADoeDv//7vz8/6DNRJEiIT+CODXfwzd5vaHz7T0RHRxMfFz+h9A9Jgs7OTkLBEHabnfi4+Ism1CqqQu6UXNLSUqmtqeXRxx5l7dq1REVFDbs/WlpaeOWVl2lra+OHP/wh2dnZExb9zs5OXnn5ZZqamxhv89LomBgcDifTpk3Dppw/J2Qoebl5zJ4zmy+//JIjR47Q3dNNYmIiHo+HI0eO4HRGsWzZ0sEV0zmGh6EZ9Hh6eP3116msrOSHP/yh6fYa4ZAVWcEZFYWiKPT29tLR3kFGegayLFNaWso//MM/mFP0dOM8cXMnusc10nNCj5pQKERdbR1t7W3Ex8dz3333M3/+fCTJ7FxbUVHBtm2fcPvtt5uCN8T6UmSFUMgs2QkGgsycNYvomGhCWoikpCQ6Ojo4dfoUdXV1uN1u1q1bT2xsLCdOmOH/hIQEMjMziYuNM7PW5XOeLuH/VS0qqampPLLxEaKio/jFL37Brp07+eabb5g9ew62IQXHLS0tnCk/A0BRYSFZWdk4neBoK7kAAB4tSURBVE4kWWLe/HlIsszcuXNR5CGJxmO91yTo7+2nrb1t1IincYExh6pFJT4unuiY6Mj2riSGYdAftvCiooYPqZYw/XoJ8QnDLFVT3y6syna73XREX0bnfTAUpKuri+7uHqKjo7jnnntYvGTJqB1eLoShG3R2dhIIBFAt6nkDyM9/A4CE1+elv6+f9Ix0Vq9eTaI78bwHcHt7GydPniQYDJq12gPvn8B1SHQn8vDDD9Pj6Rn3g9BqszJz5gwzg+FCSGbfwHk3zSMzK5MDBw7Q2tqKO8HNqVOn2L59O7NnlzJ37tzzZhIPoBsGbW3mebe3tRMKaaPvTpYiJYKBQIDevl6QzFSkuPi44bm2l8j4BC98gYOBIMeOH6OttY2s7Czy8/OIi4vFMAyKi4vJyMjg4MGDnDhxnLlz55jRPgYd/ZJkJhJruk5RUREW1QxYJCQkEAgGeP/994mKiuZ73/sexcWzALOsq7GpkZycHDIyMgbbiWPerJIkRf474GOSJZnkpGRWrLiZzz77nDfe+D21tbX4vN7zBK/8TDlOp5PcvFxiYqLRdQMFicyMTFJTUtF1nb6+Pmx227iXJMdPHOfll18Oh/pHuKwjWEQDT2+3283999/PoiWLxrXPiWIYZrqRoRvnLT8tVgs/+y8/40c//tEw8R5rsm909GXsMKyb0bs33niDPXv2sGDBAr775HfJz8+bUG2tbug4HA4kSSIYCOL3By74ek3TCIWCVFRU0NjYyIqbVxAfF39eN5VQSDMns917L06nk6TEpEu6BkkpSTzx5BNm8f44/bqyJKOq6pi6zKiqhdlzZjN9+nQOHTrE4UOHcbvd7N+/n+bmFp5+aiHRUeGH8Lm3r0Ekenr7+tux2qwkJyeNui9dN8eCGrqBzWobcUrd0G0PY5zXckIWXjAUpLKiEn/ArH+NHpLAm5KSSmpqGn7/Ho4fO47X6zNPYOBAZbODSWVlJaqqkpmZgc1uQ1ZkkpKSwYBjR4/xyMaNrL1lLdHR0fT3e2loaKCrq5uFCxaSmpJqWneGWdCvazp19XW0tbUxtWiqGV2TiVhi0dFRJCa6w21pZPMpKxFZEjc1NnH27FkS3YmkpaWZDQLCYXFFVQiGguz5eg9tbW3cfPPNkaz+izJw0wdDeHrMjsAjLUNG8usNnJfVZg2PFOSyWkejHrKh4/N5kWWzF96w5YJklvoMuDWGctHl1eWamRPeRo+nh48+/Ih3N71LUlKiWRFRUnxx62UUVFXF7XZjtVrx+/2jVvwMHIOiKvT0eKipNl0hU3Km4Ip1RT4jwzDweX00NjbS1tpGamoq+fn5gy3zJ5ibaegGDqdjXAX7Q497rEgSZGVlMW/ePI4dO8bm994jKTmJnV/tpKiwkJKSkuHunSGH4vP6aG5pprm5GbfbTW5e7gWTwrWQRndXN7quY7fbzes46oGN/1yGMqG7o7urm4rKCkKhEEVTi8xhzWEBiY+PIzs7C5vVxqnTp/D7fSDFDh6gYWazt7S0kJKSErkQFqsFtzuBGJeL5KQkNmy4g9S01HC5WBeny0+jaSGys7NJTkmO1NZJkkTAG2DLli0c2H+AH//Vj5k5a+bgxTFMi9Tr9eKKcZGWljp404VvzPr6ehobGpk1cxbp6elmkvSQC1tTXcPvfvcSsbGxLF68eNzXq7ikmL/5m78JC9fYblIp/JeiKGYFy8CNdYVFLxgMhUc0Stjt9pEjlRJIxjgPYiBX8jIcv98fYOfOnbzyyit4fV4efexR1qxeg93umHCCtyzJJCYmYrXZCAQCdHR2oIW0ka2h8Dk0NTZSU1uDqpg+40gaSzhS6fP52b17Dx9++AFRzih++rOfEZ8QDrZN8DgHRG5CHWLG+RaLamHlypV8/PHH7N61i8zMDGrr6vjuk0+SlJQ0uM1ztuvz+di3bx+bNm1CURR+8pOfkpScNKIlOEBPTw+arkX8sMOs11HuwYkwLsEbeKqfrThLZWUVFtVCZkammXAcvgksFguzZs0iKTmJ2tpaKisriYuLN5eQ4U4cZafK6GjvoLik2EwfCFNQUMAdd9zO7NlzmD9/fuSk6uvqOXTwELIsk5ycTJQzyvzAw1+iHo+HgwcP8dlnn7Hi5hXk5eWjKDKyLOP3+Tly5AjHjh1jxc0rWL58+aB/RoKebg+nT59G07RI0rKua2hBHQmzNveDDz9g9+5dPPP0MyQkjNC66iJER0dTWFg4rvcM7QCj68awiPKVxGwc4MeiWrBarKNbbteiUsowl5KVlZW8+uprlJWVceddd/LQQw+HH4IT37SsyLjdiSS63bS0ttDQ0DBc8IYItYHZDLS2tpa6ujrUcD24zWobEpk1cDodJMTHc+bMGRwORzjxnKtiqV8OlHBLqKKiIvbv38+mdzYxb/48Vq9Zjc1uM63MEaK9DqeDuLg4amtq8fl9o0e7w28NhUI0NTWhqiqJSYm4Yl1XLA1rXIKn6zrtbe18+cWXNDU1IkkyHZ0ddPd0k5BgFhLLssz06dPJzMzieLi9TKwrlqKpRUiSRGtLKzu276CmtoacnBza29tJS00L+/9K+K//5b8SnxBvtgsP17d+s/cbys+UA9DW3kZXdxeJlqRIa5hej4eOjnaaW5p57bXX8Hg8FBYWEgqFOH7sOF98+QXZ2Tn84PnnmTFjRuSGC/gDHDlymH379yHLMp0dnXz88cc4HI7wcJogZSfL+ODDD1FVleyc7GGFzWNGYtyNEodaxLIsDf7sSi9pdYNAIIDFar0+it0Hzjm8BGxqauL111/jiy8+Z1bxLJ544knTb3cZviAuVwxz585l07ubOH78OPr955gkQ5ar7a3tfP3N1zTUN6AoCs0tLWaFkCsm4l9WFRVZNv1mhQWFxA9pVvFtYCD5fN68ebz77rt4fV6WLllKcnKyma400nkYpmWoKAqarpGbmxvpODQaPZ4eTpadJDo6mpkzZ0aaB18JxvXtDQQCHDp0iLr6OmbPno0kSdRU13Do0CGWLFmKw25HURSKioq4de1aHA4HPT3d7Nmzh7S0NFSLyr79+2hsamTGjBlIssSxo8fIyckhJjoGV4z5Z+hT8uTJk5SXl1NaWmoOjunxcPLESeYviMbhcCIBsbGxrFq1CpvVRkdHB+++uxmb1YokS1hU0+K8c8OdzJ4zO2LdGZpBVVUV2z/dTlJiEqtXm0+tvXv3Rp5ImqbT2dlJeno606ZNZdq06eOrPJBG+fd43nsp25gABgbBQBCHwz54rtfyCzqwbxm8fV62bt3KH//4Ni6Xi4cffpi5c+eE21hd+nHGxLhYu3YtW7Zu4eTJk7S2tJCVkzX8RYa5/Prqq69oaGhg9hzze1BbU8OBgweYN2/eoJ8Tg9q6WlpbW8m9I+zH+paI3QADqSFut5vMjExW3LzCtGQvlKIoSzQ3mWlnS5cuNZf6o/jcQoEQZ8+epaKigvS0dObPX2CWgV6hZ+24BM9qtTL3prnkF+Qjy6bzX5IkXC4XDoc94ldwxbp4+pmneeDBB9F1DafDiTPKiaqoLFywkKlTp0a+TDHRMcOWtUDkKShJEjOmzyD9L9OHtViPi4sblkkfGxfLI488woY7NuD1eQkGg/j9fmRJxu5w4Ha7SUiIH+aPkRSJzMxMNj66kccef3ywszEjBBEMM63CzPm5DqyeK4iu6/j8fuz20edZXHUGajy/+YbXXnuN7u4unnzySe688y6z5OkyiB0SWKwqxSXFFBeXUFVVyf4DB0hNSx0s/g/fFlHOKBYuWEjxrOLI2xVFIcYVg8PhiGQLaJpGXW0dPT095OXlmXNwvy0WnmQaBUimT05VVZYuXUpWVlZkST/a+7SQRn1DPd3d3WRnZ5ufUfh359Lv7Wf37t0Eg0HWrl1LXl7uFb0+4xI8RVFITEokMSlx9BeFb4rklOQRo5nJqckkpyaf/56hGjPkqe5Oco/a8n0Ai9VCnDXO7G83DpxRTgqLxudbu2EJX0/DMAj4w62hLtT+xzjn31fqOWCYqTIVFZX85je/4dSpU6xYvoInnniC1NSUy75ftzuRO+/cwAv/+QJ//vOfKCwoMFOnLIPNJyw2C2kZaRc97o6ODhoaG0hJSTXLEr9FGLqBbuj09faxe/duEuITWL1mDdFR0Rd1H3R2dlJfX0+iO5HMjEwzjWtodDUspoFggAP7D/DhBx+Snp7BAw88MNgQ5AoxvttlLMo70aetNMKfSz0WwfgIp5sEgoFhpVEjIg2+PpJyMvTPubNDL4Guzk7efvuPfPLJx+Rk5/Dsc88yffr0K+JjdDod3HHHHTzw4AMcPXqU13//e9o7OsZ9X+uaWRZVU1NDfn4+bnfYSLjO79vurh5279pNZWUl/f397N69h/379nPf/fdRUlI8eh3uEBobG6mvq2dK7hQyszLPj7ga5gqr4mwFv/7Nr+nt6+Wxxx6jpDQ8m+YKcn3Mpb3Ob4JJQfgz0DQNv9+P25144eafBgSCQTAMLBZLJOFbD+louo6mhVAUBUVRJt4oEnM59en27by76V0cDgePPPIIN9007/IO7hmCGa11c9999+H1etn7zV5efPFFVq9axaziWRH/3FjOp7GxkaamJlatXGU2z7jeMcwpYf/0T/9EbGwsxcUl7Nz5FQkJbu6+627cCe4xnXdraytV1VXcdNNNJCUlDY5lxHwQtLe3c+TIET766CP6evt47tnnuPXWtYP99K4g14fgCa4bBrLezaDPyOPzvF4vp0+dZt/+fXi9XtavW09efh4BX4CTJ8vYt3cvPp+P4uJiSkpLiI2NnZDo6ZrO3r37+PWvf019QwPfffJJ7rr7LmIvpbPxGJBkiYyMDL733e8xbdp0vvzyC3774m/Z+MhGbl65cjBqfgFCWoi6ujqampqHN7u4zlFVlb6+Pr788ksOHzrMgoULeeKJx8nMyhyzlVtTU0N9fQP33ntvuAv64Jv6+/vZumUrH235iLzcPP7iL/6CBQsXEht7ZQM6A1MHheAJBgmnXGghzax+GUHwerp7+OSTT9i6dSv7DxygtrYGv9/PU089xa5du3jvvfc4cuQI9XX1TJ8xnR/96Efcdts65PG0hgovlc+ePcvLL73E7t27Wb9uHY899pjZtukqjDlUVIW0jDTuvvsu5s6dw/79+4mOiUbXNOTRqjkiflDo6OikvLychPh48vLzsF+sNvc6ISMjkx/96EfU19eTlppGSXicwUVdHGAWCXR1c+bMGVyuGPLy8gYjukM++8ysTB7d+Cjz588nMSnxilnrIyEETzCIAb29vWiaFo7SDhc8Qzc4fuI4+/bvY+myZWRkZPCPP/9H9u7dS3R0NNXV1Sxduoxly5bxh7f+wOeff87s0tmsWLHCjFCOceCRYRh0tHewefN7fLp9O3l5uTz40IMUFBaYInw5WuaPEUVVyM7KJiMjA1mSLxqlD4VCaCGNspMnOXbsGIsWLWL6tOnXXefoEZEgMdHNPffcE6mVHmtqkhbS0EIaZ86e4fDhI8ycMdPMeR16uQxzQNaKFSsYKEYcd/ehS0QInmAYgUAA3dDNnoHn5BxKSOTk5PDoo4+Sl5vHBx9+AAZUnK3A5XJxyy23cPdddxPSzFrpT7Z9QkNjI/39/abgjeMYdu3ezeuvvw6GwcZHNrJqlZknOSwwMh6GfKFCQQ0MA1mRxxT4kFV5TPOHNU2nprqGU6dP8cH7HxAMBLljwwayc7LNF3wbUlLC6WDjSUkydLNd3MmTJ/ng/Q/wer08+MAD5Oflj7BtkM69llcjvzTsRxSCJ4gQ6VphGDgdzmFDmcD8b0pKKikpKfj9flpbzWaMff19LFy4kLVr16KqKr19vfT19WGxWIiNjR3WXOKixxAyxyT+6lcv0NTUyEMPPsRDDz9MfFw45eicvmvjJRQMcebMWU6fPk1WVhalpSWXFFQZtu1QiJNlJzl8+AjpGenceeedLFy4cFjz2xuKgYqlQJBjx45z5PBhEhIS+OlPf8KiRYsGSzgH6qivA4TgCSIMdPgwdAO7w44sy8OTTCXMZa4M3k4v1dU1aIZGSXEJK1euJC42DkmR8PsD1FTX4HK5yM7KwjKOdloNjQ384Q9/YPfuPcyfP49HNj5CRnr6oN/uEr84vb29bN26hVdefoX777+fqVOLzk98nyBWq4UVK25m4cKFqKpKVFSUWTVwI2OARVVZvmwZC+bPR1Zk87zDE++ut0R9IXiCYfgDfnRdN9vZw/m+p/D92+Ppoba2huioGEpLS8nOzomIUXt7OxWVFSQkJDBt+rQxLY90Taerq4u33/4TH374IakpKTz66GNMmzZ9eP/BiQjeEKvQ6/Vy7Ogx2tvbzVkNl+sLaZj+qBhXNDGMMvznRiP8WciqTFRMFFExUcN+LY9xktjV5PqSX8E1p7e3DwPCLbdHTzLt6e7hzJkzpKamUFxSjMVqzgHWQjrVVVW0t3eQmpJKUWHRhR32A01lg0F2frWT1157FZ/Px+OPP85tt906rLb6UtFCGp2dnZwsO4msyETHRF+25ez19KUWjI4QPEEETdPw+Xxm/bPTcV6UFjATjv0BGhoaaKhvIC0tjZycwXkdXm8/R48dJeD3m3Nb01KHP+ml4dsaELyysjJeevllTp8+zdq1a3nyu0+SmJh4ee5QadA/efToMWpqaiJLzivVlUNwfSKWtIIIZv9Ac0SjfZQ5n4YB3n4vhw4dIqRpZGRkkJycjK4ZSBL4fX7KT5djtVkpKChAQqKzsxNFUYZ3vQ0LnW4YNDc08cYbb7Jn924KCwtZt24dsizT1dU9apLvheaAnItumK2+9u7daw7TaW0jLz/PrNscaAogdG9SIARPEMHslGIKXnRU9PkiEO5Y4/V5KTtVhsNuZ/q06TjsjshLg6EQbe3t6LqORbWYLbh2bKeosIi1t64dLMIPb8/j6eFPf/oTb731Jo1Njei6zq9+9SvefPPNC45bHGkOyIXPzaC2toZTp07h8/tw2B3ExMR8O/LjBJcNIXiCCOayz2fWxl4g+93T46G2tpaUlBRmzJwRycKXJAmr1UJWViaHDh3kw48+4mTZSVJSUslYlWm2zh9CSAuxa9cuXnvtdWprawFoammi+dMWjHCW8nk5WxHGI3gSBvpAqiuyJKOoKlHOqOsuiii4sgjBE0SQZQVNC2G1Wgc7O5+Th2foBgYGJSUluFwuSkpKBjvUSmZ/wztuv4O+3j58fh8zps/g1ttupbCwcFgLdsMwqK+r589/focjhw9HMvul8BpTGmoGXjLm9swUG3OJa7PZcF3hVkSC6w8heIIIhq4TCAQv2CVFkiTy8vL427/9W2RZJiY6ZlgXaIvVwpo1a1iwcAFgTruPzKSVhm/H4/EQ8PuZPmP64LyHK4yiKOiazqxZM82giGBSIQRPEMHAbP4ZFR11wRpK1aIObwJ7TvNWm8OGzXHx2aKZWVn85Cc/obev97wh5QNzhi93MGFg7kpcXDwJCfGDEWQRuLihGZiLLQRPEMEwDILBIIqijD6saCRRmKBQxMXFUlJaYgYnhmzHMAxzCIw2+rT6iSLLSjjhWBL+u8mEZD7QheAJIhi6QX9//xXvOjtUIGV5SAcSCQwd6uvr+Oyzz8jKymLx4sVYbZf3eEYcYi2su0mBeMQJhuEP+Ae7FF9pRhjMHAoGOXrkKP/5H//JZ599jt/vvzy70g16Pb2UnSyjurqaYCB4WbYr+HZgDgEbPeYvmKSEQiGcTuf4xlFOlBHmmBgY2Ow2Fi9ZTElx8aUX3xtmMnRLcwuvvvoqf/d3f8+OHTvo7++/9OMXfIswn65iSSuIEAwFCQaDWCwWs472KjIwALy/r58pOVN48oknycjIGGwxNO4Nmr7A1tZW9uzew+eff85nn39OS0szS5cuufC8DsENixA8QYS+vj6CwSAOh4OrXoBgQFNTE9u2baOuro7MzCweeOB+U7h0A103CAT8aJoebiJ5/gEaAIZpIaqqSjAYZN++fRw9dpSVq1ai6Toff7w13NxUCN5kQsy0EJxHMGjmwtlt9qtuAQ303aurq+OtN99i0eJF3HvvPZEW4I0N9Xz99df09PSgG/qo27Hb7cyaNYuZM2disVhYsGABpaWlJCclU1NTyxeffx4uJxNRismIEDyBiQH9/X2D8ywU5armpsmyTEJCAsnJyTijosjOyjZTYwxTDDu7Ojl46CD19fVmtcdItbQSxLpiiY+LZ8b0GUgWicTERDRNQ1EVsxGB0LlJjRA8AWD6u/x+P6FQiBhXzGDaxiW2VB8zEmi6RsXZClRVYeasWdht9kiNbkF+Ac8++yw+nw9JkgZz987ZhtViJTYu1qzsCP9MUZXBFwjFm9QIwRNEHPx9fX2EQiGsFqvZpfhylrOO4Rh8Ph9nzp5BUVQKCwtQFDNJWEJCtagkJCRgGnbmAY1k5UmSjN1mG9E4FXInEIIniOD3+cEwux1fbWXQdYPm5hbq6+tJSkoiIz0DWTX9iIYO1dXVbNu2jZaW1gsGVJxOJ4sWLWb+vHlY7Vc4gVrwrUMI3mTinJrXoWghDV94SWuxWAaXhCO89koQCgWpra3F6/VRUFAwbNKXYej09fVRfrqc6ppqM+gwitXpinWRl5c3YmDDwGyBpes6xtDfizraSYMQvBuVc31vF/PFSRL9/f3ohoHLFXN1Eo+HEAwGKS8/jd/nIy8vf1BwDZAlmfz8Ap7/wQ/w+bzIssJoiqeqKonuRKwW07rTNbM+GMOgt9dDv7eflpYWent7sdvNaPSAJSm48RGCdyMzYLmEtcHb78Xj8eCKdY3Qwt1sgw5gsVivrsVjmIJXWVGJ3+8nLzfXPD6ION6iY6IojCkY32Z16Oho5/jxEzQ3N7F37148Hg+7d+8mOzuHKVNyKCoqIiUlRVh4kwQheDcqxmBum8/no6qqil27dnHo4CEefuRhbrrppmFVDIZhJh5LEqjqVbTuDHNEY0dHB1XVVSQkJJCRmWHW8l5ihFiSzHOqramhqbmJoqIisrKysNvtNDY2YBg6mZlZl+1UBNc/QvBuUAwMDN2gurqGPXv28Pnnn7F9+3bq6+ux2+1MnTp1UPDC6Wk+nw+r1Xp1l7OSOb/01KlTtLe3s+LmFSQnJ0c6KF8q2dnZPPDAA+iGEQl2DFRpGJidjwWTB+G8uEGRkNB0jaNHjrBr1y7S09MpKS5BkiQ++eQTjhw+MqxjiIGBz+dDlmWkq1RlEQqGaGlq4dChQ2zbto2Y6BjWrVtHSnLKZbszJVnC5rDhcNqx280/NrvZoNRmtZkBELGcnTQIC+9GRTKrF2YVzyI3L5fU1DR27dpF+ZlyqqqqeOONNyiaWkRGRkbkCx8KaVitVmxXuh8egAEtLa18vHUrh48cJhAI8MSTT7J82XIstkvskDLASIl4Q/9XEUo32RCCd6MimfMbcvNyMXQDLaSxaOFCbr/9dl566SU+3f4pt627jdtvvx2H0wEG9PZ6UFUV1XJ1bguH3U5BYQFJyUlkZ2WTl5+H0+m8KvsWTE6E4N3IDPisJLNSwZ3o5v777mfXrl18vedr3n77bebMmUNefh4GZvrGwMyHq0G8O56lS5cRmVI2NIVGGF+CK4Dw4U0GwuKhKAqFhYXccsstOJ1O9u3bx86dO8EATdMiPrxR51lcgWOSZNPPhszwZqACwRVACN5kISwkUdHR3HbbbcycOZOGhkY+3vox1dXV6LqO3+fHbrNfHcETCK4BQvAmEwbIikRhYSH33X8fCQnxfP7F52za9C7tbe0EAgHsDruY5iW4YRF39mQivFSMi4vjjjs2MH/efNrb2/ng/fcpO1VGIBjEYXeYlRYCwQ2IELzJiATZ2Vl8557vkJSYxOEjh/n444/p6e4OJx6L20JwYyLu7MmIAVarlUULF7F4yWLa29vZ/O5mjh0/js1mE0tawQ2LuLMnI+GGAplZmaxfv57cKblU11TT1NSI3SGCFoIbFyF4kxUZHA4HK5avYN369VitVmRZJsoZhXqVRzQKBFcLIXiTGEmSyM7JYf36dRQUFCBJEg6H46r3whMIrhZC8CYzkpmmsmDBQlauXIXNZsNqtV610jKB4Goj7mwBcXFxfOc7dxMKBckvyBcWnuCGRQieAFVVuHnFzSxcuNAMWIjSLsENihA8gdkAVJHMrikCwQ2M8OEJBIJJgxA8gUAwaRCCJxAIJg1C8AQCwaRBCJ5AIJg0CMETCASTBjMtReRdCQSCG4yRptKphm7g9weQJaF6AoHgBkECXdeRZRmrzUoopGEYIK1YfrOhaSGEmScQCG4EpMhfgGEOwdN1DcMw+P8BatQn7u6peAQAAAAASUVORK5CYII=)"
      ],
      "metadata": {
        "id": "6QTM2er9lhDL"
      }
    },
    {
      "cell_type": "code",
      "source": [
        "np.sqrt(MSE)"
      ],
      "metadata": {
        "colab": {
          "base_uri": "https://localhost:8080/"
        },
        "id": "oPyyYy3blnRp",
        "outputId": "cd8cb1b0-cca0-4598-cbb3-f965fea37afd"
      },
      "execution_count": null,
      "outputs": [
        {
          "output_type": "execute_result",
          "data": {
            "text/plain": [
              "99.9491362615334"
            ]
          },
          "metadata": {},
          "execution_count": 42
        }
      ]
    }
  ]
}