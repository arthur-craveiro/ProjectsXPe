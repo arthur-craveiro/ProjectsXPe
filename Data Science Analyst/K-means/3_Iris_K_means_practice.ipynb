{
  "nbformat": 4,
  "nbformat_minor": 0,
  "metadata": {
    "colab": {
      "provenance": [],
      "toc_visible": true
    },
    "kernelspec": {
      "name": "python3",
      "display_name": "Python 3"
    },
    "language_info": {
      "name": "python"
    }
  },
  "cells": [
    {
      "cell_type": "markdown",
      "source": [
        "## Importing libraries\n"
      ],
      "metadata": {
        "id": "WTj2Ry2y5Yfq"
      }
    },
    {
      "cell_type": "code",
      "source": [
        "import pandas as pd\n",
        "import numpy as np\n",
        "import plotly.express as px\n",
        "import plotly.graph_objects as go\n",
        "from sklearn.preprocessing import StandardScaler\n",
        "from sklearn.cluster import KMeans"
      ],
      "metadata": {
        "id": "adNRj2_D5bTO"
      },
      "execution_count": 1,
      "outputs": []
    },
    {
      "cell_type": "markdown",
      "source": [
        "### Checking library versions"
      ],
      "metadata": {
        "id": "iEyLwEnN6IVr"
      }
    },
    {
      "cell_type": "code",
      "source": [
        "import sklearn\n",
        "import plotly\n",
        "\n",
        "print(f'''Checking library versions:\\n\n",
        "pandas: {pd.__version__}\n",
        "numpy: {np.__version__}\n",
        "sklearn: {sklearn.__version__}\n",
        "plotly: {plotly.__version__}\n",
        "''')"
      ],
      "metadata": {
        "colab": {
          "base_uri": "https://localhost:8080/"
        },
        "id": "i5jAkDGY59xN",
        "outputId": "94a0bb7c-70f8-408d-9da9-7ff7c33516f8"
      },
      "execution_count": 3,
      "outputs": [
        {
          "output_type": "stream",
          "name": "stdout",
          "text": [
            "Checking library versions:\n",
            "\n",
            "pandas: 1.5.3\n",
            "numpy: 1.22.4\n",
            "sklearn: 1.2.2\n",
            "plotly: 5.13.1\n",
            "\n"
          ]
        }
      ]
    },
    {
      "cell_type": "markdown",
      "source": [
        "## Colecting data"
      ],
      "metadata": {
        "id": "ECDNAoA56PB9"
      }
    },
    {
      "cell_type": "code",
      "source": [
        "iris = pd.read_csv('/content/iris.csv', sep=';')"
      ],
      "metadata": {
        "id": "4ISyIaVQ6RXH"
      },
      "execution_count": 4,
      "outputs": []
    },
    {
      "cell_type": "markdown",
      "source": [],
      "metadata": {
        "id": "Icd02La56SKu"
      }
    },
    {
      "cell_type": "markdown",
      "source": [
        "## Analyzing the collected data"
      ],
      "metadata": {
        "id": "0TlnVHyb7Zqx"
      }
    },
    {
      "cell_type": "code",
      "source": [
        "iris.head()"
      ],
      "metadata": {
        "colab": {
          "base_uri": "https://localhost:8080/",
          "height": 206
        },
        "id": "QASfM2JC7gfI",
        "outputId": "c7f4ab4a-b9f1-41fb-f260-3f80cd02aada"
      },
      "execution_count": 8,
      "outputs": [
        {
          "output_type": "execute_result",
          "data": {
            "text/plain": [
              "   sepal length  sepal width  petal length  petal width        Class\n",
              "0           5.1          3.5           1.4          0.2  Iris-setosa\n",
              "1           4.9          3.0           1.4          0.2  Iris-setosa\n",
              "2           4.7          3.2           1.3          0.2  Iris-setosa\n",
              "3           4.6          3.1           1.5          0.2  Iris-setosa\n",
              "4           5.0          3.6           1.4          0.2  Iris-setosa"
            ],
            "text/html": [
              "\n",
              "  <div id=\"df-c9f03271-fb78-40f0-bd58-b5001cddba0b\">\n",
              "    <div class=\"colab-df-container\">\n",
              "      <div>\n",
              "<style scoped>\n",
              "    .dataframe tbody tr th:only-of-type {\n",
              "        vertical-align: middle;\n",
              "    }\n",
              "\n",
              "    .dataframe tbody tr th {\n",
              "        vertical-align: top;\n",
              "    }\n",
              "\n",
              "    .dataframe thead th {\n",
              "        text-align: right;\n",
              "    }\n",
              "</style>\n",
              "<table border=\"1\" class=\"dataframe\">\n",
              "  <thead>\n",
              "    <tr style=\"text-align: right;\">\n",
              "      <th></th>\n",
              "      <th>sepal length</th>\n",
              "      <th>sepal width</th>\n",
              "      <th>petal length</th>\n",
              "      <th>petal width</th>\n",
              "      <th>Class</th>\n",
              "    </tr>\n",
              "  </thead>\n",
              "  <tbody>\n",
              "    <tr>\n",
              "      <th>0</th>\n",
              "      <td>5.1</td>\n",
              "      <td>3.5</td>\n",
              "      <td>1.4</td>\n",
              "      <td>0.2</td>\n",
              "      <td>Iris-setosa</td>\n",
              "    </tr>\n",
              "    <tr>\n",
              "      <th>1</th>\n",
              "      <td>4.9</td>\n",
              "      <td>3.0</td>\n",
              "      <td>1.4</td>\n",
              "      <td>0.2</td>\n",
              "      <td>Iris-setosa</td>\n",
              "    </tr>\n",
              "    <tr>\n",
              "      <th>2</th>\n",
              "      <td>4.7</td>\n",
              "      <td>3.2</td>\n",
              "      <td>1.3</td>\n",
              "      <td>0.2</td>\n",
              "      <td>Iris-setosa</td>\n",
              "    </tr>\n",
              "    <tr>\n",
              "      <th>3</th>\n",
              "      <td>4.6</td>\n",
              "      <td>3.1</td>\n",
              "      <td>1.5</td>\n",
              "      <td>0.2</td>\n",
              "      <td>Iris-setosa</td>\n",
              "    </tr>\n",
              "    <tr>\n",
              "      <th>4</th>\n",
              "      <td>5.0</td>\n",
              "      <td>3.6</td>\n",
              "      <td>1.4</td>\n",
              "      <td>0.2</td>\n",
              "      <td>Iris-setosa</td>\n",
              "    </tr>\n",
              "  </tbody>\n",
              "</table>\n",
              "</div>\n",
              "      <button class=\"colab-df-convert\" onclick=\"convertToInteractive('df-c9f03271-fb78-40f0-bd58-b5001cddba0b')\"\n",
              "              title=\"Convert this dataframe to an interactive table.\"\n",
              "              style=\"display:none;\">\n",
              "        \n",
              "  <svg xmlns=\"http://www.w3.org/2000/svg\" height=\"24px\"viewBox=\"0 0 24 24\"\n",
              "       width=\"24px\">\n",
              "    <path d=\"M0 0h24v24H0V0z\" fill=\"none\"/>\n",
              "    <path d=\"M18.56 5.44l.94 2.06.94-2.06 2.06-.94-2.06-.94-.94-2.06-.94 2.06-2.06.94zm-11 1L8.5 8.5l.94-2.06 2.06-.94-2.06-.94L8.5 2.5l-.94 2.06-2.06.94zm10 10l.94 2.06.94-2.06 2.06-.94-2.06-.94-.94-2.06-.94 2.06-2.06.94z\"/><path d=\"M17.41 7.96l-1.37-1.37c-.4-.4-.92-.59-1.43-.59-.52 0-1.04.2-1.43.59L10.3 9.45l-7.72 7.72c-.78.78-.78 2.05 0 2.83L4 21.41c.39.39.9.59 1.41.59.51 0 1.02-.2 1.41-.59l7.78-7.78 2.81-2.81c.8-.78.8-2.07 0-2.86zM5.41 20L4 18.59l7.72-7.72 1.47 1.35L5.41 20z\"/>\n",
              "  </svg>\n",
              "      </button>\n",
              "      \n",
              "  <style>\n",
              "    .colab-df-container {\n",
              "      display:flex;\n",
              "      flex-wrap:wrap;\n",
              "      gap: 12px;\n",
              "    }\n",
              "\n",
              "    .colab-df-convert {\n",
              "      background-color: #E8F0FE;\n",
              "      border: none;\n",
              "      border-radius: 50%;\n",
              "      cursor: pointer;\n",
              "      display: none;\n",
              "      fill: #1967D2;\n",
              "      height: 32px;\n",
              "      padding: 0 0 0 0;\n",
              "      width: 32px;\n",
              "    }\n",
              "\n",
              "    .colab-df-convert:hover {\n",
              "      background-color: #E2EBFA;\n",
              "      box-shadow: 0px 1px 2px rgba(60, 64, 67, 0.3), 0px 1px 3px 1px rgba(60, 64, 67, 0.15);\n",
              "      fill: #174EA6;\n",
              "    }\n",
              "\n",
              "    [theme=dark] .colab-df-convert {\n",
              "      background-color: #3B4455;\n",
              "      fill: #D2E3FC;\n",
              "    }\n",
              "\n",
              "    [theme=dark] .colab-df-convert:hover {\n",
              "      background-color: #434B5C;\n",
              "      box-shadow: 0px 1px 3px 1px rgba(0, 0, 0, 0.15);\n",
              "      filter: drop-shadow(0px 1px 2px rgba(0, 0, 0, 0.3));\n",
              "      fill: #FFFFFF;\n",
              "    }\n",
              "  </style>\n",
              "\n",
              "      <script>\n",
              "        const buttonEl =\n",
              "          document.querySelector('#df-c9f03271-fb78-40f0-bd58-b5001cddba0b button.colab-df-convert');\n",
              "        buttonEl.style.display =\n",
              "          google.colab.kernel.accessAllowed ? 'block' : 'none';\n",
              "\n",
              "        async function convertToInteractive(key) {\n",
              "          const element = document.querySelector('#df-c9f03271-fb78-40f0-bd58-b5001cddba0b');\n",
              "          const dataTable =\n",
              "            await google.colab.kernel.invokeFunction('convertToInteractive',\n",
              "                                                     [key], {});\n",
              "          if (!dataTable) return;\n",
              "\n",
              "          const docLinkHtml = 'Like what you see? Visit the ' +\n",
              "            '<a target=\"_blank\" href=https://colab.research.google.com/notebooks/data_table.ipynb>data table notebook</a>'\n",
              "            + ' to learn more about interactive tables.';\n",
              "          element.innerHTML = '';\n",
              "          dataTable['output_type'] = 'display_data';\n",
              "          await google.colab.output.renderOutput(dataTable, element);\n",
              "          const docLink = document.createElement('div');\n",
              "          docLink.innerHTML = docLinkHtml;\n",
              "          element.appendChild(docLink);\n",
              "        }\n",
              "      </script>\n",
              "    </div>\n",
              "  </div>\n",
              "  "
            ]
          },
          "metadata": {},
          "execution_count": 8
        }
      ]
    },
    {
      "cell_type": "markdown",
      "source": [
        "![image.png](data:image/png;base64,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)"
      ],
      "metadata": {
        "id": "6WgIrAdM7wMY"
      }
    },
    {
      "cell_type": "code",
      "source": [
        "iris.tail()"
      ],
      "metadata": {
        "colab": {
          "base_uri": "https://localhost:8080/",
          "height": 206
        },
        "id": "IORr3EXv7oSi",
        "outputId": "8c9193fc-ba97-46ba-9aaa-88817c13257c"
      },
      "execution_count": 7,
      "outputs": [
        {
          "output_type": "execute_result",
          "data": {
            "text/plain": [
              "     sepal length  sepal width  petal length  petal width           Class\n",
              "145           6.7          3.0           5.2          2.3  Iris-virginica\n",
              "146           6.3          2.5           5.0          1.9  Iris-virginica\n",
              "147           6.5          3.0           5.2          2.0  Iris-virginica\n",
              "148           6.2          3.4           5.4          2.3  Iris-virginica\n",
              "149           5.9          3.0           5.1          1.8  Iris-virginica"
            ],
            "text/html": [
              "\n",
              "  <div id=\"df-de9b6584-d3d2-417d-b14c-c951ad8bf006\">\n",
              "    <div class=\"colab-df-container\">\n",
              "      <div>\n",
              "<style scoped>\n",
              "    .dataframe tbody tr th:only-of-type {\n",
              "        vertical-align: middle;\n",
              "    }\n",
              "\n",
              "    .dataframe tbody tr th {\n",
              "        vertical-align: top;\n",
              "    }\n",
              "\n",
              "    .dataframe thead th {\n",
              "        text-align: right;\n",
              "    }\n",
              "</style>\n",
              "<table border=\"1\" class=\"dataframe\">\n",
              "  <thead>\n",
              "    <tr style=\"text-align: right;\">\n",
              "      <th></th>\n",
              "      <th>sepal length</th>\n",
              "      <th>sepal width</th>\n",
              "      <th>petal length</th>\n",
              "      <th>petal width</th>\n",
              "      <th>Class</th>\n",
              "    </tr>\n",
              "  </thead>\n",
              "  <tbody>\n",
              "    <tr>\n",
              "      <th>145</th>\n",
              "      <td>6.7</td>\n",
              "      <td>3.0</td>\n",
              "      <td>5.2</td>\n",
              "      <td>2.3</td>\n",
              "      <td>Iris-virginica</td>\n",
              "    </tr>\n",
              "    <tr>\n",
              "      <th>146</th>\n",
              "      <td>6.3</td>\n",
              "      <td>2.5</td>\n",
              "      <td>5.0</td>\n",
              "      <td>1.9</td>\n",
              "      <td>Iris-virginica</td>\n",
              "    </tr>\n",
              "    <tr>\n",
              "      <th>147</th>\n",
              "      <td>6.5</td>\n",
              "      <td>3.0</td>\n",
              "      <td>5.2</td>\n",
              "      <td>2.0</td>\n",
              "      <td>Iris-virginica</td>\n",
              "    </tr>\n",
              "    <tr>\n",
              "      <th>148</th>\n",
              "      <td>6.2</td>\n",
              "      <td>3.4</td>\n",
              "      <td>5.4</td>\n",
              "      <td>2.3</td>\n",
              "      <td>Iris-virginica</td>\n",
              "    </tr>\n",
              "    <tr>\n",
              "      <th>149</th>\n",
              "      <td>5.9</td>\n",
              "      <td>3.0</td>\n",
              "      <td>5.1</td>\n",
              "      <td>1.8</td>\n",
              "      <td>Iris-virginica</td>\n",
              "    </tr>\n",
              "  </tbody>\n",
              "</table>\n",
              "</div>\n",
              "      <button class=\"colab-df-convert\" onclick=\"convertToInteractive('df-de9b6584-d3d2-417d-b14c-c951ad8bf006')\"\n",
              "              title=\"Convert this dataframe to an interactive table.\"\n",
              "              style=\"display:none;\">\n",
              "        \n",
              "  <svg xmlns=\"http://www.w3.org/2000/svg\" height=\"24px\"viewBox=\"0 0 24 24\"\n",
              "       width=\"24px\">\n",
              "    <path d=\"M0 0h24v24H0V0z\" fill=\"none\"/>\n",
              "    <path d=\"M18.56 5.44l.94 2.06.94-2.06 2.06-.94-2.06-.94-.94-2.06-.94 2.06-2.06.94zm-11 1L8.5 8.5l.94-2.06 2.06-.94-2.06-.94L8.5 2.5l-.94 2.06-2.06.94zm10 10l.94 2.06.94-2.06 2.06-.94-2.06-.94-.94-2.06-.94 2.06-2.06.94z\"/><path d=\"M17.41 7.96l-1.37-1.37c-.4-.4-.92-.59-1.43-.59-.52 0-1.04.2-1.43.59L10.3 9.45l-7.72 7.72c-.78.78-.78 2.05 0 2.83L4 21.41c.39.39.9.59 1.41.59.51 0 1.02-.2 1.41-.59l7.78-7.78 2.81-2.81c.8-.78.8-2.07 0-2.86zM5.41 20L4 18.59l7.72-7.72 1.47 1.35L5.41 20z\"/>\n",
              "  </svg>\n",
              "      </button>\n",
              "      \n",
              "  <style>\n",
              "    .colab-df-container {\n",
              "      display:flex;\n",
              "      flex-wrap:wrap;\n",
              "      gap: 12px;\n",
              "    }\n",
              "\n",
              "    .colab-df-convert {\n",
              "      background-color: #E8F0FE;\n",
              "      border: none;\n",
              "      border-radius: 50%;\n",
              "      cursor: pointer;\n",
              "      display: none;\n",
              "      fill: #1967D2;\n",
              "      height: 32px;\n",
              "      padding: 0 0 0 0;\n",
              "      width: 32px;\n",
              "    }\n",
              "\n",
              "    .colab-df-convert:hover {\n",
              "      background-color: #E2EBFA;\n",
              "      box-shadow: 0px 1px 2px rgba(60, 64, 67, 0.3), 0px 1px 3px 1px rgba(60, 64, 67, 0.15);\n",
              "      fill: #174EA6;\n",
              "    }\n",
              "\n",
              "    [theme=dark] .colab-df-convert {\n",
              "      background-color: #3B4455;\n",
              "      fill: #D2E3FC;\n",
              "    }\n",
              "\n",
              "    [theme=dark] .colab-df-convert:hover {\n",
              "      background-color: #434B5C;\n",
              "      box-shadow: 0px 1px 3px 1px rgba(0, 0, 0, 0.15);\n",
              "      filter: drop-shadow(0px 1px 2px rgba(0, 0, 0, 0.3));\n",
              "      fill: #FFFFFF;\n",
              "    }\n",
              "  </style>\n",
              "\n",
              "      <script>\n",
              "        const buttonEl =\n",
              "          document.querySelector('#df-de9b6584-d3d2-417d-b14c-c951ad8bf006 button.colab-df-convert');\n",
              "        buttonEl.style.display =\n",
              "          google.colab.kernel.accessAllowed ? 'block' : 'none';\n",
              "\n",
              "        async function convertToInteractive(key) {\n",
              "          const element = document.querySelector('#df-de9b6584-d3d2-417d-b14c-c951ad8bf006');\n",
              "          const dataTable =\n",
              "            await google.colab.kernel.invokeFunction('convertToInteractive',\n",
              "                                                     [key], {});\n",
              "          if (!dataTable) return;\n",
              "\n",
              "          const docLinkHtml = 'Like what you see? Visit the ' +\n",
              "            '<a target=\"_blank\" href=https://colab.research.google.com/notebooks/data_table.ipynb>data table notebook</a>'\n",
              "            + ' to learn more about interactive tables.';\n",
              "          element.innerHTML = '';\n",
              "          dataTable['output_type'] = 'display_data';\n",
              "          await google.colab.output.renderOutput(dataTable, element);\n",
              "          const docLink = document.createElement('div');\n",
              "          docLink.innerHTML = docLinkHtml;\n",
              "          element.appendChild(docLink);\n",
              "        }\n",
              "      </script>\n",
              "    </div>\n",
              "  </div>\n",
              "  "
            ]
          },
          "metadata": {},
          "execution_count": 7
        }
      ]
    },
    {
      "cell_type": "code",
      "source": [
        "# Generating some statistics about the database\n",
        "iris.describe()"
      ],
      "metadata": {
        "colab": {
          "base_uri": "https://localhost:8080/",
          "height": 300
        },
        "id": "vZzY4-448Bcw",
        "outputId": "c9065c43-70fe-45f6-ddf5-bc55d5a3f1a6"
      },
      "execution_count": 9,
      "outputs": [
        {
          "output_type": "execute_result",
          "data": {
            "text/plain": [
              "       sepal length  sepal width  petal length  petal width\n",
              "count    150.000000   150.000000    150.000000   150.000000\n",
              "mean       5.843333     3.054000      3.758667     1.198667\n",
              "std        0.828066     0.433594      1.764420     0.763161\n",
              "min        4.300000     2.000000      1.000000     0.100000\n",
              "25%        5.100000     2.800000      1.600000     0.300000\n",
              "50%        5.800000     3.000000      4.350000     1.300000\n",
              "75%        6.400000     3.300000      5.100000     1.800000\n",
              "max        7.900000     4.400000      6.900000     2.500000"
            ],
            "text/html": [
              "\n",
              "  <div id=\"df-5953f59c-34d2-4ca4-aa27-348fc6699ea3\">\n",
              "    <div class=\"colab-df-container\">\n",
              "      <div>\n",
              "<style scoped>\n",
              "    .dataframe tbody tr th:only-of-type {\n",
              "        vertical-align: middle;\n",
              "    }\n",
              "\n",
              "    .dataframe tbody tr th {\n",
              "        vertical-align: top;\n",
              "    }\n",
              "\n",
              "    .dataframe thead th {\n",
              "        text-align: right;\n",
              "    }\n",
              "</style>\n",
              "<table border=\"1\" class=\"dataframe\">\n",
              "  <thead>\n",
              "    <tr style=\"text-align: right;\">\n",
              "      <th></th>\n",
              "      <th>sepal length</th>\n",
              "      <th>sepal width</th>\n",
              "      <th>petal length</th>\n",
              "      <th>petal width</th>\n",
              "    </tr>\n",
              "  </thead>\n",
              "  <tbody>\n",
              "    <tr>\n",
              "      <th>count</th>\n",
              "      <td>150.000000</td>\n",
              "      <td>150.000000</td>\n",
              "      <td>150.000000</td>\n",
              "      <td>150.000000</td>\n",
              "    </tr>\n",
              "    <tr>\n",
              "      <th>mean</th>\n",
              "      <td>5.843333</td>\n",
              "      <td>3.054000</td>\n",
              "      <td>3.758667</td>\n",
              "      <td>1.198667</td>\n",
              "    </tr>\n",
              "    <tr>\n",
              "      <th>std</th>\n",
              "      <td>0.828066</td>\n",
              "      <td>0.433594</td>\n",
              "      <td>1.764420</td>\n",
              "      <td>0.763161</td>\n",
              "    </tr>\n",
              "    <tr>\n",
              "      <th>min</th>\n",
              "      <td>4.300000</td>\n",
              "      <td>2.000000</td>\n",
              "      <td>1.000000</td>\n",
              "      <td>0.100000</td>\n",
              "    </tr>\n",
              "    <tr>\n",
              "      <th>25%</th>\n",
              "      <td>5.100000</td>\n",
              "      <td>2.800000</td>\n",
              "      <td>1.600000</td>\n",
              "      <td>0.300000</td>\n",
              "    </tr>\n",
              "    <tr>\n",
              "      <th>50%</th>\n",
              "      <td>5.800000</td>\n",
              "      <td>3.000000</td>\n",
              "      <td>4.350000</td>\n",
              "      <td>1.300000</td>\n",
              "    </tr>\n",
              "    <tr>\n",
              "      <th>75%</th>\n",
              "      <td>6.400000</td>\n",
              "      <td>3.300000</td>\n",
              "      <td>5.100000</td>\n",
              "      <td>1.800000</td>\n",
              "    </tr>\n",
              "    <tr>\n",
              "      <th>max</th>\n",
              "      <td>7.900000</td>\n",
              "      <td>4.400000</td>\n",
              "      <td>6.900000</td>\n",
              "      <td>2.500000</td>\n",
              "    </tr>\n",
              "  </tbody>\n",
              "</table>\n",
              "</div>\n",
              "      <button class=\"colab-df-convert\" onclick=\"convertToInteractive('df-5953f59c-34d2-4ca4-aa27-348fc6699ea3')\"\n",
              "              title=\"Convert this dataframe to an interactive table.\"\n",
              "              style=\"display:none;\">\n",
              "        \n",
              "  <svg xmlns=\"http://www.w3.org/2000/svg\" height=\"24px\"viewBox=\"0 0 24 24\"\n",
              "       width=\"24px\">\n",
              "    <path d=\"M0 0h24v24H0V0z\" fill=\"none\"/>\n",
              "    <path d=\"M18.56 5.44l.94 2.06.94-2.06 2.06-.94-2.06-.94-.94-2.06-.94 2.06-2.06.94zm-11 1L8.5 8.5l.94-2.06 2.06-.94-2.06-.94L8.5 2.5l-.94 2.06-2.06.94zm10 10l.94 2.06.94-2.06 2.06-.94-2.06-.94-.94-2.06-.94 2.06-2.06.94z\"/><path d=\"M17.41 7.96l-1.37-1.37c-.4-.4-.92-.59-1.43-.59-.52 0-1.04.2-1.43.59L10.3 9.45l-7.72 7.72c-.78.78-.78 2.05 0 2.83L4 21.41c.39.39.9.59 1.41.59.51 0 1.02-.2 1.41-.59l7.78-7.78 2.81-2.81c.8-.78.8-2.07 0-2.86zM5.41 20L4 18.59l7.72-7.72 1.47 1.35L5.41 20z\"/>\n",
              "  </svg>\n",
              "      </button>\n",
              "      \n",
              "  <style>\n",
              "    .colab-df-container {\n",
              "      display:flex;\n",
              "      flex-wrap:wrap;\n",
              "      gap: 12px;\n",
              "    }\n",
              "\n",
              "    .colab-df-convert {\n",
              "      background-color: #E8F0FE;\n",
              "      border: none;\n",
              "      border-radius: 50%;\n",
              "      cursor: pointer;\n",
              "      display: none;\n",
              "      fill: #1967D2;\n",
              "      height: 32px;\n",
              "      padding: 0 0 0 0;\n",
              "      width: 32px;\n",
              "    }\n",
              "\n",
              "    .colab-df-convert:hover {\n",
              "      background-color: #E2EBFA;\n",
              "      box-shadow: 0px 1px 2px rgba(60, 64, 67, 0.3), 0px 1px 3px 1px rgba(60, 64, 67, 0.15);\n",
              "      fill: #174EA6;\n",
              "    }\n",
              "\n",
              "    [theme=dark] .colab-df-convert {\n",
              "      background-color: #3B4455;\n",
              "      fill: #D2E3FC;\n",
              "    }\n",
              "\n",
              "    [theme=dark] .colab-df-convert:hover {\n",
              "      background-color: #434B5C;\n",
              "      box-shadow: 0px 1px 3px 1px rgba(0, 0, 0, 0.15);\n",
              "      filter: drop-shadow(0px 1px 2px rgba(0, 0, 0, 0.3));\n",
              "      fill: #FFFFFF;\n",
              "    }\n",
              "  </style>\n",
              "\n",
              "      <script>\n",
              "        const buttonEl =\n",
              "          document.querySelector('#df-5953f59c-34d2-4ca4-aa27-348fc6699ea3 button.colab-df-convert');\n",
              "        buttonEl.style.display =\n",
              "          google.colab.kernel.accessAllowed ? 'block' : 'none';\n",
              "\n",
              "        async function convertToInteractive(key) {\n",
              "          const element = document.querySelector('#df-5953f59c-34d2-4ca4-aa27-348fc6699ea3');\n",
              "          const dataTable =\n",
              "            await google.colab.kernel.invokeFunction('convertToInteractive',\n",
              "                                                     [key], {});\n",
              "          if (!dataTable) return;\n",
              "\n",
              "          const docLinkHtml = 'Like what you see? Visit the ' +\n",
              "            '<a target=\"_blank\" href=https://colab.research.google.com/notebooks/data_table.ipynb>data table notebook</a>'\n",
              "            + ' to learn more about interactive tables.';\n",
              "          element.innerHTML = '';\n",
              "          dataTable['output_type'] = 'display_data';\n",
              "          await google.colab.output.renderOutput(dataTable, element);\n",
              "          const docLink = document.createElement('div');\n",
              "          docLink.innerHTML = docLinkHtml;\n",
              "          element.appendChild(docLink);\n",
              "        }\n",
              "      </script>\n",
              "    </div>\n",
              "  </div>\n",
              "  "
            ]
          },
          "metadata": {},
          "execution_count": 9
        }
      ]
    },
    {
      "cell_type": "code",
      "source": [
        "# Number of existing classes in dataframe\n",
        "iris['Class']. unique()"
      ],
      "metadata": {
        "colab": {
          "base_uri": "https://localhost:8080/"
        },
        "id": "k4l3wuw_8OOF",
        "outputId": "88765b49-5157-4e94-9a87-3537111fd5e8"
      },
      "execution_count": 11,
      "outputs": [
        {
          "output_type": "execute_result",
          "data": {
            "text/plain": [
              "array(['Iris-setosa', 'Iris-versicolor', 'Iris-virginica'], dtype=object)"
            ]
          },
          "metadata": {},
          "execution_count": 11
        }
      ]
    },
    {
      "cell_type": "code",
      "source": [
        "# Counting the classes's number\n",
        "len(iris['Class']. unique())"
      ],
      "metadata": {
        "colab": {
          "base_uri": "https://localhost:8080/"
        },
        "id": "jPpGtZzj8b94",
        "outputId": "95737a73-a33f-4ac1-f636-ab74604db8d4"
      },
      "execution_count": 12,
      "outputs": [
        {
          "output_type": "execute_result",
          "data": {
            "text/plain": [
              "3"
            ]
          },
          "metadata": {},
          "execution_count": 12
        }
      ]
    },
    {
      "cell_type": "code",
      "source": [
        "# Evaluating the number of rows and columns of the dataset\n",
        "iris.shape"
      ],
      "metadata": {
        "colab": {
          "base_uri": "https://localhost:8080/"
        },
        "id": "Uq0Mm-xq8l0D",
        "outputId": "a6921c3e-3948-4d70-f7a8-b1b01622ff44"
      },
      "execution_count": 13,
      "outputs": [
        {
          "output_type": "execute_result",
          "data": {
            "text/plain": [
              "(150, 5)"
            ]
          },
          "metadata": {},
          "execution_count": 13
        }
      ]
    },
    {
      "cell_type": "code",
      "source": [
        "# Checking for any null or missing values\n",
        "iris.isna().sum()"
      ],
      "metadata": {
        "colab": {
          "base_uri": "https://localhost:8080/"
        },
        "id": "98MsU_159Gh9",
        "outputId": "4844ab2d-2037-4d90-e1a1-e4bbd7e392ed"
      },
      "execution_count": 14,
      "outputs": [
        {
          "output_type": "execute_result",
          "data": {
            "text/plain": [
              "sepal length    0\n",
              "sepal width     0\n",
              "petal length    0\n",
              "petal width     0\n",
              "Class           0\n",
              "dtype: int64"
            ]
          },
          "metadata": {},
          "execution_count": 14
        }
      ]
    },
    {
      "cell_type": "code",
      "source": [
        "# Checking Database information\n",
        "iris.info()"
      ],
      "metadata": {
        "colab": {
          "base_uri": "https://localhost:8080/"
        },
        "id": "fddhK5cY9lX0",
        "outputId": "32a4ebdf-c5bd-4197-ea82-3a2954b56561"
      },
      "execution_count": 16,
      "outputs": [
        {
          "output_type": "stream",
          "name": "stdout",
          "text": [
            "<class 'pandas.core.frame.DataFrame'>\n",
            "RangeIndex: 150 entries, 0 to 149\n",
            "Data columns (total 5 columns):\n",
            " #   Column        Non-Null Count  Dtype  \n",
            "---  ------        --------------  -----  \n",
            " 0   sepal length  150 non-null    float64\n",
            " 1   sepal width   150 non-null    float64\n",
            " 2   petal length  150 non-null    float64\n",
            " 3   petal width   150 non-null    float64\n",
            " 4   Class         150 non-null    object \n",
            "dtypes: float64(4), object(1)\n",
            "memory usage: 6.0+ KB\n"
          ]
        }
      ]
    },
    {
      "cell_type": "code",
      "source": [],
      "metadata": {
        "id": "XjpI8bAe9vsr"
      },
      "execution_count": null,
      "outputs": []
    },
    {
      "cell_type": "markdown",
      "source": [
        "## Creating clusters with petal data\n",
        "___________________________________________________________\n",
        "\n",
        "For ours first experiment, we will realize data agroupment based in the length and the width of the petals."
      ],
      "metadata": {
        "id": "MsAnoEON-Bdv"
      }
    },
    {
      "cell_type": "markdown",
      "source": [
        "### Colecting Petals Data"
      ],
      "metadata": {
        "id": "vEWAPyUK_Q4M"
      }
    },
    {
      "cell_type": "code",
      "source": [
        "iris.head()"
      ],
      "metadata": {
        "colab": {
          "base_uri": "https://localhost:8080/",
          "height": 206
        },
        "id": "r3jVeimhAKQJ",
        "outputId": "c7bbed77-5ad1-4527-da70-e0068f725f05"
      },
      "execution_count": 17,
      "outputs": [
        {
          "output_type": "execute_result",
          "data": {
            "text/plain": [
              "   sepal length  sepal width  petal length  petal width        Class\n",
              "0           5.1          3.5           1.4          0.2  Iris-setosa\n",
              "1           4.9          3.0           1.4          0.2  Iris-setosa\n",
              "2           4.7          3.2           1.3          0.2  Iris-setosa\n",
              "3           4.6          3.1           1.5          0.2  Iris-setosa\n",
              "4           5.0          3.6           1.4          0.2  Iris-setosa"
            ],
            "text/html": [
              "\n",
              "  <div id=\"df-398507a3-2d0f-4513-9e68-0d4faab50942\">\n",
              "    <div class=\"colab-df-container\">\n",
              "      <div>\n",
              "<style scoped>\n",
              "    .dataframe tbody tr th:only-of-type {\n",
              "        vertical-align: middle;\n",
              "    }\n",
              "\n",
              "    .dataframe tbody tr th {\n",
              "        vertical-align: top;\n",
              "    }\n",
              "\n",
              "    .dataframe thead th {\n",
              "        text-align: right;\n",
              "    }\n",
              "</style>\n",
              "<table border=\"1\" class=\"dataframe\">\n",
              "  <thead>\n",
              "    <tr style=\"text-align: right;\">\n",
              "      <th></th>\n",
              "      <th>sepal length</th>\n",
              "      <th>sepal width</th>\n",
              "      <th>petal length</th>\n",
              "      <th>petal width</th>\n",
              "      <th>Class</th>\n",
              "    </tr>\n",
              "  </thead>\n",
              "  <tbody>\n",
              "    <tr>\n",
              "      <th>0</th>\n",
              "      <td>5.1</td>\n",
              "      <td>3.5</td>\n",
              "      <td>1.4</td>\n",
              "      <td>0.2</td>\n",
              "      <td>Iris-setosa</td>\n",
              "    </tr>\n",
              "    <tr>\n",
              "      <th>1</th>\n",
              "      <td>4.9</td>\n",
              "      <td>3.0</td>\n",
              "      <td>1.4</td>\n",
              "      <td>0.2</td>\n",
              "      <td>Iris-setosa</td>\n",
              "    </tr>\n",
              "    <tr>\n",
              "      <th>2</th>\n",
              "      <td>4.7</td>\n",
              "      <td>3.2</td>\n",
              "      <td>1.3</td>\n",
              "      <td>0.2</td>\n",
              "      <td>Iris-setosa</td>\n",
              "    </tr>\n",
              "    <tr>\n",
              "      <th>3</th>\n",
              "      <td>4.6</td>\n",
              "      <td>3.1</td>\n",
              "      <td>1.5</td>\n",
              "      <td>0.2</td>\n",
              "      <td>Iris-setosa</td>\n",
              "    </tr>\n",
              "    <tr>\n",
              "      <th>4</th>\n",
              "      <td>5.0</td>\n",
              "      <td>3.6</td>\n",
              "      <td>1.4</td>\n",
              "      <td>0.2</td>\n",
              "      <td>Iris-setosa</td>\n",
              "    </tr>\n",
              "  </tbody>\n",
              "</table>\n",
              "</div>\n",
              "      <button class=\"colab-df-convert\" onclick=\"convertToInteractive('df-398507a3-2d0f-4513-9e68-0d4faab50942')\"\n",
              "              title=\"Convert this dataframe to an interactive table.\"\n",
              "              style=\"display:none;\">\n",
              "        \n",
              "  <svg xmlns=\"http://www.w3.org/2000/svg\" height=\"24px\"viewBox=\"0 0 24 24\"\n",
              "       width=\"24px\">\n",
              "    <path d=\"M0 0h24v24H0V0z\" fill=\"none\"/>\n",
              "    <path d=\"M18.56 5.44l.94 2.06.94-2.06 2.06-.94-2.06-.94-.94-2.06-.94 2.06-2.06.94zm-11 1L8.5 8.5l.94-2.06 2.06-.94-2.06-.94L8.5 2.5l-.94 2.06-2.06.94zm10 10l.94 2.06.94-2.06 2.06-.94-2.06-.94-.94-2.06-.94 2.06-2.06.94z\"/><path d=\"M17.41 7.96l-1.37-1.37c-.4-.4-.92-.59-1.43-.59-.52 0-1.04.2-1.43.59L10.3 9.45l-7.72 7.72c-.78.78-.78 2.05 0 2.83L4 21.41c.39.39.9.59 1.41.59.51 0 1.02-.2 1.41-.59l7.78-7.78 2.81-2.81c.8-.78.8-2.07 0-2.86zM5.41 20L4 18.59l7.72-7.72 1.47 1.35L5.41 20z\"/>\n",
              "  </svg>\n",
              "      </button>\n",
              "      \n",
              "  <style>\n",
              "    .colab-df-container {\n",
              "      display:flex;\n",
              "      flex-wrap:wrap;\n",
              "      gap: 12px;\n",
              "    }\n",
              "\n",
              "    .colab-df-convert {\n",
              "      background-color: #E8F0FE;\n",
              "      border: none;\n",
              "      border-radius: 50%;\n",
              "      cursor: pointer;\n",
              "      display: none;\n",
              "      fill: #1967D2;\n",
              "      height: 32px;\n",
              "      padding: 0 0 0 0;\n",
              "      width: 32px;\n",
              "    }\n",
              "\n",
              "    .colab-df-convert:hover {\n",
              "      background-color: #E2EBFA;\n",
              "      box-shadow: 0px 1px 2px rgba(60, 64, 67, 0.3), 0px 1px 3px 1px rgba(60, 64, 67, 0.15);\n",
              "      fill: #174EA6;\n",
              "    }\n",
              "\n",
              "    [theme=dark] .colab-df-convert {\n",
              "      background-color: #3B4455;\n",
              "      fill: #D2E3FC;\n",
              "    }\n",
              "\n",
              "    [theme=dark] .colab-df-convert:hover {\n",
              "      background-color: #434B5C;\n",
              "      box-shadow: 0px 1px 3px 1px rgba(0, 0, 0, 0.15);\n",
              "      filter: drop-shadow(0px 1px 2px rgba(0, 0, 0, 0.3));\n",
              "      fill: #FFFFFF;\n",
              "    }\n",
              "  </style>\n",
              "\n",
              "      <script>\n",
              "        const buttonEl =\n",
              "          document.querySelector('#df-398507a3-2d0f-4513-9e68-0d4faab50942 button.colab-df-convert');\n",
              "        buttonEl.style.display =\n",
              "          google.colab.kernel.accessAllowed ? 'block' : 'none';\n",
              "\n",
              "        async function convertToInteractive(key) {\n",
              "          const element = document.querySelector('#df-398507a3-2d0f-4513-9e68-0d4faab50942');\n",
              "          const dataTable =\n",
              "            await google.colab.kernel.invokeFunction('convertToInteractive',\n",
              "                                                     [key], {});\n",
              "          if (!dataTable) return;\n",
              "\n",
              "          const docLinkHtml = 'Like what you see? Visit the ' +\n",
              "            '<a target=\"_blank\" href=https://colab.research.google.com/notebooks/data_table.ipynb>data table notebook</a>'\n",
              "            + ' to learn more about interactive tables.';\n",
              "          element.innerHTML = '';\n",
              "          dataTable['output_type'] = 'display_data';\n",
              "          await google.colab.output.renderOutput(dataTable, element);\n",
              "          const docLink = document.createElement('div');\n",
              "          docLink.innerHTML = docLinkHtml;\n",
              "          element.appendChild(docLink);\n",
              "        }\n",
              "      </script>\n",
              "    </div>\n",
              "  </div>\n",
              "  "
            ]
          },
          "metadata": {},
          "execution_count": 17
        }
      ]
    },
    {
      "cell_type": "code",
      "source": [
        "# Creating a variable X with the collums 'petal length' and 'petal width'\n",
        "X_petal = iris.iloc[:,[2,3]].values\n",
        "X_petal[:10]\n",
        "## iloc means that we are taking all of the dataframe"
      ],
      "metadata": {
        "colab": {
          "base_uri": "https://localhost:8080/"
        },
        "id": "P9AP-DaK_Pi0",
        "outputId": "3295535c-6564-45bc-e948-014efb7007f3"
      },
      "execution_count": 20,
      "outputs": [
        {
          "output_type": "execute_result",
          "data": {
            "text/plain": [
              "array([[1.4, 0.2],\n",
              "       [1.4, 0.2],\n",
              "       [1.3, 0.2],\n",
              "       [1.5, 0.2],\n",
              "       [1.4, 0.2],\n",
              "       [1.7, 0.4],\n",
              "       [1.4, 0.3],\n",
              "       [1.5, 0.2],\n",
              "       [1.4, 0.2],\n",
              "       [1.5, 0.1]])"
            ]
          },
          "metadata": {},
          "execution_count": 20
        }
      ]
    },
    {
      "cell_type": "markdown",
      "source": [
        "### Normalizing database\n",
        "\n",
        "When the data is on a very different scale, we need to normalize the data to the same standard and the same scale.\n",
        "\n",
        "As Kmeans performs calculations based on distance, we must standardize the data so that one attribute is not considered more important than the other."
      ],
      "metadata": {
        "id": "sf8JEVFvAzg0"
      }
    },
    {
      "cell_type": "markdown",
      "source": [
        "![image.png](data:image/png;base64,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)"
      ],
      "metadata": {
        "id": "eS4E9neUBOt9"
      }
    },
    {
      "cell_type": "code",
      "source": [
        "iris.describe()\n",
        "# We call see that all values are in the same scale"
      ],
      "metadata": {
        "colab": {
          "base_uri": "https://localhost:8080/",
          "height": 300
        },
        "id": "sE8H6a18BLMw",
        "outputId": "74ca1628-e462-425c-a879-e1ad085df542"
      },
      "execution_count": 22,
      "outputs": [
        {
          "output_type": "execute_result",
          "data": {
            "text/plain": [
              "       sepal length  sepal width  petal length  petal width\n",
              "count    150.000000   150.000000    150.000000   150.000000\n",
              "mean       5.843333     3.054000      3.758667     1.198667\n",
              "std        0.828066     0.433594      1.764420     0.763161\n",
              "min        4.300000     2.000000      1.000000     0.100000\n",
              "25%        5.100000     2.800000      1.600000     0.300000\n",
              "50%        5.800000     3.000000      4.350000     1.300000\n",
              "75%        6.400000     3.300000      5.100000     1.800000\n",
              "max        7.900000     4.400000      6.900000     2.500000"
            ],
            "text/html": [
              "\n",
              "  <div id=\"df-7a624f6b-947c-4ccc-b4d4-095106471099\">\n",
              "    <div class=\"colab-df-container\">\n",
              "      <div>\n",
              "<style scoped>\n",
              "    .dataframe tbody tr th:only-of-type {\n",
              "        vertical-align: middle;\n",
              "    }\n",
              "\n",
              "    .dataframe tbody tr th {\n",
              "        vertical-align: top;\n",
              "    }\n",
              "\n",
              "    .dataframe thead th {\n",
              "        text-align: right;\n",
              "    }\n",
              "</style>\n",
              "<table border=\"1\" class=\"dataframe\">\n",
              "  <thead>\n",
              "    <tr style=\"text-align: right;\">\n",
              "      <th></th>\n",
              "      <th>sepal length</th>\n",
              "      <th>sepal width</th>\n",
              "      <th>petal length</th>\n",
              "      <th>petal width</th>\n",
              "    </tr>\n",
              "  </thead>\n",
              "  <tbody>\n",
              "    <tr>\n",
              "      <th>count</th>\n",
              "      <td>150.000000</td>\n",
              "      <td>150.000000</td>\n",
              "      <td>150.000000</td>\n",
              "      <td>150.000000</td>\n",
              "    </tr>\n",
              "    <tr>\n",
              "      <th>mean</th>\n",
              "      <td>5.843333</td>\n",
              "      <td>3.054000</td>\n",
              "      <td>3.758667</td>\n",
              "      <td>1.198667</td>\n",
              "    </tr>\n",
              "    <tr>\n",
              "      <th>std</th>\n",
              "      <td>0.828066</td>\n",
              "      <td>0.433594</td>\n",
              "      <td>1.764420</td>\n",
              "      <td>0.763161</td>\n",
              "    </tr>\n",
              "    <tr>\n",
              "      <th>min</th>\n",
              "      <td>4.300000</td>\n",
              "      <td>2.000000</td>\n",
              "      <td>1.000000</td>\n",
              "      <td>0.100000</td>\n",
              "    </tr>\n",
              "    <tr>\n",
              "      <th>25%</th>\n",
              "      <td>5.100000</td>\n",
              "      <td>2.800000</td>\n",
              "      <td>1.600000</td>\n",
              "      <td>0.300000</td>\n",
              "    </tr>\n",
              "    <tr>\n",
              "      <th>50%</th>\n",
              "      <td>5.800000</td>\n",
              "      <td>3.000000</td>\n",
              "      <td>4.350000</td>\n",
              "      <td>1.300000</td>\n",
              "    </tr>\n",
              "    <tr>\n",
              "      <th>75%</th>\n",
              "      <td>6.400000</td>\n",
              "      <td>3.300000</td>\n",
              "      <td>5.100000</td>\n",
              "      <td>1.800000</td>\n",
              "    </tr>\n",
              "    <tr>\n",
              "      <th>max</th>\n",
              "      <td>7.900000</td>\n",
              "      <td>4.400000</td>\n",
              "      <td>6.900000</td>\n",
              "      <td>2.500000</td>\n",
              "    </tr>\n",
              "  </tbody>\n",
              "</table>\n",
              "</div>\n",
              "      <button class=\"colab-df-convert\" onclick=\"convertToInteractive('df-7a624f6b-947c-4ccc-b4d4-095106471099')\"\n",
              "              title=\"Convert this dataframe to an interactive table.\"\n",
              "              style=\"display:none;\">\n",
              "        \n",
              "  <svg xmlns=\"http://www.w3.org/2000/svg\" height=\"24px\"viewBox=\"0 0 24 24\"\n",
              "       width=\"24px\">\n",
              "    <path d=\"M0 0h24v24H0V0z\" fill=\"none\"/>\n",
              "    <path d=\"M18.56 5.44l.94 2.06.94-2.06 2.06-.94-2.06-.94-.94-2.06-.94 2.06-2.06.94zm-11 1L8.5 8.5l.94-2.06 2.06-.94-2.06-.94L8.5 2.5l-.94 2.06-2.06.94zm10 10l.94 2.06.94-2.06 2.06-.94-2.06-.94-.94-2.06-.94 2.06-2.06.94z\"/><path d=\"M17.41 7.96l-1.37-1.37c-.4-.4-.92-.59-1.43-.59-.52 0-1.04.2-1.43.59L10.3 9.45l-7.72 7.72c-.78.78-.78 2.05 0 2.83L4 21.41c.39.39.9.59 1.41.59.51 0 1.02-.2 1.41-.59l7.78-7.78 2.81-2.81c.8-.78.8-2.07 0-2.86zM5.41 20L4 18.59l7.72-7.72 1.47 1.35L5.41 20z\"/>\n",
              "  </svg>\n",
              "      </button>\n",
              "      \n",
              "  <style>\n",
              "    .colab-df-container {\n",
              "      display:flex;\n",
              "      flex-wrap:wrap;\n",
              "      gap: 12px;\n",
              "    }\n",
              "\n",
              "    .colab-df-convert {\n",
              "      background-color: #E8F0FE;\n",
              "      border: none;\n",
              "      border-radius: 50%;\n",
              "      cursor: pointer;\n",
              "      display: none;\n",
              "      fill: #1967D2;\n",
              "      height: 32px;\n",
              "      padding: 0 0 0 0;\n",
              "      width: 32px;\n",
              "    }\n",
              "\n",
              "    .colab-df-convert:hover {\n",
              "      background-color: #E2EBFA;\n",
              "      box-shadow: 0px 1px 2px rgba(60, 64, 67, 0.3), 0px 1px 3px 1px rgba(60, 64, 67, 0.15);\n",
              "      fill: #174EA6;\n",
              "    }\n",
              "\n",
              "    [theme=dark] .colab-df-convert {\n",
              "      background-color: #3B4455;\n",
              "      fill: #D2E3FC;\n",
              "    }\n",
              "\n",
              "    [theme=dark] .colab-df-convert:hover {\n",
              "      background-color: #434B5C;\n",
              "      box-shadow: 0px 1px 3px 1px rgba(0, 0, 0, 0.15);\n",
              "      filter: drop-shadow(0px 1px 2px rgba(0, 0, 0, 0.3));\n",
              "      fill: #FFFFFF;\n",
              "    }\n",
              "  </style>\n",
              "\n",
              "      <script>\n",
              "        const buttonEl =\n",
              "          document.querySelector('#df-7a624f6b-947c-4ccc-b4d4-095106471099 button.colab-df-convert');\n",
              "        buttonEl.style.display =\n",
              "          google.colab.kernel.accessAllowed ? 'block' : 'none';\n",
              "\n",
              "        async function convertToInteractive(key) {\n",
              "          const element = document.querySelector('#df-7a624f6b-947c-4ccc-b4d4-095106471099');\n",
              "          const dataTable =\n",
              "            await google.colab.kernel.invokeFunction('convertToInteractive',\n",
              "                                                     [key], {});\n",
              "          if (!dataTable) return;\n",
              "\n",
              "          const docLinkHtml = 'Like what you see? Visit the ' +\n",
              "            '<a target=\"_blank\" href=https://colab.research.google.com/notebooks/data_table.ipynb>data table notebook</a>'\n",
              "            + ' to learn more about interactive tables.';\n",
              "          element.innerHTML = '';\n",
              "          dataTable['output_type'] = 'display_data';\n",
              "          await google.colab.output.renderOutput(dataTable, element);\n",
              "          const docLink = document.createElement('div');\n",
              "          docLink.innerHTML = docLinkHtml;\n",
              "          element.appendChild(docLink);\n",
              "        }\n",
              "      </script>\n",
              "    </div>\n",
              "  </div>\n",
              "  "
            ]
          },
          "metadata": {},
          "execution_count": 22
        }
      ]
    },
    {
      "cell_type": "code",
      "source": [
        "normalize_date = StandardScaler()\n",
        "X_petal = normalize_date.fit_transform(X_petal)\n",
        "X_petal[:10]"
      ],
      "metadata": {
        "colab": {
          "base_uri": "https://localhost:8080/"
        },
        "id": "h7eDOBa3CdgT",
        "outputId": "cfa1da89-cc9f-4741-8901-96783a857c88"
      },
      "execution_count": 23,
      "outputs": [
        {
          "output_type": "execute_result",
          "data": {
            "text/plain": [
              "array([[-1.3412724 , -1.31297673],\n",
              "       [-1.3412724 , -1.31297673],\n",
              "       [-1.39813811, -1.31297673],\n",
              "       [-1.2844067 , -1.31297673],\n",
              "       [-1.3412724 , -1.31297673],\n",
              "       [-1.17067529, -1.05003079],\n",
              "       [-1.3412724 , -1.18150376],\n",
              "       [-1.2844067 , -1.31297673],\n",
              "       [-1.3412724 , -1.31297673],\n",
              "       [-1.2844067 , -1.4444497 ]])"
            ]
          },
          "metadata": {},
          "execution_count": 23
        }
      ]
    },
    {
      "cell_type": "markdown",
      "source": [
        "### Calculation the cluster's number\n",
        "\n",
        "To calculate the cluster number we will use the elbow (cotovelo) method.\n",
        "\n",
        "WCSS is the sum of the squared distance between each point and the centroid in a cluster."
      ],
      "metadata": {
        "id": "zY0X4vm3B5ku"
      }
    },
    {
      "cell_type": "code",
      "source": [
        "wcss_petal = []\n",
        "# lista vazia\n",
        "\n",
        "for i in range(1,11):\n",
        "  kmeans_petal = KMeans(n_clusters=i, random_state=0)\n",
        "  kmeans_petal.fit(X_petal)\n",
        "  wcss_petal.append(kmeans_petal.inertia_)\n",
        "#random_state=0 é \"setar\" a aleatóriedade"
      ],
      "metadata": {
        "colab": {
          "base_uri": "https://localhost:8080/"
        },
        "id": "QPuTC0sdB_Ow",
        "outputId": "4898c0d8-1c3a-490a-8032-e0b4000a92a4"
      },
      "execution_count": 29,
      "outputs": [
        {
          "output_type": "stream",
          "name": "stderr",
          "text": [
            "/usr/local/lib/python3.10/dist-packages/sklearn/cluster/_kmeans.py:870: FutureWarning:\n",
            "\n",
            "The default value of `n_init` will change from 10 to 'auto' in 1.4. Set the value of `n_init` explicitly to suppress the warning\n",
            "\n",
            "/usr/local/lib/python3.10/dist-packages/sklearn/cluster/_kmeans.py:870: FutureWarning:\n",
            "\n",
            "The default value of `n_init` will change from 10 to 'auto' in 1.4. Set the value of `n_init` explicitly to suppress the warning\n",
            "\n",
            "/usr/local/lib/python3.10/dist-packages/sklearn/cluster/_kmeans.py:870: FutureWarning:\n",
            "\n",
            "The default value of `n_init` will change from 10 to 'auto' in 1.4. Set the value of `n_init` explicitly to suppress the warning\n",
            "\n",
            "/usr/local/lib/python3.10/dist-packages/sklearn/cluster/_kmeans.py:870: FutureWarning:\n",
            "\n",
            "The default value of `n_init` will change from 10 to 'auto' in 1.4. Set the value of `n_init` explicitly to suppress the warning\n",
            "\n",
            "/usr/local/lib/python3.10/dist-packages/sklearn/cluster/_kmeans.py:870: FutureWarning:\n",
            "\n",
            "The default value of `n_init` will change from 10 to 'auto' in 1.4. Set the value of `n_init` explicitly to suppress the warning\n",
            "\n",
            "/usr/local/lib/python3.10/dist-packages/sklearn/cluster/_kmeans.py:870: FutureWarning:\n",
            "\n",
            "The default value of `n_init` will change from 10 to 'auto' in 1.4. Set the value of `n_init` explicitly to suppress the warning\n",
            "\n",
            "/usr/local/lib/python3.10/dist-packages/sklearn/cluster/_kmeans.py:870: FutureWarning:\n",
            "\n",
            "The default value of `n_init` will change from 10 to 'auto' in 1.4. Set the value of `n_init` explicitly to suppress the warning\n",
            "\n",
            "/usr/local/lib/python3.10/dist-packages/sklearn/cluster/_kmeans.py:870: FutureWarning:\n",
            "\n",
            "The default value of `n_init` will change from 10 to 'auto' in 1.4. Set the value of `n_init` explicitly to suppress the warning\n",
            "\n",
            "/usr/local/lib/python3.10/dist-packages/sklearn/cluster/_kmeans.py:870: FutureWarning:\n",
            "\n",
            "The default value of `n_init` will change from 10 to 'auto' in 1.4. Set the value of `n_init` explicitly to suppress the warning\n",
            "\n",
            "/usr/local/lib/python3.10/dist-packages/sklearn/cluster/_kmeans.py:870: FutureWarning:\n",
            "\n",
            "The default value of `n_init` will change from 10 to 'auto' in 1.4. Set the value of `n_init` explicitly to suppress the warning\n",
            "\n"
          ]
        }
      ]
    },
    {
      "cell_type": "markdown",
      "source": [
        "![image.png](data:image/png;base64,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)\n",
        "\n",
        "Site: https://www.codecademy.com/learn/machine-learning/modules/dspath-clustering/cheatsheet\n"
      ],
      "metadata": {
        "id": "UbQaCh1HFhRV"
      }
    },
    {
      "cell_type": "code",
      "source": [
        "# Visualizing the WCSS values\n",
        "for i in range(len(wcss_petal)):\n",
        "  print(f'Cluster {i+1} - Value of WCSS: {wcss_petal[i]}')"
      ],
      "metadata": {
        "colab": {
          "base_uri": "https://localhost:8080/"
        },
        "id": "DHgg0V1wE_A9",
        "outputId": "c0317abc-77b8-44b6-d28d-c2a24dd816fc"
      },
      "execution_count": 34,
      "outputs": [
        {
          "output_type": "stream",
          "name": "stdout",
          "text": [
            "Cluster 1 - Value of WCSS: 300.0000000000001\n",
            "Cluster 2 - Value of WCSS: 54.14584701344988\n",
            "Cluster 3 - Value of WCSS: 18.046983891906276\n",
            "Cluster 4 - Value of WCSS: 12.307440251261843\n",
            "Cluster 5 - Value of WCSS: 9.181131495513899\n",
            "Cluster 6 - Value of WCSS: 7.215096212730807\n",
            "Cluster 7 - Value of WCSS: 6.026593155951448\n",
            "Cluster 8 - Value of WCSS: 5.173315218915379\n",
            "Cluster 9 - Value of WCSS: 4.419290104197288\n",
            "Cluster 10 - Value of WCSS: 3.9139417830543204\n"
          ]
        }
      ]
    },
    {
      "cell_type": "markdown",
      "source": [
        "### Better defining the number of clusters for the petals"
      ],
      "metadata": {
        "id": "xbsxAGfuG-YB"
      }
    },
    {
      "cell_type": "code",
      "source": [
        "graphic_elbow_petal = px.line(x=range(1,11), y=wcss_petal)\n",
        "graphic_elbow_petal.update_xaxes(title_text='Number of Clusters')\n",
        "graphic_elbow_petal.update_yaxes(title_text='Value of WCSS')\n",
        "graphic_elbow_petal.update_layout(title_text='Definition of Clusters Number', title_x=0.5)\n",
        "graphic_elbow_petal.show()"
      ],
      "metadata": {
        "colab": {
          "base_uri": "https://localhost:8080/",
          "height": 542
        },
        "id": "DJ4NYpgxHQ2y",
        "outputId": "78d1ac3a-d555-491a-cd2e-ccbdbd88c03e"
      },
      "execution_count": 36,
      "outputs": [
        {
          "output_type": "display_data",
          "data": {
            "text/html": [
              "<html>\n",
              "<head><meta charset=\"utf-8\" /></head>\n",
              "<body>\n",
              "    <div>            <script src=\"https://cdnjs.cloudflare.com/ajax/libs/mathjax/2.7.5/MathJax.js?config=TeX-AMS-MML_SVG\"></script><script type=\"text/javascript\">if (window.MathJax && window.MathJax.Hub && window.MathJax.Hub.Config) {window.MathJax.Hub.Config({SVG: {font: \"STIX-Web\"}});}</script>                <script type=\"text/javascript\">window.PlotlyConfig = {MathJaxConfig: 'local'};</script>\n",
              "        <script src=\"https://cdn.plot.ly/plotly-2.18.2.min.js\"></script>                <div id=\"c50f7299-9018-4262-9bd0-0f946196f82d\" class=\"plotly-graph-div\" style=\"height:525px; width:100%;\"></div>            <script type=\"text/javascript\">                                    window.PLOTLYENV=window.PLOTLYENV || {};                                    if (document.getElementById(\"c50f7299-9018-4262-9bd0-0f946196f82d\")) {                    Plotly.newPlot(                        \"c50f7299-9018-4262-9bd0-0f946196f82d\",                        [{\"hovertemplate\":\"x=%{x}<br>y=%{y}<extra></extra>\",\"legendgroup\":\"\",\"line\":{\"color\":\"#636efa\",\"dash\":\"solid\"},\"marker\":{\"symbol\":\"circle\"},\"mode\":\"lines\",\"name\":\"\",\"orientation\":\"v\",\"showlegend\":false,\"x\":[1,2,3,4,5,6,7,8,9,10],\"xaxis\":\"x\",\"y\":[300.0000000000001,54.14584701344988,18.046983891906276,12.307440251261843,9.181131495513899,7.215096212730807,6.026593155951448,5.173315218915379,4.419290104197288,3.9139417830543204],\"yaxis\":\"y\",\"type\":\"scatter\"}],                        {\"template\":{\"data\":{\"histogram2dcontour\":[{\"type\":\"histogram2dcontour\",\"colorbar\":{\"outlinewidth\":0,\"ticks\":\"\"},\"colorscale\":[[0.0,\"#0d0887\"],[0.1111111111111111,\"#46039f\"],[0.2222222222222222,\"#7201a8\"],[0.3333333333333333,\"#9c179e\"],[0.4444444444444444,\"#bd3786\"],[0.5555555555555556,\"#d8576b\"],[0.6666666666666666,\"#ed7953\"],[0.7777777777777778,\"#fb9f3a\"],[0.8888888888888888,\"#fdca26\"],[1.0,\"#f0f921\"]]}],\"choropleth\":[{\"type\":\"choropleth\",\"colorbar\":{\"outlinewidth\":0,\"ticks\":\"\"}}],\"histogram2d\":[{\"type\":\"histogram2d\",\"colorbar\":{\"outlinewidth\":0,\"ticks\":\"\"},\"colorscale\":[[0.0,\"#0d0887\"],[0.1111111111111111,\"#46039f\"],[0.2222222222222222,\"#7201a8\"],[0.3333333333333333,\"#9c179e\"],[0.4444444444444444,\"#bd3786\"],[0.5555555555555556,\"#d8576b\"],[0.6666666666666666,\"#ed7953\"],[0.7777777777777778,\"#fb9f3a\"],[0.8888888888888888,\"#fdca26\"],[1.0,\"#f0f921\"]]}],\"heatmap\":[{\"type\":\"heatmap\",\"colorbar\":{\"outlinewidth\":0,\"ticks\":\"\"},\"colorscale\":[[0.0,\"#0d0887\"],[0.1111111111111111,\"#46039f\"],[0.2222222222222222,\"#7201a8\"],[0.3333333333333333,\"#9c179e\"],[0.4444444444444444,\"#bd3786\"],[0.5555555555555556,\"#d8576b\"],[0.6666666666666666,\"#ed7953\"],[0.7777777777777778,\"#fb9f3a\"],[0.8888888888888888,\"#fdca26\"],[1.0,\"#f0f921\"]]}],\"heatmapgl\":[{\"type\":\"heatmapgl\",\"colorbar\":{\"outlinewidth\":0,\"ticks\":\"\"},\"colorscale\":[[0.0,\"#0d0887\"],[0.1111111111111111,\"#46039f\"],[0.2222222222222222,\"#7201a8\"],[0.3333333333333333,\"#9c179e\"],[0.4444444444444444,\"#bd3786\"],[0.5555555555555556,\"#d8576b\"],[0.6666666666666666,\"#ed7953\"],[0.7777777777777778,\"#fb9f3a\"],[0.8888888888888888,\"#fdca26\"],[1.0,\"#f0f921\"]]}],\"contourcarpet\":[{\"type\":\"contourcarpet\",\"colorbar\":{\"outlinewidth\":0,\"ticks\":\"\"}}],\"contour\":[{\"type\":\"contour\",\"colorbar\":{\"outlinewidth\":0,\"ticks\":\"\"},\"colorscale\":[[0.0,\"#0d0887\"],[0.1111111111111111,\"#46039f\"],[0.2222222222222222,\"#7201a8\"],[0.3333333333333333,\"#9c179e\"],[0.4444444444444444,\"#bd3786\"],[0.5555555555555556,\"#d8576b\"],[0.6666666666666666,\"#ed7953\"],[0.7777777777777778,\"#fb9f3a\"],[0.8888888888888888,\"#fdca26\"],[1.0,\"#f0f921\"]]}],\"surface\":[{\"type\":\"surface\",\"colorbar\":{\"outlinewidth\":0,\"ticks\":\"\"},\"colorscale\":[[0.0,\"#0d0887\"],[0.1111111111111111,\"#46039f\"],[0.2222222222222222,\"#7201a8\"],[0.3333333333333333,\"#9c179e\"],[0.4444444444444444,\"#bd3786\"],[0.5555555555555556,\"#d8576b\"],[0.6666666666666666,\"#ed7953\"],[0.7777777777777778,\"#fb9f3a\"],[0.8888888888888888,\"#fdca26\"],[1.0,\"#f0f921\"]]}],\"mesh3d\":[{\"type\":\"mesh3d\",\"colorbar\":{\"outlinewidth\":0,\"ticks\":\"\"}}],\"scatter\":[{\"fillpattern\":{\"fillmode\":\"overlay\",\"size\":10,\"solidity\":0.2},\"type\":\"scatter\"}],\"parcoords\":[{\"type\":\"parcoords\",\"line\":{\"colorbar\":{\"outlinewidth\":0,\"ticks\":\"\"}}}],\"scatterpolargl\":[{\"type\":\"scatterpolargl\",\"marker\":{\"colorbar\":{\"outlinewidth\":0,\"ticks\":\"\"}}}],\"bar\":[{\"error_x\":{\"color\":\"#2a3f5f\"},\"error_y\":{\"color\":\"#2a3f5f\"},\"marker\":{\"line\":{\"color\":\"#E5ECF6\",\"width\":0.5},\"pattern\":{\"fillmode\":\"overlay\",\"size\":10,\"solidity\":0.2}},\"type\":\"bar\"}],\"scattergeo\":[{\"type\":\"scattergeo\",\"marker\":{\"colorbar\":{\"outlinewidth\":0,\"ticks\":\"\"}}}],\"scatterpolar\":[{\"type\":\"scatterpolar\",\"marker\":{\"colorbar\":{\"outlinewidth\":0,\"ticks\":\"\"}}}],\"histogram\":[{\"marker\":{\"pattern\":{\"fillmode\":\"overlay\",\"size\":10,\"solidity\":0.2}},\"type\":\"histogram\"}],\"scattergl\":[{\"type\":\"scattergl\",\"marker\":{\"colorbar\":{\"outlinewidth\":0,\"ticks\":\"\"}}}],\"scatter3d\":[{\"type\":\"scatter3d\",\"line\":{\"colorbar\":{\"outlinewidth\":0,\"ticks\":\"\"}},\"marker\":{\"colorbar\":{\"outlinewidth\":0,\"ticks\":\"\"}}}],\"scattermapbox\":[{\"type\":\"scattermapbox\",\"marker\":{\"colorbar\":{\"outlinewidth\":0,\"ticks\":\"\"}}}],\"scatterternary\":[{\"type\":\"scatterternary\",\"marker\":{\"colorbar\":{\"outlinewidth\":0,\"ticks\":\"\"}}}],\"scattercarpet\":[{\"type\":\"scattercarpet\",\"marker\":{\"colorbar\":{\"outlinewidth\":0,\"ticks\":\"\"}}}],\"carpet\":[{\"aaxis\":{\"endlinecolor\":\"#2a3f5f\",\"gridcolor\":\"white\",\"linecolor\":\"white\",\"minorgridcolor\":\"white\",\"startlinecolor\":\"#2a3f5f\"},\"baxis\":{\"endlinecolor\":\"#2a3f5f\",\"gridcolor\":\"white\",\"linecolor\":\"white\",\"minorgridcolor\":\"white\",\"startlinecolor\":\"#2a3f5f\"},\"type\":\"carpet\"}],\"table\":[{\"cells\":{\"fill\":{\"color\":\"#EBF0F8\"},\"line\":{\"color\":\"white\"}},\"header\":{\"fill\":{\"color\":\"#C8D4E3\"},\"line\":{\"color\":\"white\"}},\"type\":\"table\"}],\"barpolar\":[{\"marker\":{\"line\":{\"color\":\"#E5ECF6\",\"width\":0.5},\"pattern\":{\"fillmode\":\"overlay\",\"size\":10,\"solidity\":0.2}},\"type\":\"barpolar\"}],\"pie\":[{\"automargin\":true,\"type\":\"pie\"}]},\"layout\":{\"autotypenumbers\":\"strict\",\"colorway\":[\"#636efa\",\"#EF553B\",\"#00cc96\",\"#ab63fa\",\"#FFA15A\",\"#19d3f3\",\"#FF6692\",\"#B6E880\",\"#FF97FF\",\"#FECB52\"],\"font\":{\"color\":\"#2a3f5f\"},\"hovermode\":\"closest\",\"hoverlabel\":{\"align\":\"left\"},\"paper_bgcolor\":\"white\",\"plot_bgcolor\":\"#E5ECF6\",\"polar\":{\"bgcolor\":\"#E5ECF6\",\"angularaxis\":{\"gridcolor\":\"white\",\"linecolor\":\"white\",\"ticks\":\"\"},\"radialaxis\":{\"gridcolor\":\"white\",\"linecolor\":\"white\",\"ticks\":\"\"}},\"ternary\":{\"bgcolor\":\"#E5ECF6\",\"aaxis\":{\"gridcolor\":\"white\",\"linecolor\":\"white\",\"ticks\":\"\"},\"baxis\":{\"gridcolor\":\"white\",\"linecolor\":\"white\",\"ticks\":\"\"},\"caxis\":{\"gridcolor\":\"white\",\"linecolor\":\"white\",\"ticks\":\"\"}},\"coloraxis\":{\"colorbar\":{\"outlinewidth\":0,\"ticks\":\"\"}},\"colorscale\":{\"sequential\":[[0.0,\"#0d0887\"],[0.1111111111111111,\"#46039f\"],[0.2222222222222222,\"#7201a8\"],[0.3333333333333333,\"#9c179e\"],[0.4444444444444444,\"#bd3786\"],[0.5555555555555556,\"#d8576b\"],[0.6666666666666666,\"#ed7953\"],[0.7777777777777778,\"#fb9f3a\"],[0.8888888888888888,\"#fdca26\"],[1.0,\"#f0f921\"]],\"sequentialminus\":[[0.0,\"#0d0887\"],[0.1111111111111111,\"#46039f\"],[0.2222222222222222,\"#7201a8\"],[0.3333333333333333,\"#9c179e\"],[0.4444444444444444,\"#bd3786\"],[0.5555555555555556,\"#d8576b\"],[0.6666666666666666,\"#ed7953\"],[0.7777777777777778,\"#fb9f3a\"],[0.8888888888888888,\"#fdca26\"],[1.0,\"#f0f921\"]],\"diverging\":[[0,\"#8e0152\"],[0.1,\"#c51b7d\"],[0.2,\"#de77ae\"],[0.3,\"#f1b6da\"],[0.4,\"#fde0ef\"],[0.5,\"#f7f7f7\"],[0.6,\"#e6f5d0\"],[0.7,\"#b8e186\"],[0.8,\"#7fbc41\"],[0.9,\"#4d9221\"],[1,\"#276419\"]]},\"xaxis\":{\"gridcolor\":\"white\",\"linecolor\":\"white\",\"ticks\":\"\",\"title\":{\"standoff\":15},\"zerolinecolor\":\"white\",\"automargin\":true,\"zerolinewidth\":2},\"yaxis\":{\"gridcolor\":\"white\",\"linecolor\":\"white\",\"ticks\":\"\",\"title\":{\"standoff\":15},\"zerolinecolor\":\"white\",\"automargin\":true,\"zerolinewidth\":2},\"scene\":{\"xaxis\":{\"backgroundcolor\":\"#E5ECF6\",\"gridcolor\":\"white\",\"linecolor\":\"white\",\"showbackground\":true,\"ticks\":\"\",\"zerolinecolor\":\"white\",\"gridwidth\":2},\"yaxis\":{\"backgroundcolor\":\"#E5ECF6\",\"gridcolor\":\"white\",\"linecolor\":\"white\",\"showbackground\":true,\"ticks\":\"\",\"zerolinecolor\":\"white\",\"gridwidth\":2},\"zaxis\":{\"backgroundcolor\":\"#E5ECF6\",\"gridcolor\":\"white\",\"linecolor\":\"white\",\"showbackground\":true,\"ticks\":\"\",\"zerolinecolor\":\"white\",\"gridwidth\":2}},\"shapedefaults\":{\"line\":{\"color\":\"#2a3f5f\"}},\"annotationdefaults\":{\"arrowcolor\":\"#2a3f5f\",\"arrowhead\":0,\"arrowwidth\":1},\"geo\":{\"bgcolor\":\"white\",\"landcolor\":\"#E5ECF6\",\"subunitcolor\":\"white\",\"showland\":true,\"showlakes\":true,\"lakecolor\":\"white\"},\"title\":{\"x\":0.05},\"mapbox\":{\"style\":\"light\"}}},\"xaxis\":{\"anchor\":\"y\",\"domain\":[0.0,1.0],\"title\":{\"text\":\"Number of Clusters\"}},\"yaxis\":{\"anchor\":\"x\",\"domain\":[0.0,1.0],\"title\":{\"text\":\"Value of WCSS\"}},\"legend\":{\"tracegroupgap\":0},\"margin\":{\"t\":60},\"title\":{\"text\":\"Definition of Clusters Number\",\"x\":0.5}},                        {\"responsive\": true}                    ).then(function(){\n",
              "                            \n",
              "var gd = document.getElementById('c50f7299-9018-4262-9bd0-0f946196f82d');\n",
              "var x = new MutationObserver(function (mutations, observer) {{\n",
              "        var display = window.getComputedStyle(gd).display;\n",
              "        if (!display || display === 'none') {{\n",
              "            console.log([gd, 'removed!']);\n",
              "            Plotly.purge(gd);\n",
              "            observer.disconnect();\n",
              "        }}\n",
              "}});\n",
              "\n",
              "// Listen for the removal of the full notebook cells\n",
              "var notebookContainer = gd.closest('#notebook-container');\n",
              "if (notebookContainer) {{\n",
              "    x.observe(notebookContainer, {childList: true});\n",
              "}}\n",
              "\n",
              "// Listen for the clearing of the current output cell\n",
              "var outputEl = gd.closest('.output');\n",
              "if (outputEl) {{\n",
              "    x.observe(outputEl, {childList: true});\n",
              "}}\n",
              "\n",
              "                        })                };                            </script>        </div>\n",
              "</body>\n",
              "</html>"
            ]
          },
          "metadata": {}
        }
      ]
    },
    {
      "cell_type": "markdown",
      "source": [
        "## Executing the algoritm K-means to the petals"
      ],
      "metadata": {
        "id": "e_ye4T6lItyx"
      }
    },
    {
      "cell_type": "code",
      "source": [
        "kmeans_petal = KMeans(n_clusters=3, random_state=0)\n",
        "label_cluster_petal = kmeans_petal.fit_predict(X_petal)"
      ],
      "metadata": {
        "colab": {
          "base_uri": "https://localhost:8080/"
        },
        "id": "Dofw30sWHsNg",
        "outputId": "be517947-6bd7-4075-e856-35ec24e84a35"
      },
      "execution_count": 37,
      "outputs": [
        {
          "output_type": "stream",
          "name": "stderr",
          "text": [
            "/usr/local/lib/python3.10/dist-packages/sklearn/cluster/_kmeans.py:870: FutureWarning:\n",
            "\n",
            "The default value of `n_init` will change from 10 to 'auto' in 1.4. Set the value of `n_init` explicitly to suppress the warning\n",
            "\n"
          ]
        }
      ]
    },
    {
      "cell_type": "code",
      "source": [
        "# Checking Clusters's classification\n",
        "label_cluster_petal"
      ],
      "metadata": {
        "colab": {
          "base_uri": "https://localhost:8080/"
        },
        "id": "ugARSZceJMr5",
        "outputId": "9528bc75-2a5b-4640-be28-5bd7c2ec2634"
      },
      "execution_count": 38,
      "outputs": [
        {
          "output_type": "execute_result",
          "data": {
            "text/plain": [
              "array([0, 0, 0, 0, 0, 0, 0, 0, 0, 0, 0, 0, 0, 0, 0, 0, 0, 0, 0, 0, 0, 0,\n",
              "       0, 0, 0, 0, 0, 0, 0, 0, 0, 0, 0, 0, 0, 0, 0, 0, 0, 0, 0, 0, 0, 0,\n",
              "       0, 0, 0, 0, 0, 0, 2, 2, 2, 2, 2, 2, 2, 2, 2, 2, 2, 2, 2, 2, 2, 2,\n",
              "       2, 2, 2, 2, 1, 2, 2, 2, 2, 2, 2, 1, 2, 2, 2, 2, 2, 2, 2, 2, 2, 2,\n",
              "       2, 2, 2, 2, 2, 2, 2, 2, 2, 2, 2, 2, 1, 1, 1, 1, 1, 1, 2, 1, 1, 1,\n",
              "       1, 1, 1, 1, 1, 1, 1, 1, 1, 2, 1, 1, 1, 1, 1, 1, 1, 1, 1, 1, 1, 1,\n",
              "       1, 2, 2, 1, 1, 1, 1, 1, 1, 1, 1, 1, 1, 1, 1, 1, 1, 1], dtype=int32)"
            ]
          },
          "metadata": {},
          "execution_count": 38
        }
      ]
    },
    {
      "cell_type": "markdown",
      "source": [
        "### Viewing the centroids of each cluster\n",
        "\n"
      ],
      "metadata": {
        "id": "CLJYXkOjJZ1u"
      }
    },
    {
      "cell_type": "code",
      "source": [
        "centroids_petal = kmeans_petal.cluster_centers_\n",
        "centroids_petal "
      ],
      "metadata": {
        "colab": {
          "base_uri": "https://localhost:8080/"
        },
        "id": "xR8NYaX9JPup",
        "outputId": "84e358fb-dc06-45d3-9a89-08f1854d92f0"
      },
      "execution_count": 40,
      "outputs": [
        {
          "output_type": "execute_result",
          "data": {
            "text/plain": [
              "array([[-1.30487835, -1.25512862],\n",
              "       [ 1.02813193,  1.12749028],\n",
              "       [ 0.30564587,  0.16609419]])"
            ]
          },
          "metadata": {},
          "execution_count": 40
        }
      ]
    },
    {
      "cell_type": "markdown",
      "source": [
        "### Viewing grouped data with petals's data"
      ],
      "metadata": {
        "id": "qgLTebUgJlJ1"
      }
    },
    {
      "cell_type": "code",
      "source": [
        "graphic_petal = px.scatter(x = X_petal[:,0], y=X_petal[:,1], color = label_cluster_petal)\n",
        "graphic_centroid_petal = px.scatter(x = centroids_petal[:,0], y=centroids_petal[:,1], size=[7,7,7])\n",
        "graphic_final = go.Figure(data=graphic_petal.data + graphic_centroid_petal.data)\n",
        "graphic_final.update_xaxes(title_text='Length')\n",
        "graphic_final.update_yaxes(title_text='Width')\n",
        "graphic_final.update_layout(title_text='Clusters', title_x=0.5)\n",
        "graphic_final.show()"
      ],
      "metadata": {
        "colab": {
          "base_uri": "https://localhost:8080/",
          "height": 542
        },
        "id": "8HT9ipWeJ2lV",
        "outputId": "ed204639-0790-47db-8f69-958b4a7c0372"
      },
      "execution_count": 89,
      "outputs": [
        {
          "output_type": "display_data",
          "data": {
            "text/html": [
              "<html>\n",
              "<head><meta charset=\"utf-8\" /></head>\n",
              "<body>\n",
              "    <div>            <script src=\"https://cdnjs.cloudflare.com/ajax/libs/mathjax/2.7.5/MathJax.js?config=TeX-AMS-MML_SVG\"></script><script type=\"text/javascript\">if (window.MathJax && window.MathJax.Hub && window.MathJax.Hub.Config) {window.MathJax.Hub.Config({SVG: {font: \"STIX-Web\"}});}</script>                <script type=\"text/javascript\">window.PlotlyConfig = {MathJaxConfig: 'local'};</script>\n",
              "        <script src=\"https://cdn.plot.ly/plotly-2.18.2.min.js\"></script>                <div id=\"4bf50983-9fac-4a04-a2e1-a079e1fa8e60\" class=\"plotly-graph-div\" style=\"height:525px; width:100%;\"></div>            <script type=\"text/javascript\">                                    window.PLOTLYENV=window.PLOTLYENV || {};                                    if (document.getElementById(\"4bf50983-9fac-4a04-a2e1-a079e1fa8e60\")) {                    Plotly.newPlot(                        \"4bf50983-9fac-4a04-a2e1-a079e1fa8e60\",                        [{\"hovertemplate\":\"x=%{x}<br>y=%{y}<br>color=%{marker.color}<extra></extra>\",\"legendgroup\":\"\",\"marker\":{\"color\":[0,0,0,0,0,0,0,0,0,0,0,0,0,0,0,0,0,0,0,0,0,0,0,0,0,0,0,0,0,0,0,0,0,0,0,0,0,0,0,0,0,0,0,0,0,0,0,0,0,0,2,2,2,2,2,2,2,2,2,2,2,2,2,2,2,2,2,2,2,2,1,2,2,2,2,2,2,1,2,2,2,2,2,2,2,2,2,2,2,2,2,2,2,2,2,2,2,2,2,2,1,1,1,1,1,1,2,1,1,1,1,1,1,1,1,1,1,1,1,2,1,1,1,1,1,1,1,1,1,1,1,1,1,2,2,1,1,1,1,1,1,1,1,1,1,1,1,1,1,1],\"coloraxis\":\"coloraxis\",\"symbol\":\"circle\"},\"mode\":\"markers\",\"name\":\"\",\"orientation\":\"v\",\"showlegend\":false,\"x\":[-1.3412724047598314,-1.3412724047598314,-1.3981381087490836,-1.284406700770579,-1.3412724047598314,-1.1706752927920745,-1.3412724047598314,-1.284406700770579,-1.3412724047598314,-1.284406700770579,-1.284406700770579,-1.2275409967813267,-1.3412724047598314,-1.5118695167275884,-1.4550038127383362,-1.284406700770579,-1.3981381087490836,-1.3412724047598314,-1.1706752927920745,-1.284406700770579,-1.1706752927920745,-1.284406700770579,-1.5687352207168408,-1.1706752927920745,-1.05694388481357,-1.2275409967813267,-1.2275409967813267,-1.284406700770579,-1.3412724047598314,-1.2275409967813267,-1.2275409967813267,-1.284406700770579,-1.284406700770579,-1.3412724047598314,-1.284406700770579,-1.4550038127383362,-1.3981381087490836,-1.284406700770579,-1.3981381087490836,-1.284406700770579,-1.3981381087490836,-1.3981381087490836,-1.3981381087490836,-1.2275409967813267,-1.05694388481357,-1.3412724047598314,-1.2275409967813267,-1.3412724047598314,-1.284406700770579,-1.3412724047598314,0.5352958268854957,0.4215644189069909,0.6490272348640005,0.13723589896072927,0.4784301228962431,0.4215644189069909,0.5352958268854957,-0.26082402896403717,0.4784301228962431,0.08037019497147688,-0.1470926209855324,0.250967306939234,0.13723589896072927,0.5352958268854957,-0.09022691699628003,0.3646987149177388,0.4215644189069909,0.19410160294998138,0.4215644189069909,0.08037019497147688,0.5921615308747479,0.13723589896072927,0.6490272348640005,0.5352958268854957,0.30783301092848614,0.3646987149177388,0.5921615308747479,0.7058929388532527,0.4215644189069909,-0.1470926209855324,0.02350449098222449,-0.03336121300702764,0.08037019497147688,0.7627586428425047,0.4215644189069909,0.4215644189069909,0.5352958268854957,0.3646987149177388,0.19410160294998138,0.13723589896072927,0.3646987149177388,0.4784301228962431,0.13723589896072927,-0.26082402896403717,0.250967306939234,0.250967306939234,0.250967306939234,0.30783301092848614,-0.43142114093179407,0.19410160294998138,1.274549978745776,0.7627586428425047,1.2176842747565237,1.0470871627887663,1.1608185707672711,1.6157442026812898,0.4215644189069909,1.4451470907135329,1.1608185707672711,1.331415682735028,0.7627586428425047,0.8764900508210095,0.9902214587995143,0.7058929388532527,0.7627586428425047,0.8764900508210095,0.9902214587995143,1.6726099066705424,1.7863413146490472,0.7058929388532527,1.103952866778019,0.6490272348640005,1.6726099066705424,0.6490272348640005,1.103952866778019,1.274549978745776,0.5921615308747479,0.6490272348640005,1.0470871627887663,1.1608185707672711,1.331415682735028,1.5020127947027855,1.0470871627887663,0.7627586428425047,1.0470871627887663,1.331415682735028,1.0470871627887663,0.9902214587995143,0.5921615308747479,0.9333557548102621,1.0470871627887663,0.7627586428425047,0.7627586428425047,1.2176842747565237,1.103952866778019,0.8196243468317573,0.7058929388532527,0.8196243468317573,0.9333557548102621,0.7627586428425047],\"xaxis\":\"x\",\"y\":[-1.3129767272601454,-1.3129767272601454,-1.3129767272601454,-1.3129767272601454,-1.3129767272601454,-1.0500307872213979,-1.1815037572407716,-1.3129767272601454,-1.3129767272601454,-1.4444496972795189,-1.3129767272601454,-1.3129767272601454,-1.4444496972795189,-1.4444496972795189,-1.3129767272601454,-1.0500307872213979,-1.0500307872213979,-1.1815037572407716,-1.1815037572407716,-1.1815037572407716,-1.3129767272601454,-1.0500307872213979,-1.3129767272601454,-0.9185578172020242,-1.3129767272601454,-1.3129767272601454,-1.0500307872213979,-1.3129767272601454,-1.3129767272601454,-1.3129767272601454,-1.3129767272601454,-1.0500307872213979,-1.4444496972795189,-1.3129767272601454,-1.4444496972795189,-1.3129767272601454,-1.3129767272601454,-1.4444496972795189,-1.3129767272601454,-1.3129767272601454,-1.1815037572407716,-1.1815037572407716,-1.3129767272601454,-0.7870848471826506,-1.0500307872213979,-1.1815037572407716,-1.3129767272601454,-1.3129767272601454,-1.3129767272601454,-1.3129767272601454,0.2646989129723388,0.3961718829917126,0.3961718829917126,0.13322594295296525,0.3961718829917126,0.13322594295296525,0.5276448530110863,-0.2611929671051558,0.13322594295296525,0.2646989129723388,-0.2611929671051558,0.3961718829917126,-0.2611929671051558,0.2646989129723388,0.13322594295296525,0.2646989129723388,0.3961718829917126,-0.2611929671051558,0.3961718829917126,-0.12971999708578205,0.7905907930498337,0.13322594295296525,0.3961718829917126,0.001752972933591456,0.13322594295296525,0.2646989129723388,0.2646989129723388,0.6591178230304598,0.3961718829917126,-0.2611929671051558,-0.12971999708578205,-0.2611929671051558,0.001752972933591456,0.5276448530110863,0.3961718829917126,0.5276448530110863,0.3961718829917126,0.13322594295296525,0.13322594295296525,0.13322594295296525,0.001752972933591456,0.2646989129723388,0.001752972933591456,-0.2611929671051558,0.13322594295296525,0.001752972933591456,0.13322594295296525,0.13322594295296525,-0.12971999708578205,0.13322594295296525,1.7109015831854495,0.9220637630692072,1.1850097031079547,0.7905907930498337,1.3164826731273285,1.1850097031079547,0.6591178230304598,0.7905907930498337,0.7905907930498337,1.7109015831854495,1.053536733088581,0.9220637630692072,1.1850097031079547,1.053536733088581,1.5794286131660755,1.4479556431467018,0.7905907930498337,1.3164826731273285,1.4479556431467018,0.3961718829917126,1.4479556431467018,1.053536733088581,1.053536733088581,0.7905907930498337,1.1850097031079547,0.7905907930498337,0.7905907930498337,0.7905907930498337,1.1850097031079547,0.5276448530110863,0.9220637630692072,1.053536733088581,1.3164826731273285,0.3961718829917126,0.2646989129723388,1.4479556431467018,1.5794286131660755,0.7905907930498337,0.7905907930498337,1.1850097031079547,1.5794286131660755,1.4479556431467018,0.9220637630692072,1.4479556431467018,1.7109015831854495,1.4479556431467018,0.9220637630692072,1.053536733088581,1.4479556431467018,0.7905907930498337],\"yaxis\":\"y\",\"type\":\"scatter\"},{\"hovertemplate\":\"x=%{x}<br>y=%{y}<br>size=%{marker.size}<extra></extra>\",\"legendgroup\":\"\",\"marker\":{\"color\":\"#636efa\",\"size\":[7,7,7],\"sizemode\":\"area\",\"sizeref\":0.0175,\"symbol\":\"circle\"},\"mode\":\"markers\",\"name\":\"\",\"orientation\":\"v\",\"showlegend\":false,\"x\":[-1.3048783542067108,1.0281319281256824,0.3056458684673612],\"xaxis\":\"x\",\"y\":[-1.2551286204516217,1.127490278724478,0.16609418545780852],\"yaxis\":\"y\",\"type\":\"scatter\"}],                        {\"template\":{\"data\":{\"histogram2dcontour\":[{\"type\":\"histogram2dcontour\",\"colorbar\":{\"outlinewidth\":0,\"ticks\":\"\"},\"colorscale\":[[0.0,\"#0d0887\"],[0.1111111111111111,\"#46039f\"],[0.2222222222222222,\"#7201a8\"],[0.3333333333333333,\"#9c179e\"],[0.4444444444444444,\"#bd3786\"],[0.5555555555555556,\"#d8576b\"],[0.6666666666666666,\"#ed7953\"],[0.7777777777777778,\"#fb9f3a\"],[0.8888888888888888,\"#fdca26\"],[1.0,\"#f0f921\"]]}],\"choropleth\":[{\"type\":\"choropleth\",\"colorbar\":{\"outlinewidth\":0,\"ticks\":\"\"}}],\"histogram2d\":[{\"type\":\"histogram2d\",\"colorbar\":{\"outlinewidth\":0,\"ticks\":\"\"},\"colorscale\":[[0.0,\"#0d0887\"],[0.1111111111111111,\"#46039f\"],[0.2222222222222222,\"#7201a8\"],[0.3333333333333333,\"#9c179e\"],[0.4444444444444444,\"#bd3786\"],[0.5555555555555556,\"#d8576b\"],[0.6666666666666666,\"#ed7953\"],[0.7777777777777778,\"#fb9f3a\"],[0.8888888888888888,\"#fdca26\"],[1.0,\"#f0f921\"]]}],\"heatmap\":[{\"type\":\"heatmap\",\"colorbar\":{\"outlinewidth\":0,\"ticks\":\"\"},\"colorscale\":[[0.0,\"#0d0887\"],[0.1111111111111111,\"#46039f\"],[0.2222222222222222,\"#7201a8\"],[0.3333333333333333,\"#9c179e\"],[0.4444444444444444,\"#bd3786\"],[0.5555555555555556,\"#d8576b\"],[0.6666666666666666,\"#ed7953\"],[0.7777777777777778,\"#fb9f3a\"],[0.8888888888888888,\"#fdca26\"],[1.0,\"#f0f921\"]]}],\"heatmapgl\":[{\"type\":\"heatmapgl\",\"colorbar\":{\"outlinewidth\":0,\"ticks\":\"\"},\"colorscale\":[[0.0,\"#0d0887\"],[0.1111111111111111,\"#46039f\"],[0.2222222222222222,\"#7201a8\"],[0.3333333333333333,\"#9c179e\"],[0.4444444444444444,\"#bd3786\"],[0.5555555555555556,\"#d8576b\"],[0.6666666666666666,\"#ed7953\"],[0.7777777777777778,\"#fb9f3a\"],[0.8888888888888888,\"#fdca26\"],[1.0,\"#f0f921\"]]}],\"contourcarpet\":[{\"type\":\"contourcarpet\",\"colorbar\":{\"outlinewidth\":0,\"ticks\":\"\"}}],\"contour\":[{\"type\":\"contour\",\"colorbar\":{\"outlinewidth\":0,\"ticks\":\"\"},\"colorscale\":[[0.0,\"#0d0887\"],[0.1111111111111111,\"#46039f\"],[0.2222222222222222,\"#7201a8\"],[0.3333333333333333,\"#9c179e\"],[0.4444444444444444,\"#bd3786\"],[0.5555555555555556,\"#d8576b\"],[0.6666666666666666,\"#ed7953\"],[0.7777777777777778,\"#fb9f3a\"],[0.8888888888888888,\"#fdca26\"],[1.0,\"#f0f921\"]]}],\"surface\":[{\"type\":\"surface\",\"colorbar\":{\"outlinewidth\":0,\"ticks\":\"\"},\"colorscale\":[[0.0,\"#0d0887\"],[0.1111111111111111,\"#46039f\"],[0.2222222222222222,\"#7201a8\"],[0.3333333333333333,\"#9c179e\"],[0.4444444444444444,\"#bd3786\"],[0.5555555555555556,\"#d8576b\"],[0.6666666666666666,\"#ed7953\"],[0.7777777777777778,\"#fb9f3a\"],[0.8888888888888888,\"#fdca26\"],[1.0,\"#f0f921\"]]}],\"mesh3d\":[{\"type\":\"mesh3d\",\"colorbar\":{\"outlinewidth\":0,\"ticks\":\"\"}}],\"scatter\":[{\"fillpattern\":{\"fillmode\":\"overlay\",\"size\":10,\"solidity\":0.2},\"type\":\"scatter\"}],\"parcoords\":[{\"type\":\"parcoords\",\"line\":{\"colorbar\":{\"outlinewidth\":0,\"ticks\":\"\"}}}],\"scatterpolargl\":[{\"type\":\"scatterpolargl\",\"marker\":{\"colorbar\":{\"outlinewidth\":0,\"ticks\":\"\"}}}],\"bar\":[{\"error_x\":{\"color\":\"#2a3f5f\"},\"error_y\":{\"color\":\"#2a3f5f\"},\"marker\":{\"line\":{\"color\":\"#E5ECF6\",\"width\":0.5},\"pattern\":{\"fillmode\":\"overlay\",\"size\":10,\"solidity\":0.2}},\"type\":\"bar\"}],\"scattergeo\":[{\"type\":\"scattergeo\",\"marker\":{\"colorbar\":{\"outlinewidth\":0,\"ticks\":\"\"}}}],\"scatterpolar\":[{\"type\":\"scatterpolar\",\"marker\":{\"colorbar\":{\"outlinewidth\":0,\"ticks\":\"\"}}}],\"histogram\":[{\"marker\":{\"pattern\":{\"fillmode\":\"overlay\",\"size\":10,\"solidity\":0.2}},\"type\":\"histogram\"}],\"scattergl\":[{\"type\":\"scattergl\",\"marker\":{\"colorbar\":{\"outlinewidth\":0,\"ticks\":\"\"}}}],\"scatter3d\":[{\"type\":\"scatter3d\",\"line\":{\"colorbar\":{\"outlinewidth\":0,\"ticks\":\"\"}},\"marker\":{\"colorbar\":{\"outlinewidth\":0,\"ticks\":\"\"}}}],\"scattermapbox\":[{\"type\":\"scattermapbox\",\"marker\":{\"colorbar\":{\"outlinewidth\":0,\"ticks\":\"\"}}}],\"scatterternary\":[{\"type\":\"scatterternary\",\"marker\":{\"colorbar\":{\"outlinewidth\":0,\"ticks\":\"\"}}}],\"scattercarpet\":[{\"type\":\"scattercarpet\",\"marker\":{\"colorbar\":{\"outlinewidth\":0,\"ticks\":\"\"}}}],\"carpet\":[{\"aaxis\":{\"endlinecolor\":\"#2a3f5f\",\"gridcolor\":\"white\",\"linecolor\":\"white\",\"minorgridcolor\":\"white\",\"startlinecolor\":\"#2a3f5f\"},\"baxis\":{\"endlinecolor\":\"#2a3f5f\",\"gridcolor\":\"white\",\"linecolor\":\"white\",\"minorgridcolor\":\"white\",\"startlinecolor\":\"#2a3f5f\"},\"type\":\"carpet\"}],\"table\":[{\"cells\":{\"fill\":{\"color\":\"#EBF0F8\"},\"line\":{\"color\":\"white\"}},\"header\":{\"fill\":{\"color\":\"#C8D4E3\"},\"line\":{\"color\":\"white\"}},\"type\":\"table\"}],\"barpolar\":[{\"marker\":{\"line\":{\"color\":\"#E5ECF6\",\"width\":0.5},\"pattern\":{\"fillmode\":\"overlay\",\"size\":10,\"solidity\":0.2}},\"type\":\"barpolar\"}],\"pie\":[{\"automargin\":true,\"type\":\"pie\"}]},\"layout\":{\"autotypenumbers\":\"strict\",\"colorway\":[\"#636efa\",\"#EF553B\",\"#00cc96\",\"#ab63fa\",\"#FFA15A\",\"#19d3f3\",\"#FF6692\",\"#B6E880\",\"#FF97FF\",\"#FECB52\"],\"font\":{\"color\":\"#2a3f5f\"},\"hovermode\":\"closest\",\"hoverlabel\":{\"align\":\"left\"},\"paper_bgcolor\":\"white\",\"plot_bgcolor\":\"#E5ECF6\",\"polar\":{\"bgcolor\":\"#E5ECF6\",\"angularaxis\":{\"gridcolor\":\"white\",\"linecolor\":\"white\",\"ticks\":\"\"},\"radialaxis\":{\"gridcolor\":\"white\",\"linecolor\":\"white\",\"ticks\":\"\"}},\"ternary\":{\"bgcolor\":\"#E5ECF6\",\"aaxis\":{\"gridcolor\":\"white\",\"linecolor\":\"white\",\"ticks\":\"\"},\"baxis\":{\"gridcolor\":\"white\",\"linecolor\":\"white\",\"ticks\":\"\"},\"caxis\":{\"gridcolor\":\"white\",\"linecolor\":\"white\",\"ticks\":\"\"}},\"coloraxis\":{\"colorbar\":{\"outlinewidth\":0,\"ticks\":\"\"}},\"colorscale\":{\"sequential\":[[0.0,\"#0d0887\"],[0.1111111111111111,\"#46039f\"],[0.2222222222222222,\"#7201a8\"],[0.3333333333333333,\"#9c179e\"],[0.4444444444444444,\"#bd3786\"],[0.5555555555555556,\"#d8576b\"],[0.6666666666666666,\"#ed7953\"],[0.7777777777777778,\"#fb9f3a\"],[0.8888888888888888,\"#fdca26\"],[1.0,\"#f0f921\"]],\"sequentialminus\":[[0.0,\"#0d0887\"],[0.1111111111111111,\"#46039f\"],[0.2222222222222222,\"#7201a8\"],[0.3333333333333333,\"#9c179e\"],[0.4444444444444444,\"#bd3786\"],[0.5555555555555556,\"#d8576b\"],[0.6666666666666666,\"#ed7953\"],[0.7777777777777778,\"#fb9f3a\"],[0.8888888888888888,\"#fdca26\"],[1.0,\"#f0f921\"]],\"diverging\":[[0,\"#8e0152\"],[0.1,\"#c51b7d\"],[0.2,\"#de77ae\"],[0.3,\"#f1b6da\"],[0.4,\"#fde0ef\"],[0.5,\"#f7f7f7\"],[0.6,\"#e6f5d0\"],[0.7,\"#b8e186\"],[0.8,\"#7fbc41\"],[0.9,\"#4d9221\"],[1,\"#276419\"]]},\"xaxis\":{\"gridcolor\":\"white\",\"linecolor\":\"white\",\"ticks\":\"\",\"title\":{\"standoff\":15},\"zerolinecolor\":\"white\",\"automargin\":true,\"zerolinewidth\":2},\"yaxis\":{\"gridcolor\":\"white\",\"linecolor\":\"white\",\"ticks\":\"\",\"title\":{\"standoff\":15},\"zerolinecolor\":\"white\",\"automargin\":true,\"zerolinewidth\":2},\"scene\":{\"xaxis\":{\"backgroundcolor\":\"#E5ECF6\",\"gridcolor\":\"white\",\"linecolor\":\"white\",\"showbackground\":true,\"ticks\":\"\",\"zerolinecolor\":\"white\",\"gridwidth\":2},\"yaxis\":{\"backgroundcolor\":\"#E5ECF6\",\"gridcolor\":\"white\",\"linecolor\":\"white\",\"showbackground\":true,\"ticks\":\"\",\"zerolinecolor\":\"white\",\"gridwidth\":2},\"zaxis\":{\"backgroundcolor\":\"#E5ECF6\",\"gridcolor\":\"white\",\"linecolor\":\"white\",\"showbackground\":true,\"ticks\":\"\",\"zerolinecolor\":\"white\",\"gridwidth\":2}},\"shapedefaults\":{\"line\":{\"color\":\"#2a3f5f\"}},\"annotationdefaults\":{\"arrowcolor\":\"#2a3f5f\",\"arrowhead\":0,\"arrowwidth\":1},\"geo\":{\"bgcolor\":\"white\",\"landcolor\":\"#E5ECF6\",\"subunitcolor\":\"white\",\"showland\":true,\"showlakes\":true,\"lakecolor\":\"white\"},\"title\":{\"x\":0.05},\"mapbox\":{\"style\":\"light\"}}},\"xaxis\":{\"title\":{\"text\":\"Length\"}},\"yaxis\":{\"title\":{\"text\":\"Width\"}},\"title\":{\"text\":\"Clusters\",\"x\":0.5}},                        {\"responsive\": true}                    ).then(function(){\n",
              "                            \n",
              "var gd = document.getElementById('4bf50983-9fac-4a04-a2e1-a079e1fa8e60');\n",
              "var x = new MutationObserver(function (mutations, observer) {{\n",
              "        var display = window.getComputedStyle(gd).display;\n",
              "        if (!display || display === 'none') {{\n",
              "            console.log([gd, 'removed!']);\n",
              "            Plotly.purge(gd);\n",
              "            observer.disconnect();\n",
              "        }}\n",
              "}});\n",
              "\n",
              "// Listen for the removal of the full notebook cells\n",
              "var notebookContainer = gd.closest('#notebook-container');\n",
              "if (notebookContainer) {{\n",
              "    x.observe(notebookContainer, {childList: true});\n",
              "}}\n",
              "\n",
              "// Listen for the clearing of the current output cell\n",
              "var outputEl = gd.closest('.output');\n",
              "if (outputEl) {{\n",
              "    x.observe(outputEl, {childList: true});\n",
              "}}\n",
              "\n",
              "                        })                };                            </script>        </div>\n",
              "</body>\n",
              "</html>"
            ]
          },
          "metadata": {}
        }
      ]
    },
    {
      "cell_type": "code",
      "source": [
        "centroids_petal "
      ],
      "metadata": {
        "colab": {
          "base_uri": "https://localhost:8080/"
        },
        "id": "hdgM7W_0KujF",
        "outputId": "b02af9c5-a64b-4c49-a0e3-79a13676a736"
      },
      "execution_count": 90,
      "outputs": [
        {
          "output_type": "execute_result",
          "data": {
            "text/plain": [
              "array([[-1.30487835, -1.25512862],\n",
              "       [ 1.02813193,  1.12749028],\n",
              "       [ 0.30564587,  0.16609419]])"
            ]
          },
          "metadata": {},
          "execution_count": 90
        }
      ]
    },
    {
      "cell_type": "markdown",
      "source": [
        "## Creating cluters with sepals data\n",
        "_________________________________________________________\n",
        "Now let's group the data based on the length and width of the sepals"
      ],
      "metadata": {
        "id": "iBkhQfs_M7tu"
      }
    },
    {
      "cell_type": "markdown",
      "source": [
        "### Colecting Sepals Data"
      ],
      "metadata": {
        "id": "wMm8J9GANSYU"
      }
    },
    {
      "cell_type": "code",
      "source": [
        "iris.head()"
      ],
      "metadata": {
        "colab": {
          "base_uri": "https://localhost:8080/",
          "height": 206
        },
        "id": "veK6Q5yXOLD8",
        "outputId": "63bafad8-827e-4e2b-aff7-c9bac6ec5103"
      },
      "execution_count": 55,
      "outputs": [
        {
          "output_type": "execute_result",
          "data": {
            "text/plain": [
              "   sepal length  sepal width  petal length  petal width        Class\n",
              "0           5.1          3.5           1.4          0.2  Iris-setosa\n",
              "1           4.9          3.0           1.4          0.2  Iris-setosa\n",
              "2           4.7          3.2           1.3          0.2  Iris-setosa\n",
              "3           4.6          3.1           1.5          0.2  Iris-setosa\n",
              "4           5.0          3.6           1.4          0.2  Iris-setosa"
            ],
            "text/html": [
              "\n",
              "  <div id=\"df-71d739ab-11e8-4861-b9e9-3c0f46b35bf9\">\n",
              "    <div class=\"colab-df-container\">\n",
              "      <div>\n",
              "<style scoped>\n",
              "    .dataframe tbody tr th:only-of-type {\n",
              "        vertical-align: middle;\n",
              "    }\n",
              "\n",
              "    .dataframe tbody tr th {\n",
              "        vertical-align: top;\n",
              "    }\n",
              "\n",
              "    .dataframe thead th {\n",
              "        text-align: right;\n",
              "    }\n",
              "</style>\n",
              "<table border=\"1\" class=\"dataframe\">\n",
              "  <thead>\n",
              "    <tr style=\"text-align: right;\">\n",
              "      <th></th>\n",
              "      <th>sepal length</th>\n",
              "      <th>sepal width</th>\n",
              "      <th>petal length</th>\n",
              "      <th>petal width</th>\n",
              "      <th>Class</th>\n",
              "    </tr>\n",
              "  </thead>\n",
              "  <tbody>\n",
              "    <tr>\n",
              "      <th>0</th>\n",
              "      <td>5.1</td>\n",
              "      <td>3.5</td>\n",
              "      <td>1.4</td>\n",
              "      <td>0.2</td>\n",
              "      <td>Iris-setosa</td>\n",
              "    </tr>\n",
              "    <tr>\n",
              "      <th>1</th>\n",
              "      <td>4.9</td>\n",
              "      <td>3.0</td>\n",
              "      <td>1.4</td>\n",
              "      <td>0.2</td>\n",
              "      <td>Iris-setosa</td>\n",
              "    </tr>\n",
              "    <tr>\n",
              "      <th>2</th>\n",
              "      <td>4.7</td>\n",
              "      <td>3.2</td>\n",
              "      <td>1.3</td>\n",
              "      <td>0.2</td>\n",
              "      <td>Iris-setosa</td>\n",
              "    </tr>\n",
              "    <tr>\n",
              "      <th>3</th>\n",
              "      <td>4.6</td>\n",
              "      <td>3.1</td>\n",
              "      <td>1.5</td>\n",
              "      <td>0.2</td>\n",
              "      <td>Iris-setosa</td>\n",
              "    </tr>\n",
              "    <tr>\n",
              "      <th>4</th>\n",
              "      <td>5.0</td>\n",
              "      <td>3.6</td>\n",
              "      <td>1.4</td>\n",
              "      <td>0.2</td>\n",
              "      <td>Iris-setosa</td>\n",
              "    </tr>\n",
              "  </tbody>\n",
              "</table>\n",
              "</div>\n",
              "      <button class=\"colab-df-convert\" onclick=\"convertToInteractive('df-71d739ab-11e8-4861-b9e9-3c0f46b35bf9')\"\n",
              "              title=\"Convert this dataframe to an interactive table.\"\n",
              "              style=\"display:none;\">\n",
              "        \n",
              "  <svg xmlns=\"http://www.w3.org/2000/svg\" height=\"24px\"viewBox=\"0 0 24 24\"\n",
              "       width=\"24px\">\n",
              "    <path d=\"M0 0h24v24H0V0z\" fill=\"none\"/>\n",
              "    <path d=\"M18.56 5.44l.94 2.06.94-2.06 2.06-.94-2.06-.94-.94-2.06-.94 2.06-2.06.94zm-11 1L8.5 8.5l.94-2.06 2.06-.94-2.06-.94L8.5 2.5l-.94 2.06-2.06.94zm10 10l.94 2.06.94-2.06 2.06-.94-2.06-.94-.94-2.06-.94 2.06-2.06.94z\"/><path d=\"M17.41 7.96l-1.37-1.37c-.4-.4-.92-.59-1.43-.59-.52 0-1.04.2-1.43.59L10.3 9.45l-7.72 7.72c-.78.78-.78 2.05 0 2.83L4 21.41c.39.39.9.59 1.41.59.51 0 1.02-.2 1.41-.59l7.78-7.78 2.81-2.81c.8-.78.8-2.07 0-2.86zM5.41 20L4 18.59l7.72-7.72 1.47 1.35L5.41 20z\"/>\n",
              "  </svg>\n",
              "      </button>\n",
              "      \n",
              "  <style>\n",
              "    .colab-df-container {\n",
              "      display:flex;\n",
              "      flex-wrap:wrap;\n",
              "      gap: 12px;\n",
              "    }\n",
              "\n",
              "    .colab-df-convert {\n",
              "      background-color: #E8F0FE;\n",
              "      border: none;\n",
              "      border-radius: 50%;\n",
              "      cursor: pointer;\n",
              "      display: none;\n",
              "      fill: #1967D2;\n",
              "      height: 32px;\n",
              "      padding: 0 0 0 0;\n",
              "      width: 32px;\n",
              "    }\n",
              "\n",
              "    .colab-df-convert:hover {\n",
              "      background-color: #E2EBFA;\n",
              "      box-shadow: 0px 1px 2px rgba(60, 64, 67, 0.3), 0px 1px 3px 1px rgba(60, 64, 67, 0.15);\n",
              "      fill: #174EA6;\n",
              "    }\n",
              "\n",
              "    [theme=dark] .colab-df-convert {\n",
              "      background-color: #3B4455;\n",
              "      fill: #D2E3FC;\n",
              "    }\n",
              "\n",
              "    [theme=dark] .colab-df-convert:hover {\n",
              "      background-color: #434B5C;\n",
              "      box-shadow: 0px 1px 3px 1px rgba(0, 0, 0, 0.15);\n",
              "      filter: drop-shadow(0px 1px 2px rgba(0, 0, 0, 0.3));\n",
              "      fill: #FFFFFF;\n",
              "    }\n",
              "  </style>\n",
              "\n",
              "      <script>\n",
              "        const buttonEl =\n",
              "          document.querySelector('#df-71d739ab-11e8-4861-b9e9-3c0f46b35bf9 button.colab-df-convert');\n",
              "        buttonEl.style.display =\n",
              "          google.colab.kernel.accessAllowed ? 'block' : 'none';\n",
              "\n",
              "        async function convertToInteractive(key) {\n",
              "          const element = document.querySelector('#df-71d739ab-11e8-4861-b9e9-3c0f46b35bf9');\n",
              "          const dataTable =\n",
              "            await google.colab.kernel.invokeFunction('convertToInteractive',\n",
              "                                                     [key], {});\n",
              "          if (!dataTable) return;\n",
              "\n",
              "          const docLinkHtml = 'Like what you see? Visit the ' +\n",
              "            '<a target=\"_blank\" href=https://colab.research.google.com/notebooks/data_table.ipynb>data table notebook</a>'\n",
              "            + ' to learn more about interactive tables.';\n",
              "          element.innerHTML = '';\n",
              "          dataTable['output_type'] = 'display_data';\n",
              "          await google.colab.output.renderOutput(dataTable, element);\n",
              "          const docLink = document.createElement('div');\n",
              "          docLink.innerHTML = docLinkHtml;\n",
              "          element.appendChild(docLink);\n",
              "        }\n",
              "      </script>\n",
              "    </div>\n",
              "  </div>\n",
              "  "
            ]
          },
          "metadata": {},
          "execution_count": 55
        }
      ]
    },
    {
      "cell_type": "code",
      "source": [
        "X_sepal = iris.iloc[:,[0,1]].values\n",
        "X_sepal[:10]"
      ],
      "metadata": {
        "colab": {
          "base_uri": "https://localhost:8080/"
        },
        "id": "UPTNM2opNUu2",
        "outputId": "ab5f8676-7ad3-4c3d-ab2f-a218e08a0d8a"
      },
      "execution_count": 66,
      "outputs": [
        {
          "output_type": "execute_result",
          "data": {
            "text/plain": [
              "array([[5.1, 3.5],\n",
              "       [4.9, 3. ],\n",
              "       [4.7, 3.2],\n",
              "       [4.6, 3.1],\n",
              "       [5. , 3.6],\n",
              "       [5.4, 3.9],\n",
              "       [4.6, 3.4],\n",
              "       [5. , 3.4],\n",
              "       [4.4, 2.9],\n",
              "       [4.9, 3.1]])"
            ]
          },
          "metadata": {},
          "execution_count": 66
        }
      ]
    },
    {
      "cell_type": "code",
      "source": [
        "X_sepal = normalize_date.fit_transform(X_sepal)\n",
        "X_sepal[:10]"
      ],
      "metadata": {
        "colab": {
          "base_uri": "https://localhost:8080/"
        },
        "id": "UheBPL1nPg-9",
        "outputId": "6044acd7-5197-4d7c-ab29-4f062cc91a0e"
      },
      "execution_count": 67,
      "outputs": [
        {
          "output_type": "execute_result",
          "data": {
            "text/plain": [
              "array([[-0.90068117,  1.03205722],\n",
              "       [-1.14301691, -0.1249576 ],\n",
              "       [-1.38535265,  0.33784833],\n",
              "       [-1.50652052,  0.10644536],\n",
              "       [-1.02184904,  1.26346019],\n",
              "       [-0.53717756,  1.95766909],\n",
              "       [-1.50652052,  0.80065426],\n",
              "       [-1.02184904,  0.80065426],\n",
              "       [-1.74885626, -0.35636057],\n",
              "       [-1.14301691,  0.10644536]])"
            ]
          },
          "metadata": {},
          "execution_count": 67
        }
      ]
    },
    {
      "cell_type": "markdown",
      "source": [
        "### Calculation of the WCSS value"
      ],
      "metadata": {
        "id": "SzBUQi2oOoIW"
      }
    },
    {
      "cell_type": "code",
      "source": [
        "wcss_sepal = []\n",
        "\n",
        "for i in range(1,11):\n",
        "  kmeans_sepal = KMeans(n_clusters=i, random_state=0)\n",
        "  kmeans_sepal.fit(X_sepal)\n",
        "  wcss_sepal.append(kmeans_sepal.inertia_)"
      ],
      "metadata": {
        "colab": {
          "base_uri": "https://localhost:8080/"
        },
        "id": "wFQTQueMOHwC",
        "outputId": "83c3709e-29bc-4f65-8cf7-b102e3d710a3"
      },
      "execution_count": 68,
      "outputs": [
        {
          "output_type": "stream",
          "name": "stderr",
          "text": [
            "/usr/local/lib/python3.10/dist-packages/sklearn/cluster/_kmeans.py:870: FutureWarning:\n",
            "\n",
            "The default value of `n_init` will change from 10 to 'auto' in 1.4. Set the value of `n_init` explicitly to suppress the warning\n",
            "\n",
            "/usr/local/lib/python3.10/dist-packages/sklearn/cluster/_kmeans.py:870: FutureWarning:\n",
            "\n",
            "The default value of `n_init` will change from 10 to 'auto' in 1.4. Set the value of `n_init` explicitly to suppress the warning\n",
            "\n",
            "/usr/local/lib/python3.10/dist-packages/sklearn/cluster/_kmeans.py:870: FutureWarning:\n",
            "\n",
            "The default value of `n_init` will change from 10 to 'auto' in 1.4. Set the value of `n_init` explicitly to suppress the warning\n",
            "\n",
            "/usr/local/lib/python3.10/dist-packages/sklearn/cluster/_kmeans.py:870: FutureWarning:\n",
            "\n",
            "The default value of `n_init` will change from 10 to 'auto' in 1.4. Set the value of `n_init` explicitly to suppress the warning\n",
            "\n",
            "/usr/local/lib/python3.10/dist-packages/sklearn/cluster/_kmeans.py:870: FutureWarning:\n",
            "\n",
            "The default value of `n_init` will change from 10 to 'auto' in 1.4. Set the value of `n_init` explicitly to suppress the warning\n",
            "\n",
            "/usr/local/lib/python3.10/dist-packages/sklearn/cluster/_kmeans.py:870: FutureWarning:\n",
            "\n",
            "The default value of `n_init` will change from 10 to 'auto' in 1.4. Set the value of `n_init` explicitly to suppress the warning\n",
            "\n",
            "/usr/local/lib/python3.10/dist-packages/sklearn/cluster/_kmeans.py:870: FutureWarning:\n",
            "\n",
            "The default value of `n_init` will change from 10 to 'auto' in 1.4. Set the value of `n_init` explicitly to suppress the warning\n",
            "\n",
            "/usr/local/lib/python3.10/dist-packages/sklearn/cluster/_kmeans.py:870: FutureWarning:\n",
            "\n",
            "The default value of `n_init` will change from 10 to 'auto' in 1.4. Set the value of `n_init` explicitly to suppress the warning\n",
            "\n",
            "/usr/local/lib/python3.10/dist-packages/sklearn/cluster/_kmeans.py:870: FutureWarning:\n",
            "\n",
            "The default value of `n_init` will change from 10 to 'auto' in 1.4. Set the value of `n_init` explicitly to suppress the warning\n",
            "\n",
            "/usr/local/lib/python3.10/dist-packages/sklearn/cluster/_kmeans.py:870: FutureWarning:\n",
            "\n",
            "The default value of `n_init` will change from 10 to 'auto' in 1.4. Set the value of `n_init` explicitly to suppress the warning\n",
            "\n"
          ]
        }
      ]
    },
    {
      "cell_type": "markdown",
      "source": [
        "### Defining the best number of sepal clusters"
      ],
      "metadata": {
        "id": "fkJQs4J-RWLG"
      }
    },
    {
      "cell_type": "code",
      "source": [
        "# Visualizing the WCSS values\n",
        "for i in range(len(wcss_sepal)):\n",
        "  print(f'Cluster {i+1} - Value of WCSS: {wcss_sepal[i]}')"
      ],
      "metadata": {
        "colab": {
          "base_uri": "https://localhost:8080/"
        },
        "id": "BkbgkK-dPJBf",
        "outputId": "b397cfd3-070c-40e6-9dac-d7e4b846dd32"
      },
      "execution_count": 69,
      "outputs": [
        {
          "output_type": "stream",
          "name": "stdout",
          "text": [
            "Cluster 1 - Value of WCSS: 300.0\n",
            "Cluster 2 - Value of WCSS: 168.39262198361087\n",
            "Cluster 3 - Value of WCSS: 103.78982520596082\n",
            "Cluster 4 - Value of WCSS: 79.78319156422033\n",
            "Cluster 5 - Value of WCSS: 61.70659834761937\n",
            "Cluster 6 - Value of WCSS: 52.13668525175612\n",
            "Cluster 7 - Value of WCSS: 44.82457356697236\n",
            "Cluster 8 - Value of WCSS: 36.22858628889425\n",
            "Cluster 9 - Value of WCSS: 30.56569905329544\n",
            "Cluster 10 - Value of WCSS: 26.796317715913396\n"
          ]
        }
      ]
    },
    {
      "cell_type": "code",
      "source": [
        "graphic_elbow_sepal = px.line(x=range(1,11), y=wcss_sepal)\n",
        "graphic_elbow_sepal.update_xaxes(title_text='Number of Clusters')\n",
        "graphic_elbow_sepal.update_yaxes(title_text='Value of WCSS')\n",
        "graphic_elbow_sepal.update_layout(title_text='Definition of Clusters Number', title_x=0.5)\n",
        "graphic_elbow_sepal.show()"
      ],
      "metadata": {
        "colab": {
          "base_uri": "https://localhost:8080/",
          "height": 542
        },
        "id": "RGbM2VnFPNFH",
        "outputId": "3c2ff2e1-9cd5-40f8-ad09-134b05c966d2"
      },
      "execution_count": 70,
      "outputs": [
        {
          "output_type": "display_data",
          "data": {
            "text/html": [
              "<html>\n",
              "<head><meta charset=\"utf-8\" /></head>\n",
              "<body>\n",
              "    <div>            <script src=\"https://cdnjs.cloudflare.com/ajax/libs/mathjax/2.7.5/MathJax.js?config=TeX-AMS-MML_SVG\"></script><script type=\"text/javascript\">if (window.MathJax && window.MathJax.Hub && window.MathJax.Hub.Config) {window.MathJax.Hub.Config({SVG: {font: \"STIX-Web\"}});}</script>                <script type=\"text/javascript\">window.PlotlyConfig = {MathJaxConfig: 'local'};</script>\n",
              "        <script src=\"https://cdn.plot.ly/plotly-2.18.2.min.js\"></script>                <div id=\"d1860e8b-d211-467d-83ea-b76cf90e8260\" class=\"plotly-graph-div\" style=\"height:525px; width:100%;\"></div>            <script type=\"text/javascript\">                                    window.PLOTLYENV=window.PLOTLYENV || {};                                    if (document.getElementById(\"d1860e8b-d211-467d-83ea-b76cf90e8260\")) {                    Plotly.newPlot(                        \"d1860e8b-d211-467d-83ea-b76cf90e8260\",                        [{\"hovertemplate\":\"x=%{x}<br>y=%{y}<extra></extra>\",\"legendgroup\":\"\",\"line\":{\"color\":\"#636efa\",\"dash\":\"solid\"},\"marker\":{\"symbol\":\"circle\"},\"mode\":\"lines\",\"name\":\"\",\"orientation\":\"v\",\"showlegend\":false,\"x\":[1,2,3,4,5,6,7,8,9,10],\"xaxis\":\"x\",\"y\":[300.0,168.39262198361087,103.78982520596082,79.78319156422033,61.70659834761937,52.13668525175612,44.82457356697236,36.22858628889425,30.56569905329544,26.796317715913396],\"yaxis\":\"y\",\"type\":\"scatter\"}],                        {\"template\":{\"data\":{\"histogram2dcontour\":[{\"type\":\"histogram2dcontour\",\"colorbar\":{\"outlinewidth\":0,\"ticks\":\"\"},\"colorscale\":[[0.0,\"#0d0887\"],[0.1111111111111111,\"#46039f\"],[0.2222222222222222,\"#7201a8\"],[0.3333333333333333,\"#9c179e\"],[0.4444444444444444,\"#bd3786\"],[0.5555555555555556,\"#d8576b\"],[0.6666666666666666,\"#ed7953\"],[0.7777777777777778,\"#fb9f3a\"],[0.8888888888888888,\"#fdca26\"],[1.0,\"#f0f921\"]]}],\"choropleth\":[{\"type\":\"choropleth\",\"colorbar\":{\"outlinewidth\":0,\"ticks\":\"\"}}],\"histogram2d\":[{\"type\":\"histogram2d\",\"colorbar\":{\"outlinewidth\":0,\"ticks\":\"\"},\"colorscale\":[[0.0,\"#0d0887\"],[0.1111111111111111,\"#46039f\"],[0.2222222222222222,\"#7201a8\"],[0.3333333333333333,\"#9c179e\"],[0.4444444444444444,\"#bd3786\"],[0.5555555555555556,\"#d8576b\"],[0.6666666666666666,\"#ed7953\"],[0.7777777777777778,\"#fb9f3a\"],[0.8888888888888888,\"#fdca26\"],[1.0,\"#f0f921\"]]}],\"heatmap\":[{\"type\":\"heatmap\",\"colorbar\":{\"outlinewidth\":0,\"ticks\":\"\"},\"colorscale\":[[0.0,\"#0d0887\"],[0.1111111111111111,\"#46039f\"],[0.2222222222222222,\"#7201a8\"],[0.3333333333333333,\"#9c179e\"],[0.4444444444444444,\"#bd3786\"],[0.5555555555555556,\"#d8576b\"],[0.6666666666666666,\"#ed7953\"],[0.7777777777777778,\"#fb9f3a\"],[0.8888888888888888,\"#fdca26\"],[1.0,\"#f0f921\"]]}],\"heatmapgl\":[{\"type\":\"heatmapgl\",\"colorbar\":{\"outlinewidth\":0,\"ticks\":\"\"},\"colorscale\":[[0.0,\"#0d0887\"],[0.1111111111111111,\"#46039f\"],[0.2222222222222222,\"#7201a8\"],[0.3333333333333333,\"#9c179e\"],[0.4444444444444444,\"#bd3786\"],[0.5555555555555556,\"#d8576b\"],[0.6666666666666666,\"#ed7953\"],[0.7777777777777778,\"#fb9f3a\"],[0.8888888888888888,\"#fdca26\"],[1.0,\"#f0f921\"]]}],\"contourcarpet\":[{\"type\":\"contourcarpet\",\"colorbar\":{\"outlinewidth\":0,\"ticks\":\"\"}}],\"contour\":[{\"type\":\"contour\",\"colorbar\":{\"outlinewidth\":0,\"ticks\":\"\"},\"colorscale\":[[0.0,\"#0d0887\"],[0.1111111111111111,\"#46039f\"],[0.2222222222222222,\"#7201a8\"],[0.3333333333333333,\"#9c179e\"],[0.4444444444444444,\"#bd3786\"],[0.5555555555555556,\"#d8576b\"],[0.6666666666666666,\"#ed7953\"],[0.7777777777777778,\"#fb9f3a\"],[0.8888888888888888,\"#fdca26\"],[1.0,\"#f0f921\"]]}],\"surface\":[{\"type\":\"surface\",\"colorbar\":{\"outlinewidth\":0,\"ticks\":\"\"},\"colorscale\":[[0.0,\"#0d0887\"],[0.1111111111111111,\"#46039f\"],[0.2222222222222222,\"#7201a8\"],[0.3333333333333333,\"#9c179e\"],[0.4444444444444444,\"#bd3786\"],[0.5555555555555556,\"#d8576b\"],[0.6666666666666666,\"#ed7953\"],[0.7777777777777778,\"#fb9f3a\"],[0.8888888888888888,\"#fdca26\"],[1.0,\"#f0f921\"]]}],\"mesh3d\":[{\"type\":\"mesh3d\",\"colorbar\":{\"outlinewidth\":0,\"ticks\":\"\"}}],\"scatter\":[{\"fillpattern\":{\"fillmode\":\"overlay\",\"size\":10,\"solidity\":0.2},\"type\":\"scatter\"}],\"parcoords\":[{\"type\":\"parcoords\",\"line\":{\"colorbar\":{\"outlinewidth\":0,\"ticks\":\"\"}}}],\"scatterpolargl\":[{\"type\":\"scatterpolargl\",\"marker\":{\"colorbar\":{\"outlinewidth\":0,\"ticks\":\"\"}}}],\"bar\":[{\"error_x\":{\"color\":\"#2a3f5f\"},\"error_y\":{\"color\":\"#2a3f5f\"},\"marker\":{\"line\":{\"color\":\"#E5ECF6\",\"width\":0.5},\"pattern\":{\"fillmode\":\"overlay\",\"size\":10,\"solidity\":0.2}},\"type\":\"bar\"}],\"scattergeo\":[{\"type\":\"scattergeo\",\"marker\":{\"colorbar\":{\"outlinewidth\":0,\"ticks\":\"\"}}}],\"scatterpolar\":[{\"type\":\"scatterpolar\",\"marker\":{\"colorbar\":{\"outlinewidth\":0,\"ticks\":\"\"}}}],\"histogram\":[{\"marker\":{\"pattern\":{\"fillmode\":\"overlay\",\"size\":10,\"solidity\":0.2}},\"type\":\"histogram\"}],\"scattergl\":[{\"type\":\"scattergl\",\"marker\":{\"colorbar\":{\"outlinewidth\":0,\"ticks\":\"\"}}}],\"scatter3d\":[{\"type\":\"scatter3d\",\"line\":{\"colorbar\":{\"outlinewidth\":0,\"ticks\":\"\"}},\"marker\":{\"colorbar\":{\"outlinewidth\":0,\"ticks\":\"\"}}}],\"scattermapbox\":[{\"type\":\"scattermapbox\",\"marker\":{\"colorbar\":{\"outlinewidth\":0,\"ticks\":\"\"}}}],\"scatterternary\":[{\"type\":\"scatterternary\",\"marker\":{\"colorbar\":{\"outlinewidth\":0,\"ticks\":\"\"}}}],\"scattercarpet\":[{\"type\":\"scattercarpet\",\"marker\":{\"colorbar\":{\"outlinewidth\":0,\"ticks\":\"\"}}}],\"carpet\":[{\"aaxis\":{\"endlinecolor\":\"#2a3f5f\",\"gridcolor\":\"white\",\"linecolor\":\"white\",\"minorgridcolor\":\"white\",\"startlinecolor\":\"#2a3f5f\"},\"baxis\":{\"endlinecolor\":\"#2a3f5f\",\"gridcolor\":\"white\",\"linecolor\":\"white\",\"minorgridcolor\":\"white\",\"startlinecolor\":\"#2a3f5f\"},\"type\":\"carpet\"}],\"table\":[{\"cells\":{\"fill\":{\"color\":\"#EBF0F8\"},\"line\":{\"color\":\"white\"}},\"header\":{\"fill\":{\"color\":\"#C8D4E3\"},\"line\":{\"color\":\"white\"}},\"type\":\"table\"}],\"barpolar\":[{\"marker\":{\"line\":{\"color\":\"#E5ECF6\",\"width\":0.5},\"pattern\":{\"fillmode\":\"overlay\",\"size\":10,\"solidity\":0.2}},\"type\":\"barpolar\"}],\"pie\":[{\"automargin\":true,\"type\":\"pie\"}]},\"layout\":{\"autotypenumbers\":\"strict\",\"colorway\":[\"#636efa\",\"#EF553B\",\"#00cc96\",\"#ab63fa\",\"#FFA15A\",\"#19d3f3\",\"#FF6692\",\"#B6E880\",\"#FF97FF\",\"#FECB52\"],\"font\":{\"color\":\"#2a3f5f\"},\"hovermode\":\"closest\",\"hoverlabel\":{\"align\":\"left\"},\"paper_bgcolor\":\"white\",\"plot_bgcolor\":\"#E5ECF6\",\"polar\":{\"bgcolor\":\"#E5ECF6\",\"angularaxis\":{\"gridcolor\":\"white\",\"linecolor\":\"white\",\"ticks\":\"\"},\"radialaxis\":{\"gridcolor\":\"white\",\"linecolor\":\"white\",\"ticks\":\"\"}},\"ternary\":{\"bgcolor\":\"#E5ECF6\",\"aaxis\":{\"gridcolor\":\"white\",\"linecolor\":\"white\",\"ticks\":\"\"},\"baxis\":{\"gridcolor\":\"white\",\"linecolor\":\"white\",\"ticks\":\"\"},\"caxis\":{\"gridcolor\":\"white\",\"linecolor\":\"white\",\"ticks\":\"\"}},\"coloraxis\":{\"colorbar\":{\"outlinewidth\":0,\"ticks\":\"\"}},\"colorscale\":{\"sequential\":[[0.0,\"#0d0887\"],[0.1111111111111111,\"#46039f\"],[0.2222222222222222,\"#7201a8\"],[0.3333333333333333,\"#9c179e\"],[0.4444444444444444,\"#bd3786\"],[0.5555555555555556,\"#d8576b\"],[0.6666666666666666,\"#ed7953\"],[0.7777777777777778,\"#fb9f3a\"],[0.8888888888888888,\"#fdca26\"],[1.0,\"#f0f921\"]],\"sequentialminus\":[[0.0,\"#0d0887\"],[0.1111111111111111,\"#46039f\"],[0.2222222222222222,\"#7201a8\"],[0.3333333333333333,\"#9c179e\"],[0.4444444444444444,\"#bd3786\"],[0.5555555555555556,\"#d8576b\"],[0.6666666666666666,\"#ed7953\"],[0.7777777777777778,\"#fb9f3a\"],[0.8888888888888888,\"#fdca26\"],[1.0,\"#f0f921\"]],\"diverging\":[[0,\"#8e0152\"],[0.1,\"#c51b7d\"],[0.2,\"#de77ae\"],[0.3,\"#f1b6da\"],[0.4,\"#fde0ef\"],[0.5,\"#f7f7f7\"],[0.6,\"#e6f5d0\"],[0.7,\"#b8e186\"],[0.8,\"#7fbc41\"],[0.9,\"#4d9221\"],[1,\"#276419\"]]},\"xaxis\":{\"gridcolor\":\"white\",\"linecolor\":\"white\",\"ticks\":\"\",\"title\":{\"standoff\":15},\"zerolinecolor\":\"white\",\"automargin\":true,\"zerolinewidth\":2},\"yaxis\":{\"gridcolor\":\"white\",\"linecolor\":\"white\",\"ticks\":\"\",\"title\":{\"standoff\":15},\"zerolinecolor\":\"white\",\"automargin\":true,\"zerolinewidth\":2},\"scene\":{\"xaxis\":{\"backgroundcolor\":\"#E5ECF6\",\"gridcolor\":\"white\",\"linecolor\":\"white\",\"showbackground\":true,\"ticks\":\"\",\"zerolinecolor\":\"white\",\"gridwidth\":2},\"yaxis\":{\"backgroundcolor\":\"#E5ECF6\",\"gridcolor\":\"white\",\"linecolor\":\"white\",\"showbackground\":true,\"ticks\":\"\",\"zerolinecolor\":\"white\",\"gridwidth\":2},\"zaxis\":{\"backgroundcolor\":\"#E5ECF6\",\"gridcolor\":\"white\",\"linecolor\":\"white\",\"showbackground\":true,\"ticks\":\"\",\"zerolinecolor\":\"white\",\"gridwidth\":2}},\"shapedefaults\":{\"line\":{\"color\":\"#2a3f5f\"}},\"annotationdefaults\":{\"arrowcolor\":\"#2a3f5f\",\"arrowhead\":0,\"arrowwidth\":1},\"geo\":{\"bgcolor\":\"white\",\"landcolor\":\"#E5ECF6\",\"subunitcolor\":\"white\",\"showland\":true,\"showlakes\":true,\"lakecolor\":\"white\"},\"title\":{\"x\":0.05},\"mapbox\":{\"style\":\"light\"}}},\"xaxis\":{\"anchor\":\"y\",\"domain\":[0.0,1.0],\"title\":{\"text\":\"Number of Clusters\"}},\"yaxis\":{\"anchor\":\"x\",\"domain\":[0.0,1.0],\"title\":{\"text\":\"Value of WCSS\"}},\"legend\":{\"tracegroupgap\":0},\"margin\":{\"t\":60},\"title\":{\"text\":\"Definition of Clusters Number\",\"x\":0.5}},                        {\"responsive\": true}                    ).then(function(){\n",
              "                            \n",
              "var gd = document.getElementById('d1860e8b-d211-467d-83ea-b76cf90e8260');\n",
              "var x = new MutationObserver(function (mutations, observer) {{\n",
              "        var display = window.getComputedStyle(gd).display;\n",
              "        if (!display || display === 'none') {{\n",
              "            console.log([gd, 'removed!']);\n",
              "            Plotly.purge(gd);\n",
              "            observer.disconnect();\n",
              "        }}\n",
              "}});\n",
              "\n",
              "// Listen for the removal of the full notebook cells\n",
              "var notebookContainer = gd.closest('#notebook-container');\n",
              "if (notebookContainer) {{\n",
              "    x.observe(notebookContainer, {childList: true});\n",
              "}}\n",
              "\n",
              "// Listen for the clearing of the current output cell\n",
              "var outputEl = gd.closest('.output');\n",
              "if (outputEl) {{\n",
              "    x.observe(outputEl, {childList: true});\n",
              "}}\n",
              "\n",
              "                        })                };                            </script>        </div>\n",
              "</body>\n",
              "</html>"
            ]
          },
          "metadata": {}
        }
      ]
    },
    {
      "cell_type": "markdown",
      "source": [
        "## Executing the algoritm K-means to the sepals\n",
        "\n"
      ],
      "metadata": {
        "id": "X_u3LXxoQjR4"
      }
    },
    {
      "cell_type": "code",
      "source": [
        "kmeans_sepal = KMeans(n_clusters=3, random_state=0)\n",
        "label_cluster_sepal = kmeans_sepal.fit_predict(X_sepal)"
      ],
      "metadata": {
        "colab": {
          "base_uri": "https://localhost:8080/"
        },
        "id": "GasRgIdGQpqB",
        "outputId": "07372499-4136-49f9-d00a-3bf0e89fe326"
      },
      "execution_count": 71,
      "outputs": [
        {
          "output_type": "stream",
          "name": "stderr",
          "text": [
            "/usr/local/lib/python3.10/dist-packages/sklearn/cluster/_kmeans.py:870: FutureWarning:\n",
            "\n",
            "The default value of `n_init` will change from 10 to 'auto' in 1.4. Set the value of `n_init` explicitly to suppress the warning\n",
            "\n"
          ]
        }
      ]
    },
    {
      "cell_type": "code",
      "source": [
        "label_cluster_sepal"
      ],
      "metadata": {
        "colab": {
          "base_uri": "https://localhost:8080/"
        },
        "id": "TNr04Y2-RIWh",
        "outputId": "2d0a03d1-249c-4b7f-d367-9b000b33be00"
      },
      "execution_count": 73,
      "outputs": [
        {
          "output_type": "execute_result",
          "data": {
            "text/plain": [
              "array([1, 1, 1, 1, 1, 1, 1, 1, 1, 1, 1, 1, 1, 1, 1, 1, 1, 1, 1, 1, 1, 1,\n",
              "       1, 1, 1, 1, 1, 1, 1, 1, 1, 1, 1, 1, 1, 1, 1, 1, 1, 1, 1, 0, 1, 1,\n",
              "       1, 1, 1, 1, 1, 1, 2, 2, 2, 0, 2, 0, 2, 0, 2, 0, 0, 0, 0, 0, 0, 2,\n",
              "       0, 0, 0, 0, 2, 0, 0, 0, 2, 2, 2, 2, 0, 0, 0, 0, 0, 0, 0, 1, 2, 0,\n",
              "       0, 0, 0, 0, 0, 0, 0, 0, 0, 0, 0, 0, 2, 0, 2, 0, 2, 2, 0, 2, 0, 2,\n",
              "       2, 0, 2, 0, 0, 2, 2, 2, 2, 0, 2, 0, 2, 0, 2, 2, 0, 0, 0, 2, 2, 2,\n",
              "       0, 0, 0, 2, 2, 2, 0, 2, 2, 2, 0, 2, 2, 2, 0, 2, 2, 0], dtype=int32)"
            ]
          },
          "metadata": {},
          "execution_count": 73
        }
      ]
    },
    {
      "cell_type": "code",
      "source": [
        "kmeans_sepal"
      ],
      "metadata": {
        "colab": {
          "base_uri": "https://localhost:8080/",
          "height": 74
        },
        "id": "Zkzw10HZROkW",
        "outputId": "b6ccb80c-1424-4cb9-d279-672d01fe5c21"
      },
      "execution_count": 65,
      "outputs": [
        {
          "output_type": "execute_result",
          "data": {
            "text/plain": [
              "KMeans(n_clusters=3, random_state=0)"
            ],
            "text/html": [
              "<style>#sk-container-id-1 {color: black;background-color: white;}#sk-container-id-1 pre{padding: 0;}#sk-container-id-1 div.sk-toggleable {background-color: white;}#sk-container-id-1 label.sk-toggleable__label {cursor: pointer;display: block;width: 100%;margin-bottom: 0;padding: 0.3em;box-sizing: border-box;text-align: center;}#sk-container-id-1 label.sk-toggleable__label-arrow:before {content: \"▸\";float: left;margin-right: 0.25em;color: #696969;}#sk-container-id-1 label.sk-toggleable__label-arrow:hover:before {color: black;}#sk-container-id-1 div.sk-estimator:hover label.sk-toggleable__label-arrow:before {color: black;}#sk-container-id-1 div.sk-toggleable__content {max-height: 0;max-width: 0;overflow: hidden;text-align: left;background-color: #f0f8ff;}#sk-container-id-1 div.sk-toggleable__content pre {margin: 0.2em;color: black;border-radius: 0.25em;background-color: #f0f8ff;}#sk-container-id-1 input.sk-toggleable__control:checked~div.sk-toggleable__content {max-height: 200px;max-width: 100%;overflow: auto;}#sk-container-id-1 input.sk-toggleable__control:checked~label.sk-toggleable__label-arrow:before {content: \"▾\";}#sk-container-id-1 div.sk-estimator input.sk-toggleable__control:checked~label.sk-toggleable__label {background-color: #d4ebff;}#sk-container-id-1 div.sk-label input.sk-toggleable__control:checked~label.sk-toggleable__label {background-color: #d4ebff;}#sk-container-id-1 input.sk-hidden--visually {border: 0;clip: rect(1px 1px 1px 1px);clip: rect(1px, 1px, 1px, 1px);height: 1px;margin: -1px;overflow: hidden;padding: 0;position: absolute;width: 1px;}#sk-container-id-1 div.sk-estimator {font-family: monospace;background-color: #f0f8ff;border: 1px dotted black;border-radius: 0.25em;box-sizing: border-box;margin-bottom: 0.5em;}#sk-container-id-1 div.sk-estimator:hover {background-color: #d4ebff;}#sk-container-id-1 div.sk-parallel-item::after {content: \"\";width: 100%;border-bottom: 1px solid gray;flex-grow: 1;}#sk-container-id-1 div.sk-label:hover label.sk-toggleable__label {background-color: #d4ebff;}#sk-container-id-1 div.sk-serial::before {content: \"\";position: absolute;border-left: 1px solid gray;box-sizing: border-box;top: 0;bottom: 0;left: 50%;z-index: 0;}#sk-container-id-1 div.sk-serial {display: flex;flex-direction: column;align-items: center;background-color: white;padding-right: 0.2em;padding-left: 0.2em;position: relative;}#sk-container-id-1 div.sk-item {position: relative;z-index: 1;}#sk-container-id-1 div.sk-parallel {display: flex;align-items: stretch;justify-content: center;background-color: white;position: relative;}#sk-container-id-1 div.sk-item::before, #sk-container-id-1 div.sk-parallel-item::before {content: \"\";position: absolute;border-left: 1px solid gray;box-sizing: border-box;top: 0;bottom: 0;left: 50%;z-index: -1;}#sk-container-id-1 div.sk-parallel-item {display: flex;flex-direction: column;z-index: 1;position: relative;background-color: white;}#sk-container-id-1 div.sk-parallel-item:first-child::after {align-self: flex-end;width: 50%;}#sk-container-id-1 div.sk-parallel-item:last-child::after {align-self: flex-start;width: 50%;}#sk-container-id-1 div.sk-parallel-item:only-child::after {width: 0;}#sk-container-id-1 div.sk-dashed-wrapped {border: 1px dashed gray;margin: 0 0.4em 0.5em 0.4em;box-sizing: border-box;padding-bottom: 0.4em;background-color: white;}#sk-container-id-1 div.sk-label label {font-family: monospace;font-weight: bold;display: inline-block;line-height: 1.2em;}#sk-container-id-1 div.sk-label-container {text-align: center;}#sk-container-id-1 div.sk-container {/* jupyter's `normalize.less` sets `[hidden] { display: none; }` but bootstrap.min.css set `[hidden] { display: none !important; }` so we also need the `!important` here to be able to override the default hidden behavior on the sphinx rendered scikit-learn.org. See: https://github.com/scikit-learn/scikit-learn/issues/21755 */display: inline-block !important;position: relative;}#sk-container-id-1 div.sk-text-repr-fallback {display: none;}</style><div id=\"sk-container-id-1\" class=\"sk-top-container\"><div class=\"sk-text-repr-fallback\"><pre>KMeans(n_clusters=3, random_state=0)</pre><b>In a Jupyter environment, please rerun this cell to show the HTML representation or trust the notebook. <br />On GitHub, the HTML representation is unable to render, please try loading this page with nbviewer.org.</b></div><div class=\"sk-container\" hidden><div class=\"sk-item\"><div class=\"sk-estimator sk-toggleable\"><input class=\"sk-toggleable__control sk-hidden--visually\" id=\"sk-estimator-id-1\" type=\"checkbox\" checked><label for=\"sk-estimator-id-1\" class=\"sk-toggleable__label sk-toggleable__label-arrow\">KMeans</label><div class=\"sk-toggleable__content\"><pre>KMeans(n_clusters=3, random_state=0)</pre></div></div></div></div></div>"
            ]
          },
          "metadata": {},
          "execution_count": 65
        }
      ]
    },
    {
      "cell_type": "markdown",
      "source": [
        "### Viewing grouped data with sepals data"
      ],
      "metadata": {
        "id": "sqa72BiRSxB3"
      }
    },
    {
      "cell_type": "code",
      "source": [
        "centroids_sepal = kmeans_sepal.cluster_centers_\n",
        "centroids_sepal"
      ],
      "metadata": {
        "colab": {
          "base_uri": "https://localhost:8080/"
        },
        "id": "z6V2ZwpATZwN",
        "outputId": "955bc94d-e228-4a13-c323-72825a13458c"
      },
      "execution_count": 74,
      "outputs": [
        {
          "output_type": "execute_result",
          "data": {
            "text/plain": [
              "array([[-0.04825457, -0.89224112],\n",
              "       [-0.97822861,  0.89321545],\n",
              "       [ 1.20144049,  0.14411561]])"
            ]
          },
          "metadata": {},
          "execution_count": 74
        }
      ]
    },
    {
      "cell_type": "markdown",
      "source": [
        "### Viewing grouped data with sepals data"
      ],
      "metadata": {
        "id": "-gqhg_geTvZb"
      }
    },
    {
      "cell_type": "code",
      "source": [
        "graphic_sepal = px.scatter(x = X_sepal[:,0], y=X_sepal[:,1], color = label_cluster_sepal)\n",
        "graphic_centroid_sepal = px.scatter(x = centroids_sepal[:,0], y=centroids_sepal[:,1], size=[7,7,7])\n",
        "graphic_final = go.Figure(data=graphic_sepal.data + graphic_centroid_sepal.data)\n",
        "graphic_final.update_xaxes(title_text='Length')\n",
        "graphic_final.update_yaxes(title_text='Width')\n",
        "graphic_final.update_layout(title_text='Clusters', title_x=0.5)\n",
        "graphic_final.show()"
      ],
      "metadata": {
        "colab": {
          "base_uri": "https://localhost:8080/",
          "height": 542
        },
        "id": "5nWGnhjNTzsl",
        "outputId": "9e4f60d8-a3d7-47ee-bcb8-37ac4a0ae871"
      },
      "execution_count": 78,
      "outputs": [
        {
          "output_type": "display_data",
          "data": {
            "text/html": [
              "<html>\n",
              "<head><meta charset=\"utf-8\" /></head>\n",
              "<body>\n",
              "    <div>            <script src=\"https://cdnjs.cloudflare.com/ajax/libs/mathjax/2.7.5/MathJax.js?config=TeX-AMS-MML_SVG\"></script><script type=\"text/javascript\">if (window.MathJax && window.MathJax.Hub && window.MathJax.Hub.Config) {window.MathJax.Hub.Config({SVG: {font: \"STIX-Web\"}});}</script>                <script type=\"text/javascript\">window.PlotlyConfig = {MathJaxConfig: 'local'};</script>\n",
              "        <script src=\"https://cdn.plot.ly/plotly-2.18.2.min.js\"></script>                <div id=\"def5d956-c905-4c98-b90e-e0982b97afbe\" class=\"plotly-graph-div\" style=\"height:525px; width:100%;\"></div>            <script type=\"text/javascript\">                                    window.PLOTLYENV=window.PLOTLYENV || {};                                    if (document.getElementById(\"def5d956-c905-4c98-b90e-e0982b97afbe\")) {                    Plotly.newPlot(                        \"def5d956-c905-4c98-b90e-e0982b97afbe\",                        [{\"hovertemplate\":\"x=%{x}<br>y=%{y}<br>color=%{marker.color}<extra></extra>\",\"legendgroup\":\"\",\"marker\":{\"color\":[1,1,1,1,1,1,1,1,1,1,1,1,1,1,1,1,1,1,1,1,1,1,1,1,1,1,1,1,1,1,1,1,1,1,1,1,1,1,1,1,1,0,1,1,1,1,1,1,1,1,2,2,2,0,2,0,2,0,2,0,0,0,0,0,0,2,0,0,0,0,2,0,0,0,2,2,2,2,0,0,0,0,0,0,0,1,2,0,0,0,0,0,0,0,0,0,0,0,0,0,2,0,2,0,2,2,0,2,0,2,2,0,2,0,0,2,2,2,2,0,2,0,2,0,2,2,0,0,0,2,2,2,0,0,0,2,2,2,0,2,2,2,0,2,2,2,0,2,2,0],\"coloraxis\":\"coloraxis\",\"symbol\":\"circle\"},\"mode\":\"markers\",\"name\":\"\",\"orientation\":\"v\",\"showlegend\":false,\"x\":[-0.9006811702978088,-1.1430169111851105,-1.3853526520724133,-1.5065205225160652,-1.0218490407414595,-0.537177558966854,-1.5065205225160652,-1.0218490407414595,-1.7488562634033669,-1.1430169111851105,-0.537177558966854,-1.2641847816287624,-1.2641847816287624,-1.870024133847019,-0.05250607719224957,-0.1736739476359004,-0.537177558966854,-0.9006811702978088,-0.1736739476359004,-0.9006811702978088,-0.537177558966854,-0.9006811702978088,-1.5065205225160652,-0.9006811702978088,-1.2641847816287624,-1.0218490407414595,-1.0218490407414595,-0.7795132998541568,-0.7795132998541568,-1.3853526520724133,-1.2641847816287624,-0.537177558966854,-0.7795132998541568,-0.4160096885232032,-1.1430169111851105,-1.0218490407414595,-0.4160096885232032,-1.1430169111851105,-1.7488562634033669,-0.9006811702978088,-1.0218490407414595,-1.6276883929597161,-1.7488562634033669,-1.0218490407414595,-0.9006811702978088,-1.2641847816287624,-0.9006811702978088,-1.5065205225160652,-0.658345429410506,-1.0218490407414595,1.401508368131566,0.6745011454696588,1.2803404976879151,-0.4160096885232032,0.7956690159133096,-0.1736739476359004,0.5533332750260068,-1.1430169111851105,0.9168368863569605,-0.7795132998541568,-1.0218490407414595,0.06866179325140237,0.18982966369505322,0.31099753413870407,-0.29484181807955234,1.0380047568006125,-0.29484181807955234,-0.05250607719224957,0.432165404582356,-0.29484181807955234,0.06866179325140237,0.31099753413870407,0.5533332750260068,0.31099753413870407,0.6745011454696588,0.9168368863569605,1.1591726272442633,1.0380047568006125,0.18982966369505322,-0.1736739476359004,-0.4160096885232032,-0.4160096885232032,-0.05250607719224957,0.18982966369505322,-0.537177558966854,0.18982966369505322,1.0380047568006125,0.5533332750260068,-0.29484181807955234,-0.4160096885232032,-0.4160096885232032,0.31099753413870407,-0.05250607719224957,-1.0218490407414595,-0.29484181807955234,-0.1736739476359004,-0.1736739476359004,0.432165404582356,-0.9006811702978088,-0.1736739476359004,0.5533332750260068,-0.05250607719224957,1.522676238575217,0.5533332750260068,0.7956690159133096,2.1285155907934734,-1.1430169111851105,1.7650119794625196,1.0380047568006125,1.643844109018869,0.7956690159133096,0.6745011454696588,1.1591726272442633,-0.1736739476359004,-0.05250607719224957,0.6745011454696588,0.7956690159133096,2.2496834612371255,2.2496834612371255,0.18982966369505322,1.2803404976879151,-0.29484181807955234,2.2496834612371255,0.5533332750260068,1.0380047568006125,1.643844109018869,0.432165404582356,0.31099753413870407,0.6745011454696588,1.643844109018869,1.8861798499061717,2.4920192021244283,0.6745011454696588,0.5533332750260068,0.31099753413870407,2.2496834612371255,0.5533332750260068,0.6745011454696588,0.18982966369505322,1.2803404976879151,1.0380047568006125,1.2803404976879151,-0.05250607719224957,1.1591726272442633,1.0380047568006125,1.0380047568006125,0.5533332750260068,0.7956690159133096,0.432165404582356,0.06866179325140237],\"xaxis\":\"x\",\"y\":[1.0320572244889565,-0.12495760117130933,0.3378483290927974,0.10644536396074403,1.2634601896210098,1.957669085017169,0.8006542593569032,0.8006542593569032,-0.3563605663033627,0.10644536396074403,1.494863154753063,0.8006542593569032,-0.12495760117130933,-0.12495760117130933,2.1890720501492225,3.1146839106774356,1.957669085017169,1.0320572244889565,1.7262661198851155,1.7262661198851155,0.8006542593569032,1.494863154753063,1.2634601896210098,0.5692512942248498,0.8006542593569032,-0.12495760117130933,0.8006542593569032,1.0320572244889565,0.8006542593569032,0.3378483290927974,0.10644536396074403,0.8006542593569032,2.4204750152812746,2.651877980413329,0.10644536396074403,0.3378483290927974,1.0320572244889565,0.10644536396074403,-0.12495760117130933,0.8006542593569032,1.0320572244889565,-1.7447783570956819,0.3378483290927974,1.0320572244889565,1.7262661198851155,-0.12495760117130933,1.7262661198851155,0.3378483290927974,1.494863154753063,0.5692512942248498,0.3378483290927974,0.3378483290927974,0.10644536396074403,-1.7447783570956819,-0.587763531435416,-0.587763531435416,0.5692512942248498,-1.5133753919636286,-0.3563605663033627,-0.8191664965674684,-2.438987252491841,-0.12495760117130933,-1.9761813222277342,-0.3563605663033627,-0.3563605663033627,0.10644536396074403,-0.12495760117130933,-0.8191664965674684,-1.9761813222277342,-1.281972426831575,0.3378483290927974,-0.587763531435416,-1.281972426831575,-0.587763531435416,-0.3563605663033627,-0.12495760117130933,-0.587763531435416,-0.12495760117130933,-0.3563605663033627,-1.0505694616995218,-1.5133753919636286,-1.5133753919636286,-0.8191664965674684,-0.8191664965674684,-0.12495760117130933,0.8006542593569032,0.10644536396074403,-1.7447783570956819,-0.12495760117130933,-1.281972426831575,-1.0505694616995218,-0.12495760117130933,-1.0505694616995218,-1.7447783570956819,-0.8191664965674684,-0.12495760117130933,-0.3563605663033627,-0.3563605663033627,-1.281972426831575,-0.587763531435416,0.5692512942248498,-0.8191664965674684,-0.12495760117130933,-0.3563605663033627,-0.12495760117130933,-0.12495760117130933,-1.281972426831575,-0.3563605663033627,-1.281972426831575,1.2634601896210098,0.3378483290927974,-0.8191664965674684,-0.12495760117130933,-1.281972426831575,-0.587763531435416,0.3378483290927974,-0.12495760117130933,1.7262661198851155,-1.0505694616995218,-1.9761813222277342,0.3378483290927974,-0.587763531435416,-0.587763531435416,-0.8191664965674684,0.5692512942248498,0.3378483290927974,-0.587763531435416,-0.12495760117130933,-0.587763531435416,-0.12495760117130933,-0.587763531435416,1.7262661198851155,-0.587763531435416,-0.587763531435416,-1.0505694616995218,-0.12495760117130933,0.8006542593569032,0.10644536396074403,-0.12495760117130933,0.10644536396074403,0.10644536396074403,0.10644536396074403,-0.8191664965674684,0.3378483290927974,0.5692512942248498,-0.12495760117130933,-1.281972426831575,-0.12495760117130933,0.8006542593569032,-0.12495760117130933],\"yaxis\":\"y\",\"type\":\"scatter\"},{\"hovertemplate\":\"x=%{x}<br>y=%{y}<br>size=%{marker.size}<extra></extra>\",\"legendgroup\":\"\",\"marker\":{\"color\":\"#636efa\",\"size\":[7,7,7],\"sizemode\":\"area\",\"sizeref\":0.0175,\"symbol\":\"circle\"},\"mode\":\"markers\",\"name\":\"\",\"orientation\":\"v\",\"showlegend\":false,\"x\":[-0.04825457296615645,-0.978228607381745,1.201440489026933],\"xaxis\":\"x\",\"y\":[-0.8922411171354857,0.8932154454097249,0.14411561409851986],\"yaxis\":\"y\",\"type\":\"scatter\"}],                        {\"template\":{\"data\":{\"histogram2dcontour\":[{\"type\":\"histogram2dcontour\",\"colorbar\":{\"outlinewidth\":0,\"ticks\":\"\"},\"colorscale\":[[0.0,\"#0d0887\"],[0.1111111111111111,\"#46039f\"],[0.2222222222222222,\"#7201a8\"],[0.3333333333333333,\"#9c179e\"],[0.4444444444444444,\"#bd3786\"],[0.5555555555555556,\"#d8576b\"],[0.6666666666666666,\"#ed7953\"],[0.7777777777777778,\"#fb9f3a\"],[0.8888888888888888,\"#fdca26\"],[1.0,\"#f0f921\"]]}],\"choropleth\":[{\"type\":\"choropleth\",\"colorbar\":{\"outlinewidth\":0,\"ticks\":\"\"}}],\"histogram2d\":[{\"type\":\"histogram2d\",\"colorbar\":{\"outlinewidth\":0,\"ticks\":\"\"},\"colorscale\":[[0.0,\"#0d0887\"],[0.1111111111111111,\"#46039f\"],[0.2222222222222222,\"#7201a8\"],[0.3333333333333333,\"#9c179e\"],[0.4444444444444444,\"#bd3786\"],[0.5555555555555556,\"#d8576b\"],[0.6666666666666666,\"#ed7953\"],[0.7777777777777778,\"#fb9f3a\"],[0.8888888888888888,\"#fdca26\"],[1.0,\"#f0f921\"]]}],\"heatmap\":[{\"type\":\"heatmap\",\"colorbar\":{\"outlinewidth\":0,\"ticks\":\"\"},\"colorscale\":[[0.0,\"#0d0887\"],[0.1111111111111111,\"#46039f\"],[0.2222222222222222,\"#7201a8\"],[0.3333333333333333,\"#9c179e\"],[0.4444444444444444,\"#bd3786\"],[0.5555555555555556,\"#d8576b\"],[0.6666666666666666,\"#ed7953\"],[0.7777777777777778,\"#fb9f3a\"],[0.8888888888888888,\"#fdca26\"],[1.0,\"#f0f921\"]]}],\"heatmapgl\":[{\"type\":\"heatmapgl\",\"colorbar\":{\"outlinewidth\":0,\"ticks\":\"\"},\"colorscale\":[[0.0,\"#0d0887\"],[0.1111111111111111,\"#46039f\"],[0.2222222222222222,\"#7201a8\"],[0.3333333333333333,\"#9c179e\"],[0.4444444444444444,\"#bd3786\"],[0.5555555555555556,\"#d8576b\"],[0.6666666666666666,\"#ed7953\"],[0.7777777777777778,\"#fb9f3a\"],[0.8888888888888888,\"#fdca26\"],[1.0,\"#f0f921\"]]}],\"contourcarpet\":[{\"type\":\"contourcarpet\",\"colorbar\":{\"outlinewidth\":0,\"ticks\":\"\"}}],\"contour\":[{\"type\":\"contour\",\"colorbar\":{\"outlinewidth\":0,\"ticks\":\"\"},\"colorscale\":[[0.0,\"#0d0887\"],[0.1111111111111111,\"#46039f\"],[0.2222222222222222,\"#7201a8\"],[0.3333333333333333,\"#9c179e\"],[0.4444444444444444,\"#bd3786\"],[0.5555555555555556,\"#d8576b\"],[0.6666666666666666,\"#ed7953\"],[0.7777777777777778,\"#fb9f3a\"],[0.8888888888888888,\"#fdca26\"],[1.0,\"#f0f921\"]]}],\"surface\":[{\"type\":\"surface\",\"colorbar\":{\"outlinewidth\":0,\"ticks\":\"\"},\"colorscale\":[[0.0,\"#0d0887\"],[0.1111111111111111,\"#46039f\"],[0.2222222222222222,\"#7201a8\"],[0.3333333333333333,\"#9c179e\"],[0.4444444444444444,\"#bd3786\"],[0.5555555555555556,\"#d8576b\"],[0.6666666666666666,\"#ed7953\"],[0.7777777777777778,\"#fb9f3a\"],[0.8888888888888888,\"#fdca26\"],[1.0,\"#f0f921\"]]}],\"mesh3d\":[{\"type\":\"mesh3d\",\"colorbar\":{\"outlinewidth\":0,\"ticks\":\"\"}}],\"scatter\":[{\"fillpattern\":{\"fillmode\":\"overlay\",\"size\":10,\"solidity\":0.2},\"type\":\"scatter\"}],\"parcoords\":[{\"type\":\"parcoords\",\"line\":{\"colorbar\":{\"outlinewidth\":0,\"ticks\":\"\"}}}],\"scatterpolargl\":[{\"type\":\"scatterpolargl\",\"marker\":{\"colorbar\":{\"outlinewidth\":0,\"ticks\":\"\"}}}],\"bar\":[{\"error_x\":{\"color\":\"#2a3f5f\"},\"error_y\":{\"color\":\"#2a3f5f\"},\"marker\":{\"line\":{\"color\":\"#E5ECF6\",\"width\":0.5},\"pattern\":{\"fillmode\":\"overlay\",\"size\":10,\"solidity\":0.2}},\"type\":\"bar\"}],\"scattergeo\":[{\"type\":\"scattergeo\",\"marker\":{\"colorbar\":{\"outlinewidth\":0,\"ticks\":\"\"}}}],\"scatterpolar\":[{\"type\":\"scatterpolar\",\"marker\":{\"colorbar\":{\"outlinewidth\":0,\"ticks\":\"\"}}}],\"histogram\":[{\"marker\":{\"pattern\":{\"fillmode\":\"overlay\",\"size\":10,\"solidity\":0.2}},\"type\":\"histogram\"}],\"scattergl\":[{\"type\":\"scattergl\",\"marker\":{\"colorbar\":{\"outlinewidth\":0,\"ticks\":\"\"}}}],\"scatter3d\":[{\"type\":\"scatter3d\",\"line\":{\"colorbar\":{\"outlinewidth\":0,\"ticks\":\"\"}},\"marker\":{\"colorbar\":{\"outlinewidth\":0,\"ticks\":\"\"}}}],\"scattermapbox\":[{\"type\":\"scattermapbox\",\"marker\":{\"colorbar\":{\"outlinewidth\":0,\"ticks\":\"\"}}}],\"scatterternary\":[{\"type\":\"scatterternary\",\"marker\":{\"colorbar\":{\"outlinewidth\":0,\"ticks\":\"\"}}}],\"scattercarpet\":[{\"type\":\"scattercarpet\",\"marker\":{\"colorbar\":{\"outlinewidth\":0,\"ticks\":\"\"}}}],\"carpet\":[{\"aaxis\":{\"endlinecolor\":\"#2a3f5f\",\"gridcolor\":\"white\",\"linecolor\":\"white\",\"minorgridcolor\":\"white\",\"startlinecolor\":\"#2a3f5f\"},\"baxis\":{\"endlinecolor\":\"#2a3f5f\",\"gridcolor\":\"white\",\"linecolor\":\"white\",\"minorgridcolor\":\"white\",\"startlinecolor\":\"#2a3f5f\"},\"type\":\"carpet\"}],\"table\":[{\"cells\":{\"fill\":{\"color\":\"#EBF0F8\"},\"line\":{\"color\":\"white\"}},\"header\":{\"fill\":{\"color\":\"#C8D4E3\"},\"line\":{\"color\":\"white\"}},\"type\":\"table\"}],\"barpolar\":[{\"marker\":{\"line\":{\"color\":\"#E5ECF6\",\"width\":0.5},\"pattern\":{\"fillmode\":\"overlay\",\"size\":10,\"solidity\":0.2}},\"type\":\"barpolar\"}],\"pie\":[{\"automargin\":true,\"type\":\"pie\"}]},\"layout\":{\"autotypenumbers\":\"strict\",\"colorway\":[\"#636efa\",\"#EF553B\",\"#00cc96\",\"#ab63fa\",\"#FFA15A\",\"#19d3f3\",\"#FF6692\",\"#B6E880\",\"#FF97FF\",\"#FECB52\"],\"font\":{\"color\":\"#2a3f5f\"},\"hovermode\":\"closest\",\"hoverlabel\":{\"align\":\"left\"},\"paper_bgcolor\":\"white\",\"plot_bgcolor\":\"#E5ECF6\",\"polar\":{\"bgcolor\":\"#E5ECF6\",\"angularaxis\":{\"gridcolor\":\"white\",\"linecolor\":\"white\",\"ticks\":\"\"},\"radialaxis\":{\"gridcolor\":\"white\",\"linecolor\":\"white\",\"ticks\":\"\"}},\"ternary\":{\"bgcolor\":\"#E5ECF6\",\"aaxis\":{\"gridcolor\":\"white\",\"linecolor\":\"white\",\"ticks\":\"\"},\"baxis\":{\"gridcolor\":\"white\",\"linecolor\":\"white\",\"ticks\":\"\"},\"caxis\":{\"gridcolor\":\"white\",\"linecolor\":\"white\",\"ticks\":\"\"}},\"coloraxis\":{\"colorbar\":{\"outlinewidth\":0,\"ticks\":\"\"}},\"colorscale\":{\"sequential\":[[0.0,\"#0d0887\"],[0.1111111111111111,\"#46039f\"],[0.2222222222222222,\"#7201a8\"],[0.3333333333333333,\"#9c179e\"],[0.4444444444444444,\"#bd3786\"],[0.5555555555555556,\"#d8576b\"],[0.6666666666666666,\"#ed7953\"],[0.7777777777777778,\"#fb9f3a\"],[0.8888888888888888,\"#fdca26\"],[1.0,\"#f0f921\"]],\"sequentialminus\":[[0.0,\"#0d0887\"],[0.1111111111111111,\"#46039f\"],[0.2222222222222222,\"#7201a8\"],[0.3333333333333333,\"#9c179e\"],[0.4444444444444444,\"#bd3786\"],[0.5555555555555556,\"#d8576b\"],[0.6666666666666666,\"#ed7953\"],[0.7777777777777778,\"#fb9f3a\"],[0.8888888888888888,\"#fdca26\"],[1.0,\"#f0f921\"]],\"diverging\":[[0,\"#8e0152\"],[0.1,\"#c51b7d\"],[0.2,\"#de77ae\"],[0.3,\"#f1b6da\"],[0.4,\"#fde0ef\"],[0.5,\"#f7f7f7\"],[0.6,\"#e6f5d0\"],[0.7,\"#b8e186\"],[0.8,\"#7fbc41\"],[0.9,\"#4d9221\"],[1,\"#276419\"]]},\"xaxis\":{\"gridcolor\":\"white\",\"linecolor\":\"white\",\"ticks\":\"\",\"title\":{\"standoff\":15},\"zerolinecolor\":\"white\",\"automargin\":true,\"zerolinewidth\":2},\"yaxis\":{\"gridcolor\":\"white\",\"linecolor\":\"white\",\"ticks\":\"\",\"title\":{\"standoff\":15},\"zerolinecolor\":\"white\",\"automargin\":true,\"zerolinewidth\":2},\"scene\":{\"xaxis\":{\"backgroundcolor\":\"#E5ECF6\",\"gridcolor\":\"white\",\"linecolor\":\"white\",\"showbackground\":true,\"ticks\":\"\",\"zerolinecolor\":\"white\",\"gridwidth\":2},\"yaxis\":{\"backgroundcolor\":\"#E5ECF6\",\"gridcolor\":\"white\",\"linecolor\":\"white\",\"showbackground\":true,\"ticks\":\"\",\"zerolinecolor\":\"white\",\"gridwidth\":2},\"zaxis\":{\"backgroundcolor\":\"#E5ECF6\",\"gridcolor\":\"white\",\"linecolor\":\"white\",\"showbackground\":true,\"ticks\":\"\",\"zerolinecolor\":\"white\",\"gridwidth\":2}},\"shapedefaults\":{\"line\":{\"color\":\"#2a3f5f\"}},\"annotationdefaults\":{\"arrowcolor\":\"#2a3f5f\",\"arrowhead\":0,\"arrowwidth\":1},\"geo\":{\"bgcolor\":\"white\",\"landcolor\":\"#E5ECF6\",\"subunitcolor\":\"white\",\"showland\":true,\"showlakes\":true,\"lakecolor\":\"white\"},\"title\":{\"x\":0.05},\"mapbox\":{\"style\":\"light\"}}},\"xaxis\":{\"title\":{\"text\":\"Length\"}},\"yaxis\":{\"title\":{\"text\":\"Width\"}},\"title\":{\"text\":\"Clusters\",\"x\":0.5}},                        {\"responsive\": true}                    ).then(function(){\n",
              "                            \n",
              "var gd = document.getElementById('def5d956-c905-4c98-b90e-e0982b97afbe');\n",
              "var x = new MutationObserver(function (mutations, observer) {{\n",
              "        var display = window.getComputedStyle(gd).display;\n",
              "        if (!display || display === 'none') {{\n",
              "            console.log([gd, 'removed!']);\n",
              "            Plotly.purge(gd);\n",
              "            observer.disconnect();\n",
              "        }}\n",
              "}});\n",
              "\n",
              "// Listen for the removal of the full notebook cells\n",
              "var notebookContainer = gd.closest('#notebook-container');\n",
              "if (notebookContainer) {{\n",
              "    x.observe(notebookContainer, {childList: true});\n",
              "}}\n",
              "\n",
              "// Listen for the clearing of the current output cell\n",
              "var outputEl = gd.closest('.output');\n",
              "if (outputEl) {{\n",
              "    x.observe(outputEl, {childList: true});\n",
              "}}\n",
              "\n",
              "                        })                };                            </script>        </div>\n",
              "</body>\n",
              "</html>"
            ]
          },
          "metadata": {}
        }
      ]
    },
    {
      "cell_type": "markdown",
      "source": [
        "## Creating function for data visualization"
      ],
      "metadata": {
        "id": "SD1CX1rvVUDr"
      }
    },
    {
      "cell_type": "code",
      "source": [
        "def create_graphic(X, y, color, X_centroid, y_centroid):\n",
        "\n",
        "  graphic = px.scatter(x = X, \n",
        "                       y = y, \n",
        "                       color = color)\n",
        "  graphic_centroid = px.scatter(x = X_centroid,\n",
        "                                y = y_centroid)\n",
        "  graphic_final = go.Figure(data=graphic.data + graphic_centroid.data)\n",
        "  graphic_final.update_xaxes(title_text='Length')\n",
        "  graphic_final.update_yaxes(title_text='Width')\n",
        "  graphic_final.update_layout(title_text='Clusters', title_x=0.5)\n",
        "  graphic_final.show()\n"
      ],
      "metadata": {
        "id": "gB47KID_Vbtt"
      },
      "execution_count": 98,
      "outputs": []
    },
    {
      "cell_type": "markdown",
      "source": [
        "### Executing the function for petals"
      ],
      "metadata": {
        "id": "1klv8nrbWBax"
      }
    },
    {
      "cell_type": "code",
      "source": [
        "X = X_petal[:,0]\n",
        "y = X_petal[:,1]\n",
        "color = label_cluster_petal\n",
        "X_centroid = centroids_petal[:,0]\n",
        "y_centroid = centroids_petal[:,1]\n",
        "\n",
        "create_graphic(X, y, color, X_centroid, y_centroid)"
      ],
      "metadata": {
        "colab": {
          "base_uri": "https://localhost:8080/",
          "height": 542
        },
        "id": "TXwpOJdgWE1I",
        "outputId": "d38fbc93-5745-402a-b9a2-064bbaa971a8"
      },
      "execution_count": 99,
      "outputs": [
        {
          "output_type": "display_data",
          "data": {
            "text/html": [
              "<html>\n",
              "<head><meta charset=\"utf-8\" /></head>\n",
              "<body>\n",
              "    <div>            <script src=\"https://cdnjs.cloudflare.com/ajax/libs/mathjax/2.7.5/MathJax.js?config=TeX-AMS-MML_SVG\"></script><script type=\"text/javascript\">if (window.MathJax && window.MathJax.Hub && window.MathJax.Hub.Config) {window.MathJax.Hub.Config({SVG: {font: \"STIX-Web\"}});}</script>                <script type=\"text/javascript\">window.PlotlyConfig = {MathJaxConfig: 'local'};</script>\n",
              "        <script src=\"https://cdn.plot.ly/plotly-2.18.2.min.js\"></script>                <div id=\"e820fe6b-dcf8-4315-ac3b-0ae8df3ffa92\" class=\"plotly-graph-div\" style=\"height:525px; width:100%;\"></div>            <script type=\"text/javascript\">                                    window.PLOTLYENV=window.PLOTLYENV || {};                                    if (document.getElementById(\"e820fe6b-dcf8-4315-ac3b-0ae8df3ffa92\")) {                    Plotly.newPlot(                        \"e820fe6b-dcf8-4315-ac3b-0ae8df3ffa92\",                        [{\"hovertemplate\":\"x=%{x}<br>y=%{y}<br>color=%{marker.color}<extra></extra>\",\"legendgroup\":\"\",\"marker\":{\"color\":[0,0,0,0,0,0,0,0,0,0,0,0,0,0,0,0,0,0,0,0,0,0,0,0,0,0,0,0,0,0,0,0,0,0,0,0,0,0,0,0,0,0,0,0,0,0,0,0,0,0,2,2,2,2,2,2,2,2,2,2,2,2,2,2,2,2,2,2,2,2,1,2,2,2,2,2,2,1,2,2,2,2,2,2,2,2,2,2,2,2,2,2,2,2,2,2,2,2,2,2,1,1,1,1,1,1,2,1,1,1,1,1,1,1,1,1,1,1,1,2,1,1,1,1,1,1,1,1,1,1,1,1,1,2,2,1,1,1,1,1,1,1,1,1,1,1,1,1,1,1],\"coloraxis\":\"coloraxis\",\"symbol\":\"circle\"},\"mode\":\"markers\",\"name\":\"\",\"orientation\":\"v\",\"showlegend\":false,\"x\":[-1.3412724047598314,-1.3412724047598314,-1.3981381087490836,-1.284406700770579,-1.3412724047598314,-1.1706752927920745,-1.3412724047598314,-1.284406700770579,-1.3412724047598314,-1.284406700770579,-1.284406700770579,-1.2275409967813267,-1.3412724047598314,-1.5118695167275884,-1.4550038127383362,-1.284406700770579,-1.3981381087490836,-1.3412724047598314,-1.1706752927920745,-1.284406700770579,-1.1706752927920745,-1.284406700770579,-1.5687352207168408,-1.1706752927920745,-1.05694388481357,-1.2275409967813267,-1.2275409967813267,-1.284406700770579,-1.3412724047598314,-1.2275409967813267,-1.2275409967813267,-1.284406700770579,-1.284406700770579,-1.3412724047598314,-1.284406700770579,-1.4550038127383362,-1.3981381087490836,-1.284406700770579,-1.3981381087490836,-1.284406700770579,-1.3981381087490836,-1.3981381087490836,-1.3981381087490836,-1.2275409967813267,-1.05694388481357,-1.3412724047598314,-1.2275409967813267,-1.3412724047598314,-1.284406700770579,-1.3412724047598314,0.5352958268854957,0.4215644189069909,0.6490272348640005,0.13723589896072927,0.4784301228962431,0.4215644189069909,0.5352958268854957,-0.26082402896403717,0.4784301228962431,0.08037019497147688,-0.1470926209855324,0.250967306939234,0.13723589896072927,0.5352958268854957,-0.09022691699628003,0.3646987149177388,0.4215644189069909,0.19410160294998138,0.4215644189069909,0.08037019497147688,0.5921615308747479,0.13723589896072927,0.6490272348640005,0.5352958268854957,0.30783301092848614,0.3646987149177388,0.5921615308747479,0.7058929388532527,0.4215644189069909,-0.1470926209855324,0.02350449098222449,-0.03336121300702764,0.08037019497147688,0.7627586428425047,0.4215644189069909,0.4215644189069909,0.5352958268854957,0.3646987149177388,0.19410160294998138,0.13723589896072927,0.3646987149177388,0.4784301228962431,0.13723589896072927,-0.26082402896403717,0.250967306939234,0.250967306939234,0.250967306939234,0.30783301092848614,-0.43142114093179407,0.19410160294998138,1.274549978745776,0.7627586428425047,1.2176842747565237,1.0470871627887663,1.1608185707672711,1.6157442026812898,0.4215644189069909,1.4451470907135329,1.1608185707672711,1.331415682735028,0.7627586428425047,0.8764900508210095,0.9902214587995143,0.7058929388532527,0.7627586428425047,0.8764900508210095,0.9902214587995143,1.6726099066705424,1.7863413146490472,0.7058929388532527,1.103952866778019,0.6490272348640005,1.6726099066705424,0.6490272348640005,1.103952866778019,1.274549978745776,0.5921615308747479,0.6490272348640005,1.0470871627887663,1.1608185707672711,1.331415682735028,1.5020127947027855,1.0470871627887663,0.7627586428425047,1.0470871627887663,1.331415682735028,1.0470871627887663,0.9902214587995143,0.5921615308747479,0.9333557548102621,1.0470871627887663,0.7627586428425047,0.7627586428425047,1.2176842747565237,1.103952866778019,0.8196243468317573,0.7058929388532527,0.8196243468317573,0.9333557548102621,0.7627586428425047],\"xaxis\":\"x\",\"y\":[-1.3129767272601454,-1.3129767272601454,-1.3129767272601454,-1.3129767272601454,-1.3129767272601454,-1.0500307872213979,-1.1815037572407716,-1.3129767272601454,-1.3129767272601454,-1.4444496972795189,-1.3129767272601454,-1.3129767272601454,-1.4444496972795189,-1.4444496972795189,-1.3129767272601454,-1.0500307872213979,-1.0500307872213979,-1.1815037572407716,-1.1815037572407716,-1.1815037572407716,-1.3129767272601454,-1.0500307872213979,-1.3129767272601454,-0.9185578172020242,-1.3129767272601454,-1.3129767272601454,-1.0500307872213979,-1.3129767272601454,-1.3129767272601454,-1.3129767272601454,-1.3129767272601454,-1.0500307872213979,-1.4444496972795189,-1.3129767272601454,-1.4444496972795189,-1.3129767272601454,-1.3129767272601454,-1.4444496972795189,-1.3129767272601454,-1.3129767272601454,-1.1815037572407716,-1.1815037572407716,-1.3129767272601454,-0.7870848471826506,-1.0500307872213979,-1.1815037572407716,-1.3129767272601454,-1.3129767272601454,-1.3129767272601454,-1.3129767272601454,0.2646989129723388,0.3961718829917126,0.3961718829917126,0.13322594295296525,0.3961718829917126,0.13322594295296525,0.5276448530110863,-0.2611929671051558,0.13322594295296525,0.2646989129723388,-0.2611929671051558,0.3961718829917126,-0.2611929671051558,0.2646989129723388,0.13322594295296525,0.2646989129723388,0.3961718829917126,-0.2611929671051558,0.3961718829917126,-0.12971999708578205,0.7905907930498337,0.13322594295296525,0.3961718829917126,0.001752972933591456,0.13322594295296525,0.2646989129723388,0.2646989129723388,0.6591178230304598,0.3961718829917126,-0.2611929671051558,-0.12971999708578205,-0.2611929671051558,0.001752972933591456,0.5276448530110863,0.3961718829917126,0.5276448530110863,0.3961718829917126,0.13322594295296525,0.13322594295296525,0.13322594295296525,0.001752972933591456,0.2646989129723388,0.001752972933591456,-0.2611929671051558,0.13322594295296525,0.001752972933591456,0.13322594295296525,0.13322594295296525,-0.12971999708578205,0.13322594295296525,1.7109015831854495,0.9220637630692072,1.1850097031079547,0.7905907930498337,1.3164826731273285,1.1850097031079547,0.6591178230304598,0.7905907930498337,0.7905907930498337,1.7109015831854495,1.053536733088581,0.9220637630692072,1.1850097031079547,1.053536733088581,1.5794286131660755,1.4479556431467018,0.7905907930498337,1.3164826731273285,1.4479556431467018,0.3961718829917126,1.4479556431467018,1.053536733088581,1.053536733088581,0.7905907930498337,1.1850097031079547,0.7905907930498337,0.7905907930498337,0.7905907930498337,1.1850097031079547,0.5276448530110863,0.9220637630692072,1.053536733088581,1.3164826731273285,0.3961718829917126,0.2646989129723388,1.4479556431467018,1.5794286131660755,0.7905907930498337,0.7905907930498337,1.1850097031079547,1.5794286131660755,1.4479556431467018,0.9220637630692072,1.4479556431467018,1.7109015831854495,1.4479556431467018,0.9220637630692072,1.053536733088581,1.4479556431467018,0.7905907930498337],\"yaxis\":\"y\",\"type\":\"scatter\"},{\"hovertemplate\":\"x=%{x}<br>y=%{y}<extra></extra>\",\"legendgroup\":\"\",\"marker\":{\"color\":\"#636efa\",\"symbol\":\"circle\"},\"mode\":\"markers\",\"name\":\"\",\"orientation\":\"v\",\"showlegend\":false,\"x\":[-1.3048783542067108,1.0281319281256824,0.3056458684673612],\"xaxis\":\"x\",\"y\":[-1.2551286204516217,1.127490278724478,0.16609418545780852],\"yaxis\":\"y\",\"type\":\"scatter\"}],                        {\"template\":{\"data\":{\"histogram2dcontour\":[{\"type\":\"histogram2dcontour\",\"colorbar\":{\"outlinewidth\":0,\"ticks\":\"\"},\"colorscale\":[[0.0,\"#0d0887\"],[0.1111111111111111,\"#46039f\"],[0.2222222222222222,\"#7201a8\"],[0.3333333333333333,\"#9c179e\"],[0.4444444444444444,\"#bd3786\"],[0.5555555555555556,\"#d8576b\"],[0.6666666666666666,\"#ed7953\"],[0.7777777777777778,\"#fb9f3a\"],[0.8888888888888888,\"#fdca26\"],[1.0,\"#f0f921\"]]}],\"choropleth\":[{\"type\":\"choropleth\",\"colorbar\":{\"outlinewidth\":0,\"ticks\":\"\"}}],\"histogram2d\":[{\"type\":\"histogram2d\",\"colorbar\":{\"outlinewidth\":0,\"ticks\":\"\"},\"colorscale\":[[0.0,\"#0d0887\"],[0.1111111111111111,\"#46039f\"],[0.2222222222222222,\"#7201a8\"],[0.3333333333333333,\"#9c179e\"],[0.4444444444444444,\"#bd3786\"],[0.5555555555555556,\"#d8576b\"],[0.6666666666666666,\"#ed7953\"],[0.7777777777777778,\"#fb9f3a\"],[0.8888888888888888,\"#fdca26\"],[1.0,\"#f0f921\"]]}],\"heatmap\":[{\"type\":\"heatmap\",\"colorbar\":{\"outlinewidth\":0,\"ticks\":\"\"},\"colorscale\":[[0.0,\"#0d0887\"],[0.1111111111111111,\"#46039f\"],[0.2222222222222222,\"#7201a8\"],[0.3333333333333333,\"#9c179e\"],[0.4444444444444444,\"#bd3786\"],[0.5555555555555556,\"#d8576b\"],[0.6666666666666666,\"#ed7953\"],[0.7777777777777778,\"#fb9f3a\"],[0.8888888888888888,\"#fdca26\"],[1.0,\"#f0f921\"]]}],\"heatmapgl\":[{\"type\":\"heatmapgl\",\"colorbar\":{\"outlinewidth\":0,\"ticks\":\"\"},\"colorscale\":[[0.0,\"#0d0887\"],[0.1111111111111111,\"#46039f\"],[0.2222222222222222,\"#7201a8\"],[0.3333333333333333,\"#9c179e\"],[0.4444444444444444,\"#bd3786\"],[0.5555555555555556,\"#d8576b\"],[0.6666666666666666,\"#ed7953\"],[0.7777777777777778,\"#fb9f3a\"],[0.8888888888888888,\"#fdca26\"],[1.0,\"#f0f921\"]]}],\"contourcarpet\":[{\"type\":\"contourcarpet\",\"colorbar\":{\"outlinewidth\":0,\"ticks\":\"\"}}],\"contour\":[{\"type\":\"contour\",\"colorbar\":{\"outlinewidth\":0,\"ticks\":\"\"},\"colorscale\":[[0.0,\"#0d0887\"],[0.1111111111111111,\"#46039f\"],[0.2222222222222222,\"#7201a8\"],[0.3333333333333333,\"#9c179e\"],[0.4444444444444444,\"#bd3786\"],[0.5555555555555556,\"#d8576b\"],[0.6666666666666666,\"#ed7953\"],[0.7777777777777778,\"#fb9f3a\"],[0.8888888888888888,\"#fdca26\"],[1.0,\"#f0f921\"]]}],\"surface\":[{\"type\":\"surface\",\"colorbar\":{\"outlinewidth\":0,\"ticks\":\"\"},\"colorscale\":[[0.0,\"#0d0887\"],[0.1111111111111111,\"#46039f\"],[0.2222222222222222,\"#7201a8\"],[0.3333333333333333,\"#9c179e\"],[0.4444444444444444,\"#bd3786\"],[0.5555555555555556,\"#d8576b\"],[0.6666666666666666,\"#ed7953\"],[0.7777777777777778,\"#fb9f3a\"],[0.8888888888888888,\"#fdca26\"],[1.0,\"#f0f921\"]]}],\"mesh3d\":[{\"type\":\"mesh3d\",\"colorbar\":{\"outlinewidth\":0,\"ticks\":\"\"}}],\"scatter\":[{\"fillpattern\":{\"fillmode\":\"overlay\",\"size\":10,\"solidity\":0.2},\"type\":\"scatter\"}],\"parcoords\":[{\"type\":\"parcoords\",\"line\":{\"colorbar\":{\"outlinewidth\":0,\"ticks\":\"\"}}}],\"scatterpolargl\":[{\"type\":\"scatterpolargl\",\"marker\":{\"colorbar\":{\"outlinewidth\":0,\"ticks\":\"\"}}}],\"bar\":[{\"error_x\":{\"color\":\"#2a3f5f\"},\"error_y\":{\"color\":\"#2a3f5f\"},\"marker\":{\"line\":{\"color\":\"#E5ECF6\",\"width\":0.5},\"pattern\":{\"fillmode\":\"overlay\",\"size\":10,\"solidity\":0.2}},\"type\":\"bar\"}],\"scattergeo\":[{\"type\":\"scattergeo\",\"marker\":{\"colorbar\":{\"outlinewidth\":0,\"ticks\":\"\"}}}],\"scatterpolar\":[{\"type\":\"scatterpolar\",\"marker\":{\"colorbar\":{\"outlinewidth\":0,\"ticks\":\"\"}}}],\"histogram\":[{\"marker\":{\"pattern\":{\"fillmode\":\"overlay\",\"size\":10,\"solidity\":0.2}},\"type\":\"histogram\"}],\"scattergl\":[{\"type\":\"scattergl\",\"marker\":{\"colorbar\":{\"outlinewidth\":0,\"ticks\":\"\"}}}],\"scatter3d\":[{\"type\":\"scatter3d\",\"line\":{\"colorbar\":{\"outlinewidth\":0,\"ticks\":\"\"}},\"marker\":{\"colorbar\":{\"outlinewidth\":0,\"ticks\":\"\"}}}],\"scattermapbox\":[{\"type\":\"scattermapbox\",\"marker\":{\"colorbar\":{\"outlinewidth\":0,\"ticks\":\"\"}}}],\"scatterternary\":[{\"type\":\"scatterternary\",\"marker\":{\"colorbar\":{\"outlinewidth\":0,\"ticks\":\"\"}}}],\"scattercarpet\":[{\"type\":\"scattercarpet\",\"marker\":{\"colorbar\":{\"outlinewidth\":0,\"ticks\":\"\"}}}],\"carpet\":[{\"aaxis\":{\"endlinecolor\":\"#2a3f5f\",\"gridcolor\":\"white\",\"linecolor\":\"white\",\"minorgridcolor\":\"white\",\"startlinecolor\":\"#2a3f5f\"},\"baxis\":{\"endlinecolor\":\"#2a3f5f\",\"gridcolor\":\"white\",\"linecolor\":\"white\",\"minorgridcolor\":\"white\",\"startlinecolor\":\"#2a3f5f\"},\"type\":\"carpet\"}],\"table\":[{\"cells\":{\"fill\":{\"color\":\"#EBF0F8\"},\"line\":{\"color\":\"white\"}},\"header\":{\"fill\":{\"color\":\"#C8D4E3\"},\"line\":{\"color\":\"white\"}},\"type\":\"table\"}],\"barpolar\":[{\"marker\":{\"line\":{\"color\":\"#E5ECF6\",\"width\":0.5},\"pattern\":{\"fillmode\":\"overlay\",\"size\":10,\"solidity\":0.2}},\"type\":\"barpolar\"}],\"pie\":[{\"automargin\":true,\"type\":\"pie\"}]},\"layout\":{\"autotypenumbers\":\"strict\",\"colorway\":[\"#636efa\",\"#EF553B\",\"#00cc96\",\"#ab63fa\",\"#FFA15A\",\"#19d3f3\",\"#FF6692\",\"#B6E880\",\"#FF97FF\",\"#FECB52\"],\"font\":{\"color\":\"#2a3f5f\"},\"hovermode\":\"closest\",\"hoverlabel\":{\"align\":\"left\"},\"paper_bgcolor\":\"white\",\"plot_bgcolor\":\"#E5ECF6\",\"polar\":{\"bgcolor\":\"#E5ECF6\",\"angularaxis\":{\"gridcolor\":\"white\",\"linecolor\":\"white\",\"ticks\":\"\"},\"radialaxis\":{\"gridcolor\":\"white\",\"linecolor\":\"white\",\"ticks\":\"\"}},\"ternary\":{\"bgcolor\":\"#E5ECF6\",\"aaxis\":{\"gridcolor\":\"white\",\"linecolor\":\"white\",\"ticks\":\"\"},\"baxis\":{\"gridcolor\":\"white\",\"linecolor\":\"white\",\"ticks\":\"\"},\"caxis\":{\"gridcolor\":\"white\",\"linecolor\":\"white\",\"ticks\":\"\"}},\"coloraxis\":{\"colorbar\":{\"outlinewidth\":0,\"ticks\":\"\"}},\"colorscale\":{\"sequential\":[[0.0,\"#0d0887\"],[0.1111111111111111,\"#46039f\"],[0.2222222222222222,\"#7201a8\"],[0.3333333333333333,\"#9c179e\"],[0.4444444444444444,\"#bd3786\"],[0.5555555555555556,\"#d8576b\"],[0.6666666666666666,\"#ed7953\"],[0.7777777777777778,\"#fb9f3a\"],[0.8888888888888888,\"#fdca26\"],[1.0,\"#f0f921\"]],\"sequentialminus\":[[0.0,\"#0d0887\"],[0.1111111111111111,\"#46039f\"],[0.2222222222222222,\"#7201a8\"],[0.3333333333333333,\"#9c179e\"],[0.4444444444444444,\"#bd3786\"],[0.5555555555555556,\"#d8576b\"],[0.6666666666666666,\"#ed7953\"],[0.7777777777777778,\"#fb9f3a\"],[0.8888888888888888,\"#fdca26\"],[1.0,\"#f0f921\"]],\"diverging\":[[0,\"#8e0152\"],[0.1,\"#c51b7d\"],[0.2,\"#de77ae\"],[0.3,\"#f1b6da\"],[0.4,\"#fde0ef\"],[0.5,\"#f7f7f7\"],[0.6,\"#e6f5d0\"],[0.7,\"#b8e186\"],[0.8,\"#7fbc41\"],[0.9,\"#4d9221\"],[1,\"#276419\"]]},\"xaxis\":{\"gridcolor\":\"white\",\"linecolor\":\"white\",\"ticks\":\"\",\"title\":{\"standoff\":15},\"zerolinecolor\":\"white\",\"automargin\":true,\"zerolinewidth\":2},\"yaxis\":{\"gridcolor\":\"white\",\"linecolor\":\"white\",\"ticks\":\"\",\"title\":{\"standoff\":15},\"zerolinecolor\":\"white\",\"automargin\":true,\"zerolinewidth\":2},\"scene\":{\"xaxis\":{\"backgroundcolor\":\"#E5ECF6\",\"gridcolor\":\"white\",\"linecolor\":\"white\",\"showbackground\":true,\"ticks\":\"\",\"zerolinecolor\":\"white\",\"gridwidth\":2},\"yaxis\":{\"backgroundcolor\":\"#E5ECF6\",\"gridcolor\":\"white\",\"linecolor\":\"white\",\"showbackground\":true,\"ticks\":\"\",\"zerolinecolor\":\"white\",\"gridwidth\":2},\"zaxis\":{\"backgroundcolor\":\"#E5ECF6\",\"gridcolor\":\"white\",\"linecolor\":\"white\",\"showbackground\":true,\"ticks\":\"\",\"zerolinecolor\":\"white\",\"gridwidth\":2}},\"shapedefaults\":{\"line\":{\"color\":\"#2a3f5f\"}},\"annotationdefaults\":{\"arrowcolor\":\"#2a3f5f\",\"arrowhead\":0,\"arrowwidth\":1},\"geo\":{\"bgcolor\":\"white\",\"landcolor\":\"#E5ECF6\",\"subunitcolor\":\"white\",\"showland\":true,\"showlakes\":true,\"lakecolor\":\"white\"},\"title\":{\"x\":0.05},\"mapbox\":{\"style\":\"light\"}}},\"xaxis\":{\"title\":{\"text\":\"Length\"}},\"yaxis\":{\"title\":{\"text\":\"Width\"}},\"title\":{\"text\":\"Clusters\",\"x\":0.5}},                        {\"responsive\": true}                    ).then(function(){\n",
              "                            \n",
              "var gd = document.getElementById('e820fe6b-dcf8-4315-ac3b-0ae8df3ffa92');\n",
              "var x = new MutationObserver(function (mutations, observer) {{\n",
              "        var display = window.getComputedStyle(gd).display;\n",
              "        if (!display || display === 'none') {{\n",
              "            console.log([gd, 'removed!']);\n",
              "            Plotly.purge(gd);\n",
              "            observer.disconnect();\n",
              "        }}\n",
              "}});\n",
              "\n",
              "// Listen for the removal of the full notebook cells\n",
              "var notebookContainer = gd.closest('#notebook-container');\n",
              "if (notebookContainer) {{\n",
              "    x.observe(notebookContainer, {childList: true});\n",
              "}}\n",
              "\n",
              "// Listen for the clearing of the current output cell\n",
              "var outputEl = gd.closest('.output');\n",
              "if (outputEl) {{\n",
              "    x.observe(outputEl, {childList: true});\n",
              "}}\n",
              "\n",
              "                        })                };                            </script>        </div>\n",
              "</body>\n",
              "</html>"
            ]
          },
          "metadata": {}
        }
      ]
    },
    {
      "cell_type": "markdown",
      "source": [
        "### Executing the function for sepals\n"
      ],
      "metadata": {
        "id": "dXwYpQGNXJVn"
      }
    },
    {
      "cell_type": "code",
      "source": [
        "X = X_sepal[:,0]\n",
        "y = X_sepal[:,1]\n",
        "color = label_cluster_sepal\n",
        "X_centroid = centroids_sepal[:,0]\n",
        "y_centroid = centroids_sepal[:,1]\n",
        "\n",
        "create_graphic(X, y, color, X_centroid, y_centroid)"
      ],
      "metadata": {
        "colab": {
          "base_uri": "https://localhost:8080/",
          "height": 542
        },
        "id": "dm6eEnrFfA0X",
        "outputId": "7e59fd26-5fd6-47be-864c-3167271fe79f"
      },
      "execution_count": 100,
      "outputs": [
        {
          "output_type": "display_data",
          "data": {
            "text/html": [
              "<html>\n",
              "<head><meta charset=\"utf-8\" /></head>\n",
              "<body>\n",
              "    <div>            <script src=\"https://cdnjs.cloudflare.com/ajax/libs/mathjax/2.7.5/MathJax.js?config=TeX-AMS-MML_SVG\"></script><script type=\"text/javascript\">if (window.MathJax && window.MathJax.Hub && window.MathJax.Hub.Config) {window.MathJax.Hub.Config({SVG: {font: \"STIX-Web\"}});}</script>                <script type=\"text/javascript\">window.PlotlyConfig = {MathJaxConfig: 'local'};</script>\n",
              "        <script src=\"https://cdn.plot.ly/plotly-2.18.2.min.js\"></script>                <div id=\"99f119f8-32e5-49bf-92c2-da17b24147a7\" class=\"plotly-graph-div\" style=\"height:525px; width:100%;\"></div>            <script type=\"text/javascript\">                                    window.PLOTLYENV=window.PLOTLYENV || {};                                    if (document.getElementById(\"99f119f8-32e5-49bf-92c2-da17b24147a7\")) {                    Plotly.newPlot(                        \"99f119f8-32e5-49bf-92c2-da17b24147a7\",                        [{\"hovertemplate\":\"x=%{x}<br>y=%{y}<br>color=%{marker.color}<extra></extra>\",\"legendgroup\":\"\",\"marker\":{\"color\":[1,1,1,1,1,1,1,1,1,1,1,1,1,1,1,1,1,1,1,1,1,1,1,1,1,1,1,1,1,1,1,1,1,1,1,1,1,1,1,1,1,0,1,1,1,1,1,1,1,1,2,2,2,0,2,0,2,0,2,0,0,0,0,0,0,2,0,0,0,0,2,0,0,0,2,2,2,2,0,0,0,0,0,0,0,1,2,0,0,0,0,0,0,0,0,0,0,0,0,0,2,0,2,0,2,2,0,2,0,2,2,0,2,0,0,2,2,2,2,0,2,0,2,0,2,2,0,0,0,2,2,2,0,0,0,2,2,2,0,2,2,2,0,2,2,2,0,2,2,0],\"coloraxis\":\"coloraxis\",\"symbol\":\"circle\"},\"mode\":\"markers\",\"name\":\"\",\"orientation\":\"v\",\"showlegend\":false,\"x\":[-0.9006811702978088,-1.1430169111851105,-1.3853526520724133,-1.5065205225160652,-1.0218490407414595,-0.537177558966854,-1.5065205225160652,-1.0218490407414595,-1.7488562634033669,-1.1430169111851105,-0.537177558966854,-1.2641847816287624,-1.2641847816287624,-1.870024133847019,-0.05250607719224957,-0.1736739476359004,-0.537177558966854,-0.9006811702978088,-0.1736739476359004,-0.9006811702978088,-0.537177558966854,-0.9006811702978088,-1.5065205225160652,-0.9006811702978088,-1.2641847816287624,-1.0218490407414595,-1.0218490407414595,-0.7795132998541568,-0.7795132998541568,-1.3853526520724133,-1.2641847816287624,-0.537177558966854,-0.7795132998541568,-0.4160096885232032,-1.1430169111851105,-1.0218490407414595,-0.4160096885232032,-1.1430169111851105,-1.7488562634033669,-0.9006811702978088,-1.0218490407414595,-1.6276883929597161,-1.7488562634033669,-1.0218490407414595,-0.9006811702978088,-1.2641847816287624,-0.9006811702978088,-1.5065205225160652,-0.658345429410506,-1.0218490407414595,1.401508368131566,0.6745011454696588,1.2803404976879151,-0.4160096885232032,0.7956690159133096,-0.1736739476359004,0.5533332750260068,-1.1430169111851105,0.9168368863569605,-0.7795132998541568,-1.0218490407414595,0.06866179325140237,0.18982966369505322,0.31099753413870407,-0.29484181807955234,1.0380047568006125,-0.29484181807955234,-0.05250607719224957,0.432165404582356,-0.29484181807955234,0.06866179325140237,0.31099753413870407,0.5533332750260068,0.31099753413870407,0.6745011454696588,0.9168368863569605,1.1591726272442633,1.0380047568006125,0.18982966369505322,-0.1736739476359004,-0.4160096885232032,-0.4160096885232032,-0.05250607719224957,0.18982966369505322,-0.537177558966854,0.18982966369505322,1.0380047568006125,0.5533332750260068,-0.29484181807955234,-0.4160096885232032,-0.4160096885232032,0.31099753413870407,-0.05250607719224957,-1.0218490407414595,-0.29484181807955234,-0.1736739476359004,-0.1736739476359004,0.432165404582356,-0.9006811702978088,-0.1736739476359004,0.5533332750260068,-0.05250607719224957,1.522676238575217,0.5533332750260068,0.7956690159133096,2.1285155907934734,-1.1430169111851105,1.7650119794625196,1.0380047568006125,1.643844109018869,0.7956690159133096,0.6745011454696588,1.1591726272442633,-0.1736739476359004,-0.05250607719224957,0.6745011454696588,0.7956690159133096,2.2496834612371255,2.2496834612371255,0.18982966369505322,1.2803404976879151,-0.29484181807955234,2.2496834612371255,0.5533332750260068,1.0380047568006125,1.643844109018869,0.432165404582356,0.31099753413870407,0.6745011454696588,1.643844109018869,1.8861798499061717,2.4920192021244283,0.6745011454696588,0.5533332750260068,0.31099753413870407,2.2496834612371255,0.5533332750260068,0.6745011454696588,0.18982966369505322,1.2803404976879151,1.0380047568006125,1.2803404976879151,-0.05250607719224957,1.1591726272442633,1.0380047568006125,1.0380047568006125,0.5533332750260068,0.7956690159133096,0.432165404582356,0.06866179325140237],\"xaxis\":\"x\",\"y\":[1.0320572244889565,-0.12495760117130933,0.3378483290927974,0.10644536396074403,1.2634601896210098,1.957669085017169,0.8006542593569032,0.8006542593569032,-0.3563605663033627,0.10644536396074403,1.494863154753063,0.8006542593569032,-0.12495760117130933,-0.12495760117130933,2.1890720501492225,3.1146839106774356,1.957669085017169,1.0320572244889565,1.7262661198851155,1.7262661198851155,0.8006542593569032,1.494863154753063,1.2634601896210098,0.5692512942248498,0.8006542593569032,-0.12495760117130933,0.8006542593569032,1.0320572244889565,0.8006542593569032,0.3378483290927974,0.10644536396074403,0.8006542593569032,2.4204750152812746,2.651877980413329,0.10644536396074403,0.3378483290927974,1.0320572244889565,0.10644536396074403,-0.12495760117130933,0.8006542593569032,1.0320572244889565,-1.7447783570956819,0.3378483290927974,1.0320572244889565,1.7262661198851155,-0.12495760117130933,1.7262661198851155,0.3378483290927974,1.494863154753063,0.5692512942248498,0.3378483290927974,0.3378483290927974,0.10644536396074403,-1.7447783570956819,-0.587763531435416,-0.587763531435416,0.5692512942248498,-1.5133753919636286,-0.3563605663033627,-0.8191664965674684,-2.438987252491841,-0.12495760117130933,-1.9761813222277342,-0.3563605663033627,-0.3563605663033627,0.10644536396074403,-0.12495760117130933,-0.8191664965674684,-1.9761813222277342,-1.281972426831575,0.3378483290927974,-0.587763531435416,-1.281972426831575,-0.587763531435416,-0.3563605663033627,-0.12495760117130933,-0.587763531435416,-0.12495760117130933,-0.3563605663033627,-1.0505694616995218,-1.5133753919636286,-1.5133753919636286,-0.8191664965674684,-0.8191664965674684,-0.12495760117130933,0.8006542593569032,0.10644536396074403,-1.7447783570956819,-0.12495760117130933,-1.281972426831575,-1.0505694616995218,-0.12495760117130933,-1.0505694616995218,-1.7447783570956819,-0.8191664965674684,-0.12495760117130933,-0.3563605663033627,-0.3563605663033627,-1.281972426831575,-0.587763531435416,0.5692512942248498,-0.8191664965674684,-0.12495760117130933,-0.3563605663033627,-0.12495760117130933,-0.12495760117130933,-1.281972426831575,-0.3563605663033627,-1.281972426831575,1.2634601896210098,0.3378483290927974,-0.8191664965674684,-0.12495760117130933,-1.281972426831575,-0.587763531435416,0.3378483290927974,-0.12495760117130933,1.7262661198851155,-1.0505694616995218,-1.9761813222277342,0.3378483290927974,-0.587763531435416,-0.587763531435416,-0.8191664965674684,0.5692512942248498,0.3378483290927974,-0.587763531435416,-0.12495760117130933,-0.587763531435416,-0.12495760117130933,-0.587763531435416,1.7262661198851155,-0.587763531435416,-0.587763531435416,-1.0505694616995218,-0.12495760117130933,0.8006542593569032,0.10644536396074403,-0.12495760117130933,0.10644536396074403,0.10644536396074403,0.10644536396074403,-0.8191664965674684,0.3378483290927974,0.5692512942248498,-0.12495760117130933,-1.281972426831575,-0.12495760117130933,0.8006542593569032,-0.12495760117130933],\"yaxis\":\"y\",\"type\":\"scatter\"},{\"hovertemplate\":\"x=%{x}<br>y=%{y}<extra></extra>\",\"legendgroup\":\"\",\"marker\":{\"color\":\"#636efa\",\"symbol\":\"circle\"},\"mode\":\"markers\",\"name\":\"\",\"orientation\":\"v\",\"showlegend\":false,\"x\":[-0.04825457296615645,-0.978228607381745,1.201440489026933],\"xaxis\":\"x\",\"y\":[-0.8922411171354857,0.8932154454097249,0.14411561409851986],\"yaxis\":\"y\",\"type\":\"scatter\"}],                        {\"template\":{\"data\":{\"histogram2dcontour\":[{\"type\":\"histogram2dcontour\",\"colorbar\":{\"outlinewidth\":0,\"ticks\":\"\"},\"colorscale\":[[0.0,\"#0d0887\"],[0.1111111111111111,\"#46039f\"],[0.2222222222222222,\"#7201a8\"],[0.3333333333333333,\"#9c179e\"],[0.4444444444444444,\"#bd3786\"],[0.5555555555555556,\"#d8576b\"],[0.6666666666666666,\"#ed7953\"],[0.7777777777777778,\"#fb9f3a\"],[0.8888888888888888,\"#fdca26\"],[1.0,\"#f0f921\"]]}],\"choropleth\":[{\"type\":\"choropleth\",\"colorbar\":{\"outlinewidth\":0,\"ticks\":\"\"}}],\"histogram2d\":[{\"type\":\"histogram2d\",\"colorbar\":{\"outlinewidth\":0,\"ticks\":\"\"},\"colorscale\":[[0.0,\"#0d0887\"],[0.1111111111111111,\"#46039f\"],[0.2222222222222222,\"#7201a8\"],[0.3333333333333333,\"#9c179e\"],[0.4444444444444444,\"#bd3786\"],[0.5555555555555556,\"#d8576b\"],[0.6666666666666666,\"#ed7953\"],[0.7777777777777778,\"#fb9f3a\"],[0.8888888888888888,\"#fdca26\"],[1.0,\"#f0f921\"]]}],\"heatmap\":[{\"type\":\"heatmap\",\"colorbar\":{\"outlinewidth\":0,\"ticks\":\"\"},\"colorscale\":[[0.0,\"#0d0887\"],[0.1111111111111111,\"#46039f\"],[0.2222222222222222,\"#7201a8\"],[0.3333333333333333,\"#9c179e\"],[0.4444444444444444,\"#bd3786\"],[0.5555555555555556,\"#d8576b\"],[0.6666666666666666,\"#ed7953\"],[0.7777777777777778,\"#fb9f3a\"],[0.8888888888888888,\"#fdca26\"],[1.0,\"#f0f921\"]]}],\"heatmapgl\":[{\"type\":\"heatmapgl\",\"colorbar\":{\"outlinewidth\":0,\"ticks\":\"\"},\"colorscale\":[[0.0,\"#0d0887\"],[0.1111111111111111,\"#46039f\"],[0.2222222222222222,\"#7201a8\"],[0.3333333333333333,\"#9c179e\"],[0.4444444444444444,\"#bd3786\"],[0.5555555555555556,\"#d8576b\"],[0.6666666666666666,\"#ed7953\"],[0.7777777777777778,\"#fb9f3a\"],[0.8888888888888888,\"#fdca26\"],[1.0,\"#f0f921\"]]}],\"contourcarpet\":[{\"type\":\"contourcarpet\",\"colorbar\":{\"outlinewidth\":0,\"ticks\":\"\"}}],\"contour\":[{\"type\":\"contour\",\"colorbar\":{\"outlinewidth\":0,\"ticks\":\"\"},\"colorscale\":[[0.0,\"#0d0887\"],[0.1111111111111111,\"#46039f\"],[0.2222222222222222,\"#7201a8\"],[0.3333333333333333,\"#9c179e\"],[0.4444444444444444,\"#bd3786\"],[0.5555555555555556,\"#d8576b\"],[0.6666666666666666,\"#ed7953\"],[0.7777777777777778,\"#fb9f3a\"],[0.8888888888888888,\"#fdca26\"],[1.0,\"#f0f921\"]]}],\"surface\":[{\"type\":\"surface\",\"colorbar\":{\"outlinewidth\":0,\"ticks\":\"\"},\"colorscale\":[[0.0,\"#0d0887\"],[0.1111111111111111,\"#46039f\"],[0.2222222222222222,\"#7201a8\"],[0.3333333333333333,\"#9c179e\"],[0.4444444444444444,\"#bd3786\"],[0.5555555555555556,\"#d8576b\"],[0.6666666666666666,\"#ed7953\"],[0.7777777777777778,\"#fb9f3a\"],[0.8888888888888888,\"#fdca26\"],[1.0,\"#f0f921\"]]}],\"mesh3d\":[{\"type\":\"mesh3d\",\"colorbar\":{\"outlinewidth\":0,\"ticks\":\"\"}}],\"scatter\":[{\"fillpattern\":{\"fillmode\":\"overlay\",\"size\":10,\"solidity\":0.2},\"type\":\"scatter\"}],\"parcoords\":[{\"type\":\"parcoords\",\"line\":{\"colorbar\":{\"outlinewidth\":0,\"ticks\":\"\"}}}],\"scatterpolargl\":[{\"type\":\"scatterpolargl\",\"marker\":{\"colorbar\":{\"outlinewidth\":0,\"ticks\":\"\"}}}],\"bar\":[{\"error_x\":{\"color\":\"#2a3f5f\"},\"error_y\":{\"color\":\"#2a3f5f\"},\"marker\":{\"line\":{\"color\":\"#E5ECF6\",\"width\":0.5},\"pattern\":{\"fillmode\":\"overlay\",\"size\":10,\"solidity\":0.2}},\"type\":\"bar\"}],\"scattergeo\":[{\"type\":\"scattergeo\",\"marker\":{\"colorbar\":{\"outlinewidth\":0,\"ticks\":\"\"}}}],\"scatterpolar\":[{\"type\":\"scatterpolar\",\"marker\":{\"colorbar\":{\"outlinewidth\":0,\"ticks\":\"\"}}}],\"histogram\":[{\"marker\":{\"pattern\":{\"fillmode\":\"overlay\",\"size\":10,\"solidity\":0.2}},\"type\":\"histogram\"}],\"scattergl\":[{\"type\":\"scattergl\",\"marker\":{\"colorbar\":{\"outlinewidth\":0,\"ticks\":\"\"}}}],\"scatter3d\":[{\"type\":\"scatter3d\",\"line\":{\"colorbar\":{\"outlinewidth\":0,\"ticks\":\"\"}},\"marker\":{\"colorbar\":{\"outlinewidth\":0,\"ticks\":\"\"}}}],\"scattermapbox\":[{\"type\":\"scattermapbox\",\"marker\":{\"colorbar\":{\"outlinewidth\":0,\"ticks\":\"\"}}}],\"scatterternary\":[{\"type\":\"scatterternary\",\"marker\":{\"colorbar\":{\"outlinewidth\":0,\"ticks\":\"\"}}}],\"scattercarpet\":[{\"type\":\"scattercarpet\",\"marker\":{\"colorbar\":{\"outlinewidth\":0,\"ticks\":\"\"}}}],\"carpet\":[{\"aaxis\":{\"endlinecolor\":\"#2a3f5f\",\"gridcolor\":\"white\",\"linecolor\":\"white\",\"minorgridcolor\":\"white\",\"startlinecolor\":\"#2a3f5f\"},\"baxis\":{\"endlinecolor\":\"#2a3f5f\",\"gridcolor\":\"white\",\"linecolor\":\"white\",\"minorgridcolor\":\"white\",\"startlinecolor\":\"#2a3f5f\"},\"type\":\"carpet\"}],\"table\":[{\"cells\":{\"fill\":{\"color\":\"#EBF0F8\"},\"line\":{\"color\":\"white\"}},\"header\":{\"fill\":{\"color\":\"#C8D4E3\"},\"line\":{\"color\":\"white\"}},\"type\":\"table\"}],\"barpolar\":[{\"marker\":{\"line\":{\"color\":\"#E5ECF6\",\"width\":0.5},\"pattern\":{\"fillmode\":\"overlay\",\"size\":10,\"solidity\":0.2}},\"type\":\"barpolar\"}],\"pie\":[{\"automargin\":true,\"type\":\"pie\"}]},\"layout\":{\"autotypenumbers\":\"strict\",\"colorway\":[\"#636efa\",\"#EF553B\",\"#00cc96\",\"#ab63fa\",\"#FFA15A\",\"#19d3f3\",\"#FF6692\",\"#B6E880\",\"#FF97FF\",\"#FECB52\"],\"font\":{\"color\":\"#2a3f5f\"},\"hovermode\":\"closest\",\"hoverlabel\":{\"align\":\"left\"},\"paper_bgcolor\":\"white\",\"plot_bgcolor\":\"#E5ECF6\",\"polar\":{\"bgcolor\":\"#E5ECF6\",\"angularaxis\":{\"gridcolor\":\"white\",\"linecolor\":\"white\",\"ticks\":\"\"},\"radialaxis\":{\"gridcolor\":\"white\",\"linecolor\":\"white\",\"ticks\":\"\"}},\"ternary\":{\"bgcolor\":\"#E5ECF6\",\"aaxis\":{\"gridcolor\":\"white\",\"linecolor\":\"white\",\"ticks\":\"\"},\"baxis\":{\"gridcolor\":\"white\",\"linecolor\":\"white\",\"ticks\":\"\"},\"caxis\":{\"gridcolor\":\"white\",\"linecolor\":\"white\",\"ticks\":\"\"}},\"coloraxis\":{\"colorbar\":{\"outlinewidth\":0,\"ticks\":\"\"}},\"colorscale\":{\"sequential\":[[0.0,\"#0d0887\"],[0.1111111111111111,\"#46039f\"],[0.2222222222222222,\"#7201a8\"],[0.3333333333333333,\"#9c179e\"],[0.4444444444444444,\"#bd3786\"],[0.5555555555555556,\"#d8576b\"],[0.6666666666666666,\"#ed7953\"],[0.7777777777777778,\"#fb9f3a\"],[0.8888888888888888,\"#fdca26\"],[1.0,\"#f0f921\"]],\"sequentialminus\":[[0.0,\"#0d0887\"],[0.1111111111111111,\"#46039f\"],[0.2222222222222222,\"#7201a8\"],[0.3333333333333333,\"#9c179e\"],[0.4444444444444444,\"#bd3786\"],[0.5555555555555556,\"#d8576b\"],[0.6666666666666666,\"#ed7953\"],[0.7777777777777778,\"#fb9f3a\"],[0.8888888888888888,\"#fdca26\"],[1.0,\"#f0f921\"]],\"diverging\":[[0,\"#8e0152\"],[0.1,\"#c51b7d\"],[0.2,\"#de77ae\"],[0.3,\"#f1b6da\"],[0.4,\"#fde0ef\"],[0.5,\"#f7f7f7\"],[0.6,\"#e6f5d0\"],[0.7,\"#b8e186\"],[0.8,\"#7fbc41\"],[0.9,\"#4d9221\"],[1,\"#276419\"]]},\"xaxis\":{\"gridcolor\":\"white\",\"linecolor\":\"white\",\"ticks\":\"\",\"title\":{\"standoff\":15},\"zerolinecolor\":\"white\",\"automargin\":true,\"zerolinewidth\":2},\"yaxis\":{\"gridcolor\":\"white\",\"linecolor\":\"white\",\"ticks\":\"\",\"title\":{\"standoff\":15},\"zerolinecolor\":\"white\",\"automargin\":true,\"zerolinewidth\":2},\"scene\":{\"xaxis\":{\"backgroundcolor\":\"#E5ECF6\",\"gridcolor\":\"white\",\"linecolor\":\"white\",\"showbackground\":true,\"ticks\":\"\",\"zerolinecolor\":\"white\",\"gridwidth\":2},\"yaxis\":{\"backgroundcolor\":\"#E5ECF6\",\"gridcolor\":\"white\",\"linecolor\":\"white\",\"showbackground\":true,\"ticks\":\"\",\"zerolinecolor\":\"white\",\"gridwidth\":2},\"zaxis\":{\"backgroundcolor\":\"#E5ECF6\",\"gridcolor\":\"white\",\"linecolor\":\"white\",\"showbackground\":true,\"ticks\":\"\",\"zerolinecolor\":\"white\",\"gridwidth\":2}},\"shapedefaults\":{\"line\":{\"color\":\"#2a3f5f\"}},\"annotationdefaults\":{\"arrowcolor\":\"#2a3f5f\",\"arrowhead\":0,\"arrowwidth\":1},\"geo\":{\"bgcolor\":\"white\",\"landcolor\":\"#E5ECF6\",\"subunitcolor\":\"white\",\"showland\":true,\"showlakes\":true,\"lakecolor\":\"white\"},\"title\":{\"x\":0.05},\"mapbox\":{\"style\":\"light\"}}},\"xaxis\":{\"title\":{\"text\":\"Length\"}},\"yaxis\":{\"title\":{\"text\":\"Width\"}},\"title\":{\"text\":\"Clusters\",\"x\":0.5}},                        {\"responsive\": true}                    ).then(function(){\n",
              "                            \n",
              "var gd = document.getElementById('99f119f8-32e5-49bf-92c2-da17b24147a7');\n",
              "var x = new MutationObserver(function (mutations, observer) {{\n",
              "        var display = window.getComputedStyle(gd).display;\n",
              "        if (!display || display === 'none') {{\n",
              "            console.log([gd, 'removed!']);\n",
              "            Plotly.purge(gd);\n",
              "            observer.disconnect();\n",
              "        }}\n",
              "}});\n",
              "\n",
              "// Listen for the removal of the full notebook cells\n",
              "var notebookContainer = gd.closest('#notebook-container');\n",
              "if (notebookContainer) {{\n",
              "    x.observe(notebookContainer, {childList: true});\n",
              "}}\n",
              "\n",
              "// Listen for the clearing of the current output cell\n",
              "var outputEl = gd.closest('.output');\n",
              "if (outputEl) {{\n",
              "    x.observe(outputEl, {childList: true});\n",
              "}}\n",
              "\n",
              "                        })                };                            </script>        </div>\n",
              "</body>\n",
              "</html>"
            ]
          },
          "metadata": {}
        }
      ]
    }
  ]
}